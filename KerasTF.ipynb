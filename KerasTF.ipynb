{
 "cells": [
  {
   "cell_type": "code",
   "execution_count": 1,
   "metadata": {
    "ExecuteTime": {
     "end_time": "2019-01-24T08:32:52.625771Z",
     "start_time": "2019-01-24T08:32:49.434857Z"
    }
   },
   "outputs": [],
   "source": [
    "import feather\n",
    "import re\n",
    "\n",
    "import numpy as np\n",
    "import pandas as pd\n",
    "import seaborn as sns\n",
    "import tensorflow as tf\n",
    "\n",
    "from tensorflow import keras\n",
    "from tensorflow.keras import layers\n",
    "from sklearn import preprocessing"
   ]
  },
  {
   "cell_type": "code",
   "execution_count": 2,
   "metadata": {
    "ExecuteTime": {
     "end_time": "2019-01-24T08:35:01.614756Z",
     "start_time": "2019-01-24T08:32:52.626759Z"
    }
   },
   "outputs": [],
   "source": [
    "train = feather.read_dataframe('NN\\\\train')\n",
    "test = feather.read_dataframe('NN\\\\test')\n",
    "\n",
    "\n",
    "#target = pd.read_csv('target2',header=None,index_col=0)"
   ]
  },
  {
   "cell_type": "code",
   "execution_count": 4,
   "metadata": {
    "ExecuteTime": {
     "end_time": "2019-01-22T10:42:46.081602Z",
     "start_time": "2019-01-22T10:42:46.077596Z"
    }
   },
   "outputs": [],
   "source": [
    "################ NN Data normalization ##########################\n",
    "# concated = pd.concat([train,test],axis=0)\n",
    "\n",
    "# def PProc(df,na_col=True,outliner_col=True):\n",
    "#     def quantile_outliner(df,x):\n",
    "#         Q1 = df[x].quantile(0.25)\n",
    "#         Q3 = df[x].quantile(0.75)\n",
    "#         IQR = (Q3 - Q1)\n",
    "#         return (df[x] < (Q1 - 1.5*IQR)) | (df[x] > (Q3 + 1.5*IQR))\n",
    "    \n",
    "#     df_cols = [x for x in df.columns.values if np.issubdtype(df[x],np.number)]\n",
    "#     cats =  [x for x in df_cols if (re.search('feature_[1-2]$',x) or re.match('last_purchase_month_bins',x) or re.search('modeplus$',x) or re.match('purchase_size_bins',x))] + ['last_payments_month','last_payments_year']\n",
    "#     non_cats = set(df_cols) - set(cats)\n",
    "    \n",
    "#     for x in non_cats:\n",
    "#         NA = df[x].isna()\n",
    "#         if outliner_col:\n",
    "#             df[x+'otlrs'] = quantile_outliner(df,x)\n",
    "            \n",
    "#         if (na_col and NA.sum()):\n",
    "#             df[x+'NAs'] = NA\n",
    "        \n",
    "#         df[x].fillna(df[x].median())\n",
    "#         df[x] = preprocessing.RobustScaler(with_centering=False).fit_transform(df[x][:,None])\n",
    "    \n",
    "#     for x in cats:\n",
    "#         df[x] = df[x].fillna(0).astype(np.int16)\n",
    "#     return pd.get_dummies(df,columns=cats)\n",
    "\n",
    "# concated = PProc(concated)\n",
    "# train,test = concated.iloc[:201917,:],concated.iloc[201917:,:]\n",
    "# del concated\n",
    "# train['target'] = target\n",
    "# feather.write_dataframe(train,'NN\\\\train')\n",
    "# feather.write_dataframe(test,'NN\\\\test')"
   ]
  },
  {
   "cell_type": "code",
   "execution_count": 3,
   "metadata": {
    "ExecuteTime": {
     "end_time": "2019-01-24T08:35:03.304205Z",
     "start_time": "2019-01-24T08:35:01.616742Z"
    }
   },
   "outputs": [],
   "source": [
    "train_dataset = train.sample(frac=0.8)\n",
    "test_dataset = train.drop(train_dataset.index)"
   ]
  },
  {
   "cell_type": "code",
   "execution_count": 4,
   "metadata": {
    "ExecuteTime": {
     "end_time": "2019-01-24T08:35:03.776069Z",
     "start_time": "2019-01-24T08:35:03.306204Z"
    }
   },
   "outputs": [],
   "source": [
    "train_labels = train_dataset.pop('target')\n",
    "test_labels = test_dataset.pop('target')"
   ]
  },
  {
   "cell_type": "code",
   "execution_count": 5,
   "metadata": {
    "ExecuteTime": {
     "end_time": "2019-01-24T08:35:03.907012Z",
     "start_time": "2019-01-24T08:35:03.777054Z"
    }
   },
   "outputs": [],
   "source": [
    "del train"
   ]
  },
  {
   "cell_type": "code",
   "execution_count": 7,
   "metadata": {
    "ExecuteTime": {
     "end_time": "2019-01-24T08:39:25.098762Z",
     "start_time": "2019-01-24T08:39:25.011795Z"
    }
   },
   "outputs": [],
   "source": [
    "to_drop = [x for x in train_dataset.columns.values if not (np.issubdtype(train_dataset[x],np.number) or np.issubdtype(train_dataset[x],np.bool_))]"
   ]
  },
  {
   "cell_type": "code",
   "execution_count": 8,
   "metadata": {
    "ExecuteTime": {
     "end_time": "2019-01-24T08:39:28.374522Z",
     "start_time": "2019-01-24T08:39:27.530792Z"
    }
   },
   "outputs": [],
   "source": [
    "train_dataset.drop(to_drop,axis=1,inplace=True)\n",
    "test_dataset.drop(to_drop,axis=1,inplace=True)"
   ]
  },
  {
   "cell_type": "code",
   "execution_count": 9,
   "metadata": {
    "ExecuteTime": {
     "end_time": "2019-01-24T08:39:30.620870Z",
     "start_time": "2019-01-24T08:39:30.114016Z"
    }
   },
   "outputs": [],
   "source": [
    "test.drop(to_drop,axis=1,inplace=True)"
   ]
  },
  {
   "cell_type": "code",
   "execution_count": 11,
   "metadata": {
    "ExecuteTime": {
     "end_time": "2019-01-24T08:51:44.381111Z",
     "start_time": "2019-01-24T08:51:44.258167Z"
    }
   },
   "outputs": [],
   "source": [
    "def build_model():\n",
    "    model = keras.Sequential(\n",
    "        [layers.Dense(7, activation=tf.nn.relu, input_shape=[len(train_dataset.keys())]),\n",
    "        layers.Dense(3, activation=tf.nn.relu),\n",
    "        layers.Dense(1)])\n",
    "\n",
    "    optimizer = tf.train.AdamOptimizer(learning_rate=0.07)\n",
    "\n",
    "    model.compile(loss='mse',\n",
    "                optimizer=optimizer,\n",
    "                metrics=['mse'])\n",
    "    return model\n",
    "model = build_model()"
   ]
  },
  {
   "cell_type": "code",
   "execution_count": 12,
   "metadata": {
    "ExecuteTime": {
     "end_time": "2019-01-24T08:51:48.632994Z",
     "start_time": "2019-01-24T08:51:46.707095Z"
    },
    "scrolled": true
   },
   "outputs": [],
   "source": [
    "example_batch = train_dataset[:10]\n",
    "example_result = model.predict(example_batch)"
   ]
  },
  {
   "cell_type": "code",
   "execution_count": 14,
   "metadata": {
    "ExecuteTime": {
     "end_time": "2019-01-24T13:57:19.420244Z",
     "start_time": "2019-01-24T08:52:08.410839Z"
    },
    "scrolled": true
   },
   "outputs": [
    {
     "name": "stdout",
     "output_type": "stream",
     "text": [
      "\n",
      "..........\n",
      "..........\n",
      "..........\n",
      "..........\n",
      "..........\n",
      "..........\n",
      "..........\n",
      "..........\n",
      "..........\n",
      "..........\n",
      "..........\n",
      "..........\n",
      "..........\n",
      "..........\n",
      "..........\n",
      "..........\n",
      "..........\n",
      "..........\n",
      "..........\n",
      ".........."
     ]
    }
   ],
   "source": [
    "class PrintDot(keras.callbacks.Callback):\n",
    "  def on_epoch_end(self, epoch, logs):\n",
    "    if epoch % 10 == 0: print('')\n",
    "    print('.', end='')\n",
    "\n",
    "EPOCHS = 200\n",
    "\n",
    "history = model.fit(\n",
    "  train_dataset, train_labels,\n",
    "  epochs=EPOCHS, validation_split = 0.2, verbose=0,\n",
    "  callbacks=[PrintDot()])"
   ]
  },
  {
   "cell_type": "code",
   "execution_count": 15,
   "metadata": {
    "ExecuteTime": {
     "end_time": "2019-01-24T13:57:32.453717Z",
     "start_time": "2019-01-24T13:57:32.085751Z"
    }
   },
   "outputs": [
    {
     "data": {
      "text/html": [
       "<div>\n",
       "<style scoped>\n",
       "    .dataframe tbody tr th:only-of-type {\n",
       "        vertical-align: middle;\n",
       "    }\n",
       "\n",
       "    .dataframe tbody tr th {\n",
       "        vertical-align: top;\n",
       "    }\n",
       "\n",
       "    .dataframe thead th {\n",
       "        text-align: right;\n",
       "    }\n",
       "</style>\n",
       "<table border=\"1\" class=\"dataframe\">\n",
       "  <thead>\n",
       "    <tr style=\"text-align: right;\">\n",
       "      <th></th>\n",
       "      <th>val_loss</th>\n",
       "      <th>val_mean_squared_error</th>\n",
       "      <th>loss</th>\n",
       "      <th>mean_squared_error</th>\n",
       "      <th>epoch</th>\n",
       "    </tr>\n",
       "  </thead>\n",
       "  <tbody>\n",
       "    <tr>\n",
       "      <th>195</th>\n",
       "      <td>15.579203</td>\n",
       "      <td>15.579203</td>\n",
       "      <td>14.724392</td>\n",
       "      <td>14.724392</td>\n",
       "      <td>195</td>\n",
       "    </tr>\n",
       "    <tr>\n",
       "      <th>196</th>\n",
       "      <td>15.562113</td>\n",
       "      <td>15.562113</td>\n",
       "      <td>14.724677</td>\n",
       "      <td>14.724677</td>\n",
       "      <td>196</td>\n",
       "    </tr>\n",
       "    <tr>\n",
       "      <th>197</th>\n",
       "      <td>15.592868</td>\n",
       "      <td>15.592868</td>\n",
       "      <td>14.722557</td>\n",
       "      <td>14.722557</td>\n",
       "      <td>197</td>\n",
       "    </tr>\n",
       "    <tr>\n",
       "      <th>198</th>\n",
       "      <td>15.568722</td>\n",
       "      <td>15.568722</td>\n",
       "      <td>14.723711</td>\n",
       "      <td>14.723711</td>\n",
       "      <td>198</td>\n",
       "    </tr>\n",
       "    <tr>\n",
       "      <th>199</th>\n",
       "      <td>15.618289</td>\n",
       "      <td>15.618289</td>\n",
       "      <td>14.720610</td>\n",
       "      <td>14.720610</td>\n",
       "      <td>199</td>\n",
       "    </tr>\n",
       "  </tbody>\n",
       "</table>\n",
       "</div>"
      ],
      "text/plain": [
       "      val_loss  val_mean_squared_error       loss  mean_squared_error  epoch\n",
       "195  15.579203               15.579203  14.724392           14.724392    195\n",
       "196  15.562113               15.562113  14.724677           14.724677    196\n",
       "197  15.592868               15.592868  14.722557           14.722557    197\n",
       "198  15.568722               15.568722  14.723711           14.723711    198\n",
       "199  15.618289               15.618289  14.720610           14.720610    199"
      ]
     },
     "execution_count": 15,
     "metadata": {},
     "output_type": "execute_result"
    }
   ],
   "source": [
    "hist = pd.DataFrame(history.history)\n",
    "hist['epoch'] = history.epoch\n",
    "hist.tail()"
   ]
  },
  {
   "cell_type": "code",
   "execution_count": 16,
   "metadata": {
    "ExecuteTime": {
     "end_time": "2019-01-24T13:58:11.675742Z",
     "start_time": "2019-01-24T13:58:10.548164Z"
    }
   },
   "outputs": [
    {
     "data": {
      "image/png": "[encoded data removed]",
      "text/plain": [
       "<Figure size 432x288 with 1 Axes>"
      ]
     },
     "metadata": {
      "needs_background": "light"
     },
     "output_type": "display_data"
    }
   ],
   "source": [
    "import matplotlib.pyplot as plt\n",
    "\n",
    "def plot_history(history):\n",
    "  \n",
    "  plt.figure()\n",
    "  plt.xlabel('Epoch')\n",
    "  plt.ylabel('Mean Square Error [$target^2$]')\n",
    "  plt.plot(hist['epoch'], hist['mean_squared_error'],\n",
    "           label='Train Error')\n",
    "  plt.plot(hist['epoch'], hist['val_mean_squared_error'],\n",
    "           label = 'Val Error')\n",
    "  plt.legend()\n",
    "  plt.ylim([0,20])\n",
    "\n",
    "plot_history(history)"
   ]
  },
  {
   "cell_type": "code",
   "execution_count": 17,
   "metadata": {
    "ExecuteTime": {
     "end_time": "2019-01-24T13:59:26.454341Z",
     "start_time": "2019-01-24T13:58:51.259704Z"
    }
   },
   "outputs": [],
   "source": [
    "tl = model.predict(test)"
   ]
  },
  {
   "cell_type": "code",
   "execution_count": 19,
   "metadata": {
    "ExecuteTime": {
     "end_time": "2019-01-24T13:59:48.126716Z",
     "start_time": "2019-01-24T13:59:48.052728Z"
    }
   },
   "outputs": [
    {
     "data": {
      "text/plain": [
       "array([[-0.17875135],\n",
       "       [-0.17875135],\n",
       "       [-0.17875135],\n",
       "       ...,\n",
       "       [-0.17875135],\n",
       "       [-0.17875135],\n",
       "       [-0.17875135]], dtype=float32)"
      ]
     },
     "execution_count": 19,
     "metadata": {},
     "output_type": "execute_result"
    }
   ],
   "source": [
    "tl"
   ]
  },
  {
   "cell_type": "code",
   "execution_count": null,
   "metadata": {},
   "outputs": [],
   "source": []
  }
 ],
 "metadata": {
  "kernelspec": {
   "display_name": "Python 3",
   "language": "python",
   "name": "python3"
  },
  "language_info": {
   "codemirror_mode": {
    "name": "ipython",
    "version": 3
   },
   "file_extension": ".py",
   "mimetype": "text/x-python",
   "name": "python",
   "nbconvert_exporter": "python",
   "pygments_lexer": "ipython3",
   "version": "3.7.1"
  }
 },
 "nbformat": 4,
 "nbformat_minor": 2
}
