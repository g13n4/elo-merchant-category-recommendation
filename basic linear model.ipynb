{
 "cells": [
  {
   "cell_type": "code",
   "execution_count": 54,
   "metadata": {
    "ExecuteTime": {
     "end_time": "2019-02-03T08:38:55.532387Z",
     "start_time": "2019-02-03T08:38:55.529385Z"
    }
   },
   "outputs": [],
   "source": [
    "import feather\n",
    "import re\n",
    "import math\n",
    "\n",
    "import numpy as np\n",
    "import pandas as pd\n",
    "import seaborn as sns\n",
    "\n",
    "from sklearn.linear_model import ElasticNetCV\n",
    "from sklearn import preprocessing\n"
   ]
  },
  {
   "cell_type": "code",
   "execution_count": 69,
   "metadata": {
    "ExecuteTime": {
     "end_time": "2019-02-03T08:56:35.147853Z",
     "start_time": "2019-02-03T08:56:34.513067Z"
    }
   },
   "outputs": [],
   "source": [
    "train = feather.read_dataframe('train')\n",
    "test = feather.read_dataframe('test')"
   ]
  },
  {
   "cell_type": "code",
   "execution_count": 68,
   "metadata": {
    "ExecuteTime": {
     "end_time": "2019-02-03T08:56:30.976202Z",
     "start_time": "2019-02-03T08:56:30.970213Z"
    },
    "run_control": {
     "marked": false
    }
   },
   "outputs": [],
   "source": [
    "def rmse(x,y): return math.sqrt(((x-y)**2).mean())\n",
    "def print_score(m):\n",
    "    res = [rmse(m.predict(X_train), y_train), rmse(m.predict(X_valid), y_valid),\n",
    "                m.score(X_train, y_train), m.score(X_valid, y_valid)]\n",
    "    return res"
   ]
  },
  {
   "cell_type": "code",
   "execution_count": 70,
   "metadata": {
    "ExecuteTime": {
     "end_time": "2019-02-03T08:56:42.032930Z",
     "start_time": "2019-02-03T08:56:41.777999Z"
    },
    "scrolled": true
   },
   "outputs": [],
   "source": [
    "target = pd.read_csv('data\\\\train.csv',usecols=['card_id','target'])"
   ]
  },
  {
   "cell_type": "code",
   "execution_count": 71,
   "metadata": {
    "ExecuteTime": {
     "end_time": "2019-02-03T08:57:14.613592Z",
     "start_time": "2019-02-03T08:56:42.536851Z"
    },
    "scrolled": true
   },
   "outputs": [],
   "source": [
    "train = pd.merge(train,target,how='left',on='card_id')"
   ]
  },
  {
   "cell_type": "code",
   "execution_count": 72,
   "metadata": {
    "ExecuteTime": {
     "end_time": "2019-02-03T08:58:40.204309Z",
     "start_time": "2019-02-03T08:58:38.337893Z"
    }
   },
   "outputs": [],
   "source": [
    "for x in train.columns.values:\n",
    "    if train[x].isna().sum():\n",
    "        train[x]\n",
    "        train[x].fillna(0,inplace=True)\n",
    "        "
   ]
  },
  {
   "cell_type": "code",
   "execution_count": 88,
   "metadata": {
    "ExecuteTime": {
     "end_time": "2019-02-03T09:26:41.193417Z",
     "start_time": "2019-02-03T09:26:41.185428Z"
    }
   },
   "outputs": [
    {
     "data": {
      "text/plain": [
       "0          True\n",
       "1         False\n",
       "2          True\n",
       "3         False\n",
       "4         False\n",
       "5          True\n",
       "6          True\n",
       "7          True\n",
       "8         False\n",
       "9          True\n",
       "10         True\n",
       "11         True\n",
       "12         True\n",
       "13         True\n",
       "14         True\n",
       "15        False\n",
       "16        False\n",
       "17         True\n",
       "18         True\n",
       "19        False\n",
       "20         True\n",
       "21        False\n",
       "22         True\n",
       "23         True\n",
       "24        False\n",
       "25         True\n",
       "26         True\n",
       "27        False\n",
       "28        False\n",
       "29         True\n",
       "          ...  \n",
       "201887    False\n",
       "201888     True\n",
       "201889     True\n",
       "201890     True\n",
       "201891     True\n",
       "201892     True\n",
       "201893    False\n",
       "201894     True\n",
       "201895    False\n",
       "201896     True\n",
       "201897     True\n",
       "201898    False\n",
       "201899    False\n",
       "201900    False\n",
       "201901     True\n",
       "201902    False\n",
       "201903     True\n",
       "201904     True\n",
       "201905    False\n",
       "201906     True\n",
       "201907    False\n",
       "201908     True\n",
       "201909     True\n",
       "201910    False\n",
       "201911     True\n",
       "201912     True\n",
       "201913     True\n",
       "201914    False\n",
       "201915     True\n",
       "201916    False\n",
       "Name: agged_all_category_1_sum, Length: 201917, dtype: bool"
      ]
     },
     "execution_count": 88,
     "metadata": {},
     "output_type": "execute_result"
    }
   ],
   "source": [
    "(train.agged_all_category_1_sum == 0) | (train.agged_all_category_1_sum == 1)"
   ]
  },
  {
   "cell_type": "code",
   "execution_count": 73,
   "metadata": {
    "ExecuteTime": {
     "end_time": "2019-02-03T08:59:33.039267Z",
     "start_time": "2019-02-03T08:59:31.049902Z"
    }
   },
   "outputs": [],
   "source": [
    "X_train = train.sample(frac=0.8)\n",
    "X_valid = train.drop(X_train.index)"
   ]
  },
  {
   "cell_type": "code",
   "execution_count": 74,
   "metadata": {
    "ExecuteTime": {
     "end_time": "2019-02-03T08:59:35.897750Z",
     "start_time": "2019-02-03T08:59:35.409907Z"
    }
   },
   "outputs": [],
   "source": [
    "y_train = X_train.pop('target')\n",
    "y_valid = X_valid.pop('target')"
   ]
  },
  {
   "cell_type": "code",
   "execution_count": 76,
   "metadata": {
    "ExecuteTime": {
     "end_time": "2019-02-03T09:01:39.118300Z",
     "start_time": "2019-02-03T09:01:39.114301Z"
    }
   },
   "outputs": [],
   "source": [
    "regr = ElasticNetCV(l1_ratio=0.6,max_iter=20000,cv=5,n_jobs=4,normalize=True,verbose=True)"
   ]
  },
  {
   "cell_type": "code",
   "execution_count": 77,
   "metadata": {
    "ExecuteTime": {
     "end_time": "2019-02-03T09:01:51.122014Z",
     "start_time": "2019-02-03T09:01:51.082040Z"
    }
   },
   "outputs": [],
   "source": [
    "to_drop = [x for x in train.columns.values if not (np.issubdtype(train[x],np.number) or np.issubdtype(train[x],np.bool_))]"
   ]
  },
  {
   "cell_type": "code",
   "execution_count": 78,
   "metadata": {
    "ExecuteTime": {
     "end_time": "2019-02-03T09:02:29.915562Z",
     "start_time": "2019-02-03T09:02:29.441304Z"
    }
   },
   "outputs": [],
   "source": [
    "X_train = X_train.drop(to_drop,axis=1)\n",
    "X_valid = X_valid.drop(to_drop,axis=1)"
   ]
  },
  {
   "cell_type": "code",
   "execution_count": 80,
   "metadata": {
    "ExecuteTime": {
     "end_time": "2019-02-03T09:03:05.361618Z",
     "start_time": "2019-02-03T09:03:03.946073Z"
    }
   },
   "outputs": [],
   "source": [
    "X_train = pd.get_dummies(X_train,prefix=['end1','end2','end3'],columns=['feature_1','feature_2','feature_3'])\n",
    "X_valid = pd.get_dummies(X_valid,prefix=['end1','end2','end3'],columns=['feature_1','feature_2','feature_3'])"
   ]
  },
  {
   "cell_type": "code",
   "execution_count": 82,
   "metadata": {
    "ExecuteTime": {
     "end_time": "2019-02-03T09:05:23.204951Z",
     "start_time": "2019-02-03T09:03:55.333466Z"
    }
   },
   "outputs": [
    {
     "name": "stderr",
     "output_type": "stream",
     "text": [
      "[Parallel(n_jobs=4)]: Using backend ThreadingBackend with 4 concurrent workers.\n",
      "....................................................................................................................................................................................................................................................................................................................................................................................................................................................................................................................[Parallel(n_jobs=4)]: Done   5 out of   5 | elapsed:  1.3min finished\n"
     ]
    },
    {
     "data": {
      "text/plain": [
       "ElasticNetCV(alphas=None, copy_X=True, cv=5, eps=0.001, fit_intercept=True,\n",
       "       l1_ratio=0.5, max_iter=10000, n_alphas=100, n_jobs=4,\n",
       "       normalize=True, positive=False, precompute='auto',\n",
       "       random_state=None, selection='cyclic', tol=0.0001, verbose=True)"
      ]
     },
     "execution_count": 82,
     "metadata": {},
     "output_type": "execute_result"
    }
   ],
   "source": [
    "regr.fit(X_train,y_train)"
   ]
  },
  {
   "cell_type": "code",
   "execution_count": 83,
   "metadata": {
    "ExecuteTime": {
     "end_time": "2019-02-03T09:05:25.974121Z",
     "start_time": "2019-02-03T09:05:23.226944Z"
    }
   },
   "outputs": [
    {
     "data": {
      "text/plain": [
       "[3.800481804112205,\n",
       " 3.828057320007405,\n",
       " 0.023504117850329687,\n",
       " 0.02085049134702288]"
      ]
     },
     "execution_count": 83,
     "metadata": {},
     "output_type": "execute_result"
    }
   ],
   "source": [
    "print_score(regr)"
   ]
  },
  {
   "cell_type": "code",
   "execution_count": 85,
   "metadata": {
    "ExecuteTime": {
     "end_time": "2019-02-03T09:18:00.633109Z",
     "start_time": "2019-02-03T09:08:36.315639Z"
    }
   },
   "outputs": [
    {
     "name": "stdout",
     "output_type": "stream",
     "text": [
      "[3.8137381119069205, 3.8392074870018233, 0.016680085194192285, 0.01513815224285364] 1\n",
      "[3.810905823332559, 3.836661986191616, 0.0181400761610645, 0.016443700612284617] 2\n",
      "[3.8078155243538854, 3.8339839320783837, 0.01973182920531924, 0.017816298828510768] 3\n",
      "[3.803827295439745, 3.8306978306996484, 0.021784179931903624, 0.019499233397662907] 4\n",
      "[3.800481804112205, 3.828057320007405, 0.023504117850329687, 0.02085049134702288] 5\n",
      "[3.7973280793101485, 3.825711476521272, 0.025124081676563104, 0.022050174383127952] 6\n",
      "[3.7969934161867895, 3.82506646757714, 0.025295908095705477, 0.02237990819264757] 7\n",
      "[3.797918299184855, 3.8247401333486684, 0.024821007595546174, 0.022546711719904855] 8\n",
      "[3.797488419897993, 3.823201307345791, 0.02504175248368712, 0.023333080415373852] 9\n"
     ]
    }
   ],
   "source": [
    "for x in range(1,10):\n",
    "    regr = ElasticNetCV(l1_ratio=0.1 * x,max_iter=20000,cv=5,n_jobs=4,normalize=True)\n",
    "    regr.fit(X_train,y_train)\n",
    "    print(print_score(regr),x)"
   ]
  },
  {
   "cell_type": "code",
   "execution_count": null,
   "metadata": {},
   "outputs": [],
   "source": []
  }
 ],
 "metadata": {
  "kernelspec": {
   "display_name": "Python 3",
   "language": "python",
   "name": "python3"
  },
  "language_info": {
   "codemirror_mode": {
    "name": "ipython",
    "version": 3
   },
   "file_extension": ".py",
   "mimetype": "text/x-python",
   "name": "python",
   "nbconvert_exporter": "python",
   "pygments_lexer": "ipython3",
   "version": "3.7.1"
  }
 },
 "nbformat": 4,
 "nbformat_minor": 2
}
