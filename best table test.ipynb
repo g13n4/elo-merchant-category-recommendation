{
 "cells": [
  {
   "cell_type": "code",
   "execution_count": 1,
   "metadata": {
    "ExecuteTime": {
     "end_time": "2019-02-18T20:13:03.112026Z",
     "start_time": "2019-02-18T20:13:02.399643Z"
    }
   },
   "outputs": [],
   "source": [
    "import numpy as np \n",
    "import pandas as pd \n",
    "import matplotlib.pyplot as plt\n",
    "import seaborn as sns\n",
    "import lightgbm as lgb\n",
    "from sklearn.model_selection import KFold\n",
    "import warnings\n",
    "import time\n",
    "import sys\n",
    "import datetime\n",
    "import matplotlib.pyplot as plt\n",
    "import seaborn as sns\n",
    "from sklearn.metrics import mean_squared_error\n",
    "warnings.simplefilter(action='ignore', category=FutureWarning)\n",
    "pd.set_option('display.max_columns', 500)\n",
    "from scipy.stats import mode\n",
    "from scipy import stats\n",
    "import feather\n",
    "import re\n",
    "import warnings\n",
    "import random\n",
    "\n",
    "from IPython.display import clear_output"
   ]
  },
  {
   "cell_type": "code",
   "execution_count": 107,
   "metadata": {
    "ExecuteTime": {
     "end_time": "2019-02-19T00:17:55.012665Z",
     "start_time": "2019-02-19T00:17:54.742753Z"
    }
   },
   "outputs": [],
   "source": [
    "target = pd.read_csv('target2',header=None,index_col=0)"
   ]
  },
  {
   "cell_type": "code",
   "execution_count": 3,
   "metadata": {
    "ExecuteTime": {
     "end_time": "2019-02-18T20:13:04.898598Z",
     "start_time": "2019-02-18T20:13:04.732663Z"
    }
   },
   "outputs": [],
   "source": [
    "train = feather.read_dataframe('best_table\\\\train')\n",
    "test = feather.read_dataframe('best_table\\\\test')"
   ]
  },
  {
   "cell_type": "code",
   "execution_count": 5,
   "metadata": {
    "ExecuteTime": {
     "end_time": "2019-02-15T21:27:46.717759Z",
     "start_time": "2019-02-15T21:27:46.713759Z"
    }
   },
   "outputs": [],
   "source": [
    "features = [c for c in train.columns if c not in ['card_id', 'first_active_month','last_active_month']]\n",
    "categorical_feats = [x for x in features if (re.search('modeplus',x) or re.search('feature_',x))] + [x for x in features if re.search('[th]_cat1_[^s]',x)]"
   ]
  },
  {
   "cell_type": "code",
   "execution_count": 8,
   "metadata": {
    "ExecuteTime": {
     "end_time": "2019-02-18T20:17:27.734030Z",
     "start_time": "2019-02-18T20:17:25.919610Z"
    },
    "scrolled": true
   },
   "outputs": [
    {
     "name": "stdout",
     "output_type": "stream",
     "text": [
      "fold n°0\n"
     ]
    },
    {
     "ename": "LightGBMError",
     "evalue": "Multiclass objective and metrics don't match",
     "output_type": "error",
     "traceback": [
      "\u001b[1;31m---------------------------------------------------------------------------\u001b[0m",
      "\u001b[1;31mLightGBMError\u001b[0m                             Traceback (most recent call last)",
      "\u001b[1;32m<ipython-input-8-0ea4e9a18f18>\u001b[0m in \u001b[0;36m<module>\u001b[1;34m\u001b[0m\n\u001b[0;32m     45\u001b[0m \u001b[1;33m\u001b[0m\u001b[0m\n\u001b[0;32m     46\u001b[0m \u001b[1;33m\u001b[0m\u001b[0m\n\u001b[1;32m---> 47\u001b[1;33m     \u001b[0mclf\u001b[0m \u001b[1;33m=\u001b[0m \u001b[0mlgb\u001b[0m\u001b[1;33m.\u001b[0m\u001b[0mtrain\u001b[0m\u001b[1;33m(\u001b[0m\u001b[0mparam\u001b[0m\u001b[1;33m,\u001b[0m \u001b[0mtrn_data\u001b[0m\u001b[1;33m,\u001b[0m\u001b[1;36m10000\u001b[0m\u001b[1;33m,\u001b[0m \u001b[0mvalid_sets\u001b[0m \u001b[1;33m=\u001b[0m \u001b[1;33m[\u001b[0m\u001b[0mtrn_data\u001b[0m\u001b[1;33m,\u001b[0m \u001b[0mval_data\u001b[0m\u001b[1;33m]\u001b[0m\u001b[1;33m,\u001b[0m \u001b[0mverbose_eval\u001b[0m\u001b[1;33m=\u001b[0m\u001b[1;36m250\u001b[0m\u001b[1;33m,\u001b[0m \u001b[0mearly_stopping_rounds\u001b[0m \u001b[1;33m=\u001b[0m \u001b[1;36m200\u001b[0m\u001b[1;33m)\u001b[0m\u001b[1;33m\u001b[0m\u001b[1;33m\u001b[0m\u001b[0m\n\u001b[0m\u001b[0;32m     48\u001b[0m \u001b[1;33m\u001b[0m\u001b[0m\n\u001b[0;32m     49\u001b[0m     \u001b[0moof\u001b[0m\u001b[1;33m[\u001b[0m\u001b[0mval_idx\u001b[0m\u001b[1;33m]\u001b[0m \u001b[1;33m=\u001b[0m \u001b[0mclf\u001b[0m\u001b[1;33m.\u001b[0m\u001b[0mpredict\u001b[0m\u001b[1;33m(\u001b[0m\u001b[0mtrain\u001b[0m\u001b[1;33m.\u001b[0m\u001b[0miloc\u001b[0m\u001b[1;33m[\u001b[0m\u001b[0mval_idx\u001b[0m\u001b[1;33m]\u001b[0m\u001b[1;33m[\u001b[0m\u001b[0mfeatures\u001b[0m\u001b[1;33m]\u001b[0m\u001b[1;33m,\u001b[0m \u001b[0mnum_iteration\u001b[0m\u001b[1;33m=\u001b[0m\u001b[0mclf\u001b[0m\u001b[1;33m.\u001b[0m\u001b[0mbest_iteration\u001b[0m\u001b[1;33m)\u001b[0m\u001b[1;33m\u001b[0m\u001b[1;33m\u001b[0m\u001b[0m\n",
      "\u001b[1;32m~\\Anaconda3\\envs\\ml\\lib\\site-packages\\lightgbm\\engine.py\u001b[0m in \u001b[0;36mtrain\u001b[1;34m(params, train_set, num_boost_round, valid_sets, valid_names, fobj, feval, init_model, feature_name, categorical_feature, early_stopping_rounds, evals_result, verbose_eval, learning_rates, keep_training_booster, callbacks)\u001b[0m\n\u001b[0;32m    193\u001b[0m     \u001b[1;31m# construct booster\u001b[0m\u001b[1;33m\u001b[0m\u001b[1;33m\u001b[0m\u001b[1;33m\u001b[0m\u001b[0m\n\u001b[0;32m    194\u001b[0m     \u001b[1;32mtry\u001b[0m\u001b[1;33m:\u001b[0m\u001b[1;33m\u001b[0m\u001b[1;33m\u001b[0m\u001b[0m\n\u001b[1;32m--> 195\u001b[1;33m         \u001b[0mbooster\u001b[0m \u001b[1;33m=\u001b[0m \u001b[0mBooster\u001b[0m\u001b[1;33m(\u001b[0m\u001b[0mparams\u001b[0m\u001b[1;33m=\u001b[0m\u001b[0mparams\u001b[0m\u001b[1;33m,\u001b[0m \u001b[0mtrain_set\u001b[0m\u001b[1;33m=\u001b[0m\u001b[0mtrain_set\u001b[0m\u001b[1;33m)\u001b[0m\u001b[1;33m\u001b[0m\u001b[1;33m\u001b[0m\u001b[0m\n\u001b[0m\u001b[0;32m    196\u001b[0m         \u001b[1;32mif\u001b[0m \u001b[0mis_valid_contain_train\u001b[0m\u001b[1;33m:\u001b[0m\u001b[1;33m\u001b[0m\u001b[1;33m\u001b[0m\u001b[0m\n\u001b[0;32m    197\u001b[0m             \u001b[0mbooster\u001b[0m\u001b[1;33m.\u001b[0m\u001b[0mset_train_data_name\u001b[0m\u001b[1;33m(\u001b[0m\u001b[0mtrain_data_name\u001b[0m\u001b[1;33m)\u001b[0m\u001b[1;33m\u001b[0m\u001b[1;33m\u001b[0m\u001b[0m\n",
      "\u001b[1;32m~\\Anaconda3\\envs\\ml\\lib\\site-packages\\lightgbm\\basic.py\u001b[0m in \u001b[0;36m__init__\u001b[1;34m(self, params, train_set, model_file, silent)\u001b[0m\n\u001b[0;32m   1508\u001b[0m             \u001b[0mself\u001b[0m\u001b[1;33m.\u001b[0m\u001b[0mhandle\u001b[0m \u001b[1;33m=\u001b[0m \u001b[0mctypes\u001b[0m\u001b[1;33m.\u001b[0m\u001b[0mc_void_p\u001b[0m\u001b[1;33m(\u001b[0m\u001b[1;33m)\u001b[0m\u001b[1;33m\u001b[0m\u001b[1;33m\u001b[0m\u001b[0m\n\u001b[0;32m   1509\u001b[0m             _safe_call(_LIB.LGBM_BoosterCreate(\n\u001b[1;32m-> 1510\u001b[1;33m                 \u001b[0mtrain_set\u001b[0m\u001b[1;33m.\u001b[0m\u001b[0mconstruct\u001b[0m\u001b[1;33m(\u001b[0m\u001b[1;33m)\u001b[0m\u001b[1;33m.\u001b[0m\u001b[0mhandle\u001b[0m\u001b[1;33m,\u001b[0m\u001b[1;33m\u001b[0m\u001b[1;33m\u001b[0m\u001b[0m\n\u001b[0m\u001b[0;32m   1511\u001b[0m                 \u001b[0mc_str\u001b[0m\u001b[1;33m(\u001b[0m\u001b[0mparams_str\u001b[0m\u001b[1;33m)\u001b[0m\u001b[1;33m,\u001b[0m\u001b[1;33m\u001b[0m\u001b[1;33m\u001b[0m\u001b[0m\n\u001b[0;32m   1512\u001b[0m                 ctypes.byref(self.handle)))\n",
      "\u001b[1;32m~\\Anaconda3\\envs\\ml\\lib\\site-packages\\lightgbm\\basic.py\u001b[0m in \u001b[0;36mconstruct\u001b[1;34m(self)\u001b[0m\n\u001b[0;32m    985\u001b[0m                                 \u001b[0minit_score\u001b[0m\u001b[1;33m=\u001b[0m\u001b[0mself\u001b[0m\u001b[1;33m.\u001b[0m\u001b[0minit_score\u001b[0m\u001b[1;33m,\u001b[0m \u001b[0mpredictor\u001b[0m\u001b[1;33m=\u001b[0m\u001b[0mself\u001b[0m\u001b[1;33m.\u001b[0m\u001b[0m_predictor\u001b[0m\u001b[1;33m,\u001b[0m\u001b[1;33m\u001b[0m\u001b[1;33m\u001b[0m\u001b[0m\n\u001b[0;32m    986\u001b[0m                                 \u001b[0msilent\u001b[0m\u001b[1;33m=\u001b[0m\u001b[0mself\u001b[0m\u001b[1;33m.\u001b[0m\u001b[0msilent\u001b[0m\u001b[1;33m,\u001b[0m \u001b[0mfeature_name\u001b[0m\u001b[1;33m=\u001b[0m\u001b[0mself\u001b[0m\u001b[1;33m.\u001b[0m\u001b[0mfeature_name\u001b[0m\u001b[1;33m,\u001b[0m\u001b[1;33m\u001b[0m\u001b[1;33m\u001b[0m\u001b[0m\n\u001b[1;32m--> 987\u001b[1;33m                                 categorical_feature=self.categorical_feature, params=self.params)\n\u001b[0m\u001b[0;32m    988\u001b[0m             \u001b[1;32mif\u001b[0m \u001b[0mself\u001b[0m\u001b[1;33m.\u001b[0m\u001b[0mfree_raw_data\u001b[0m\u001b[1;33m:\u001b[0m\u001b[1;33m\u001b[0m\u001b[1;33m\u001b[0m\u001b[0m\n\u001b[0;32m    989\u001b[0m                 \u001b[0mself\u001b[0m\u001b[1;33m.\u001b[0m\u001b[0mdata\u001b[0m \u001b[1;33m=\u001b[0m \u001b[1;32mNone\u001b[0m\u001b[1;33m\u001b[0m\u001b[1;33m\u001b[0m\u001b[0m\n",
      "\u001b[1;32m~\\Anaconda3\\envs\\ml\\lib\\site-packages\\lightgbm\\basic.py\u001b[0m in \u001b[0;36m_lazy_init\u001b[1;34m(self, data, label, reference, weight, group, init_score, predictor, silent, feature_name, categorical_feature, params)\u001b[0m\n\u001b[0;32m    779\u001b[0m             \u001b[0mself\u001b[0m\u001b[1;33m.\u001b[0m\u001b[0m__init_from_csc\u001b[0m\u001b[1;33m(\u001b[0m\u001b[0mdata\u001b[0m\u001b[1;33m,\u001b[0m \u001b[0mparams_str\u001b[0m\u001b[1;33m,\u001b[0m \u001b[0mref_dataset\u001b[0m\u001b[1;33m)\u001b[0m\u001b[1;33m\u001b[0m\u001b[1;33m\u001b[0m\u001b[0m\n\u001b[0;32m    780\u001b[0m         \u001b[1;32melif\u001b[0m \u001b[0misinstance\u001b[0m\u001b[1;33m(\u001b[0m\u001b[0mdata\u001b[0m\u001b[1;33m,\u001b[0m \u001b[0mnp\u001b[0m\u001b[1;33m.\u001b[0m\u001b[0mndarray\u001b[0m\u001b[1;33m)\u001b[0m\u001b[1;33m:\u001b[0m\u001b[1;33m\u001b[0m\u001b[1;33m\u001b[0m\u001b[0m\n\u001b[1;32m--> 781\u001b[1;33m             \u001b[0mself\u001b[0m\u001b[1;33m.\u001b[0m\u001b[0m__init_from_np2d\u001b[0m\u001b[1;33m(\u001b[0m\u001b[0mdata\u001b[0m\u001b[1;33m,\u001b[0m \u001b[0mparams_str\u001b[0m\u001b[1;33m,\u001b[0m \u001b[0mref_dataset\u001b[0m\u001b[1;33m)\u001b[0m\u001b[1;33m\u001b[0m\u001b[1;33m\u001b[0m\u001b[0m\n\u001b[0m\u001b[0;32m    782\u001b[0m         \u001b[1;32melif\u001b[0m \u001b[0misinstance\u001b[0m\u001b[1;33m(\u001b[0m\u001b[0mdata\u001b[0m\u001b[1;33m,\u001b[0m \u001b[0mlist\u001b[0m\u001b[1;33m)\u001b[0m \u001b[1;32mand\u001b[0m \u001b[0mlen\u001b[0m\u001b[1;33m(\u001b[0m\u001b[0mdata\u001b[0m\u001b[1;33m)\u001b[0m \u001b[1;33m>\u001b[0m \u001b[1;36m0\u001b[0m \u001b[1;32mand\u001b[0m \u001b[0mall\u001b[0m\u001b[1;33m(\u001b[0m\u001b[0misinstance\u001b[0m\u001b[1;33m(\u001b[0m\u001b[0mx\u001b[0m\u001b[1;33m,\u001b[0m \u001b[0mnp\u001b[0m\u001b[1;33m.\u001b[0m\u001b[0mndarray\u001b[0m\u001b[1;33m)\u001b[0m \u001b[1;32mfor\u001b[0m \u001b[0mx\u001b[0m \u001b[1;32min\u001b[0m \u001b[0mdata\u001b[0m\u001b[1;33m)\u001b[0m\u001b[1;33m:\u001b[0m\u001b[1;33m\u001b[0m\u001b[1;33m\u001b[0m\u001b[0m\n\u001b[0;32m    783\u001b[0m             \u001b[0mself\u001b[0m\u001b[1;33m.\u001b[0m\u001b[0m__init_from_list_np2d\u001b[0m\u001b[1;33m(\u001b[0m\u001b[0mdata\u001b[0m\u001b[1;33m,\u001b[0m \u001b[0mparams_str\u001b[0m\u001b[1;33m,\u001b[0m \u001b[0mref_dataset\u001b[0m\u001b[1;33m)\u001b[0m\u001b[1;33m\u001b[0m\u001b[1;33m\u001b[0m\u001b[0m\n",
      "\u001b[1;32m~\\Anaconda3\\envs\\ml\\lib\\site-packages\\lightgbm\\basic.py\u001b[0m in \u001b[0;36m__init_from_np2d\u001b[1;34m(self, mat, params_str, ref_dataset)\u001b[0m\n\u001b[0;32m    841\u001b[0m             \u001b[0mc_str\u001b[0m\u001b[1;33m(\u001b[0m\u001b[0mparams_str\u001b[0m\u001b[1;33m)\u001b[0m\u001b[1;33m,\u001b[0m\u001b[1;33m\u001b[0m\u001b[1;33m\u001b[0m\u001b[0m\n\u001b[0;32m    842\u001b[0m             \u001b[0mref_dataset\u001b[0m\u001b[1;33m,\u001b[0m\u001b[1;33m\u001b[0m\u001b[1;33m\u001b[0m\u001b[0m\n\u001b[1;32m--> 843\u001b[1;33m             ctypes.byref(self.handle)))\n\u001b[0m\u001b[0;32m    844\u001b[0m         \u001b[1;32mreturn\u001b[0m \u001b[0mself\u001b[0m\u001b[1;33m\u001b[0m\u001b[1;33m\u001b[0m\u001b[0m\n\u001b[0;32m    845\u001b[0m \u001b[1;33m\u001b[0m\u001b[0m\n",
      "\u001b[1;32m~\\Anaconda3\\envs\\ml\\lib\\site-packages\\lightgbm\\basic.py\u001b[0m in \u001b[0;36m_safe_call\u001b[1;34m(ret)\u001b[0m\n\u001b[0;32m     44\u001b[0m     \"\"\"\n\u001b[0;32m     45\u001b[0m     \u001b[1;32mif\u001b[0m \u001b[0mret\u001b[0m \u001b[1;33m!=\u001b[0m \u001b[1;36m0\u001b[0m\u001b[1;33m:\u001b[0m\u001b[1;33m\u001b[0m\u001b[1;33m\u001b[0m\u001b[0m\n\u001b[1;32m---> 46\u001b[1;33m         \u001b[1;32mraise\u001b[0m \u001b[0mLightGBMError\u001b[0m\u001b[1;33m(\u001b[0m\u001b[0mdecode_string\u001b[0m\u001b[1;33m(\u001b[0m\u001b[0m_LIB\u001b[0m\u001b[1;33m.\u001b[0m\u001b[0mLGBM_GetLastError\u001b[0m\u001b[1;33m(\u001b[0m\u001b[1;33m)\u001b[0m\u001b[1;33m)\u001b[0m\u001b[1;33m)\u001b[0m\u001b[1;33m\u001b[0m\u001b[1;33m\u001b[0m\u001b[0m\n\u001b[0m\u001b[0;32m     47\u001b[0m \u001b[1;33m\u001b[0m\u001b[0m\n\u001b[0;32m     48\u001b[0m \u001b[1;33m\u001b[0m\u001b[0m\n",
      "\u001b[1;31mLightGBMError\u001b[0m: Multiclass objective and metrics don't match"
     ]
    }
   ],
   "source": [
    "warnings.filterwarnings(\"ignore\")\n",
    "param = {\n",
    "        'num_leaves': 111, #checked\n",
    "         'num_threads': 4,\n",
    "         'max_bin': 170, #checked 170\n",
    "         'min_data_in_leaf': 100, #checked 100\n",
    "         'objective':'regression',\n",
    "         'max_depth': 9, #checked\n",
    "         'tree_learner':'data',\n",
    "         'learning_rate': 0.07,\n",
    "         \"boosting\": \"gbdt\", #dart, gbdt\n",
    "         \"feature_fraction\": 0.9, #checked\n",
    "         \"bagging_freq\": 5, #5\n",
    "         \"bagging_fraction\": 0.9, #checked\n",
    "         \"bagging_seed\": 11,\n",
    "         \"metric\": 'rmse',\n",
    "         \"lambda_l1\": 0.26, #checked 26\n",
    "#            'lambda_l2': 0.3, #checked\n",
    "         \"random_state\": 77,\n",
    "         \"verbosity\": -1,\n",
    "         \"device\":\"gpu\",\n",
    "         'gpu_device_id':0,\n",
    "         'gpu_platform_id':1,\n",
    "         'gpu_use_dp':True,\n",
    "        }\n",
    "\n",
    "\n",
    "folds = KFold(n_splits=5, shuffle=True, random_state=15)\n",
    "oof = np.zeros(len(train))\n",
    "predictions1 = np.zeros(len(test))\n",
    "start = time.time()\n",
    "feature_importance_df = pd.DataFrame()\n",
    "\n",
    "for fold_, (trn_idx, val_idx) in enumerate(folds.split(train.values, target.values)):\n",
    "    print(\"fold n°{}\".format(fold_))\n",
    "\n",
    "    trn_data = lgb.Dataset(train.iloc[trn_idx][features],\n",
    "                           label=target.iloc[trn_idx],\n",
    "                           categorical_feature=categorical_feats\n",
    "                          )\n",
    "    val_data = lgb.Dataset(train.iloc[val_idx][features],\n",
    "                           label=target.iloc[val_idx],\n",
    "                           categorical_feature=categorical_feats\n",
    "                          )\n",
    "\n",
    "\n",
    "    clf = lgb.train(param, trn_data,10000, valid_sets = [trn_data, val_data], verbose_eval=250, early_stopping_rounds = 200)\n",
    "\n",
    "    oof[val_idx] = clf.predict(train.iloc[val_idx][features], num_iteration=clf.best_iteration)\n",
    "\n",
    "    fold_importance_df = pd.DataFrame()\n",
    "    fold_importance_df[\"feature\"] = features\n",
    "    fold_importance_df[\"importance\"] = clf.feature_importance()\n",
    "    fold_importance_df[\"fold\"] = fold_ + 1\n",
    "    feature_importance_df = pd.concat([feature_importance_df, fold_importance_df], axis=0)\n",
    "\n",
    "    predictions1 += clf.predict(test[features], num_iteration=clf.best_iteration) / folds.n_splits\n",
    "errr = mean_squared_error(oof, target)**0.5\n",
    "print(\"CV score: {:<8.5f}\".format(errr))"
   ]
  },
  {
   "cell_type": "code",
   "execution_count": 6,
   "metadata": {
    "ExecuteTime": {
     "end_time": "2019-02-11T18:31:17.490625Z",
     "start_time": "2019-02-11T18:31:17.109563Z"
    }
   },
   "outputs": [],
   "source": [
    "train['target'] = target\n",
    "train = train[train.target > -30]\n",
    "target = train.pop('target')"
   ]
  },
  {
   "cell_type": "code",
   "execution_count": 7,
   "metadata": {
    "ExecuteTime": {
     "end_time": "2019-02-11T18:31:17.496618Z",
     "start_time": "2019-02-11T18:31:17.491620Z"
    }
   },
   "outputs": [],
   "source": [
    "features = [c for c in train.columns if c not in ['card_id', 'first_active_month','last_active_month']]\n",
    "categorical_feats = [x for x in features if (re.search('modeplus',x) or re.search('feature_',x))] + [x for x in features if re.search('[th]_cat1_[^s]',x)]"
   ]
  },
  {
   "cell_type": "code",
   "execution_count": 8,
   "metadata": {
    "ExecuteTime": {
     "end_time": "2019-02-11T23:52:58.290179Z",
     "start_time": "2019-02-11T18:31:17.497618Z"
    },
    "scrolled": true
   },
   "outputs": [
    {
     "name": "stdout",
     "output_type": "stream",
     "text": [
      "fold n°0\n",
      "Training until validation scores don't improve for 2000 rounds.\n",
      "[2500]\ttraining's rmse: 1.59995\tvalid_1's rmse: 1.6185\n",
      "[5000]\ttraining's rmse: 1.55421\tvalid_1's rmse: 1.58631\n",
      "[7500]\ttraining's rmse: 1.52938\tvalid_1's rmse: 1.57379\n",
      "[10000]\ttraining's rmse: 1.51148\tvalid_1's rmse: 1.56765\n",
      "[12500]\ttraining's rmse: 1.49682\tvalid_1's rmse: 1.56415\n",
      "[15000]\ttraining's rmse: 1.48447\tvalid_1's rmse: 1.56207\n",
      "[17500]\ttraining's rmse: 1.47351\tvalid_1's rmse: 1.56078\n",
      "[20000]\ttraining's rmse: 1.46316\tvalid_1's rmse: 1.55992\n",
      "[22500]\ttraining's rmse: 1.45355\tvalid_1's rmse: 1.55932\n",
      "[25000]\ttraining's rmse: 1.44426\tvalid_1's rmse: 1.55892\n",
      "[27500]\ttraining's rmse: 1.43531\tvalid_1's rmse: 1.55864\n",
      "[30000]\ttraining's rmse: 1.42662\tvalid_1's rmse: 1.55844\n",
      "[32500]\ttraining's rmse: 1.41831\tvalid_1's rmse: 1.55827\n",
      "[35000]\ttraining's rmse: 1.41021\tvalid_1's rmse: 1.55819\n",
      "[37500]\ttraining's rmse: 1.40233\tvalid_1's rmse: 1.55814\n",
      "[40000]\ttraining's rmse: 1.39458\tvalid_1's rmse: 1.55809\n",
      "Early stopping, best iteration is:\n",
      "[40200]\ttraining's rmse: 1.394\tvalid_1's rmse: 1.55808\n",
      "fold n°1\n",
      "Training until validation scores don't improve for 2000 rounds.\n",
      "[2500]\ttraining's rmse: 1.60061\tvalid_1's rmse: 1.61671\n",
      "[5000]\ttraining's rmse: 1.55494\tvalid_1's rmse: 1.58377\n",
      "[7500]\ttraining's rmse: 1.52975\tvalid_1's rmse: 1.57113\n",
      "[10000]\ttraining's rmse: 1.51163\tvalid_1's rmse: 1.56521\n",
      "[12500]\ttraining's rmse: 1.49692\tvalid_1's rmse: 1.56205\n",
      "[15000]\ttraining's rmse: 1.48457\tvalid_1's rmse: 1.56018\n",
      "[17500]\ttraining's rmse: 1.47341\tvalid_1's rmse: 1.559\n",
      "[20000]\ttraining's rmse: 1.46321\tvalid_1's rmse: 1.55825\n",
      "[22500]\ttraining's rmse: 1.45352\tvalid_1's rmse: 1.55776\n",
      "[25000]\ttraining's rmse: 1.44418\tvalid_1's rmse: 1.55742\n",
      "[27500]\ttraining's rmse: 1.43535\tvalid_1's rmse: 1.55716\n",
      "[30000]\ttraining's rmse: 1.42688\tvalid_1's rmse: 1.557\n",
      "[32500]\ttraining's rmse: 1.41855\tvalid_1's rmse: 1.55692\n",
      "[35000]\ttraining's rmse: 1.4106\tvalid_1's rmse: 1.55688\n",
      "[37500]\ttraining's rmse: 1.4029\tvalid_1's rmse: 1.55688\n",
      "Early stopping, best iteration is:\n",
      "[37020]\ttraining's rmse: 1.40435\tvalid_1's rmse: 1.55687\n",
      "fold n°2\n",
      "Training until validation scores don't improve for 2000 rounds.\n",
      "[2500]\ttraining's rmse: 1.60543\tvalid_1's rmse: 1.59593\n",
      "[5000]\ttraining's rmse: 1.55974\tvalid_1's rmse: 1.56314\n",
      "[7500]\ttraining's rmse: 1.5346\tvalid_1's rmse: 1.55071\n",
      "[10000]\ttraining's rmse: 1.5165\tvalid_1's rmse: 1.54466\n",
      "[12500]\ttraining's rmse: 1.50175\tvalid_1's rmse: 1.54124\n",
      "[15000]\ttraining's rmse: 1.48942\tvalid_1's rmse: 1.53913\n",
      "[17500]\ttraining's rmse: 1.47862\tvalid_1's rmse: 1.53788\n",
      "[20000]\ttraining's rmse: 1.4686\tvalid_1's rmse: 1.5371\n",
      "[22500]\ttraining's rmse: 1.45912\tvalid_1's rmse: 1.53654\n",
      "[25000]\ttraining's rmse: 1.44995\tvalid_1's rmse: 1.53617\n",
      "[27500]\ttraining's rmse: 1.44115\tvalid_1's rmse: 1.53591\n",
      "[30000]\ttraining's rmse: 1.43264\tvalid_1's rmse: 1.53571\n",
      "[32500]\ttraining's rmse: 1.42451\tvalid_1's rmse: 1.53553\n",
      "[35000]\ttraining's rmse: 1.41649\tvalid_1's rmse: 1.53544\n",
      "[37500]\ttraining's rmse: 1.40862\tvalid_1's rmse: 1.53537\n",
      "[40000]\ttraining's rmse: 1.40123\tvalid_1's rmse: 1.53537\n",
      "Early stopping, best iteration is:\n",
      "[38540]\ttraining's rmse: 1.40555\tvalid_1's rmse: 1.53535\n",
      "fold n°3\n",
      "Training until validation scores don't improve for 2000 rounds.\n",
      "[2500]\ttraining's rmse: 1.60089\tvalid_1's rmse: 1.61579\n",
      "[5000]\ttraining's rmse: 1.55547\tvalid_1's rmse: 1.58251\n",
      "[7500]\ttraining's rmse: 1.53057\tvalid_1's rmse: 1.56976\n",
      "[10000]\ttraining's rmse: 1.5126\tvalid_1's rmse: 1.5637\n",
      "[12500]\ttraining's rmse: 1.49813\tvalid_1's rmse: 1.56045\n",
      "[15000]\ttraining's rmse: 1.48593\tvalid_1's rmse: 1.55852\n",
      "[17500]\ttraining's rmse: 1.47495\tvalid_1's rmse: 1.55725\n",
      "[20000]\ttraining's rmse: 1.46473\tvalid_1's rmse: 1.5564\n",
      "[22500]\ttraining's rmse: 1.45506\tvalid_1's rmse: 1.55586\n",
      "[25000]\ttraining's rmse: 1.44583\tvalid_1's rmse: 1.55548\n",
      "[27500]\ttraining's rmse: 1.43711\tvalid_1's rmse: 1.55522\n",
      "[30000]\ttraining's rmse: 1.42857\tvalid_1's rmse: 1.55502\n",
      "[32500]\ttraining's rmse: 1.42036\tvalid_1's rmse: 1.5549\n",
      "[35000]\ttraining's rmse: 1.41254\tvalid_1's rmse: 1.55482\n",
      "[37500]\ttraining's rmse: 1.40498\tvalid_1's rmse: 1.55478\n",
      "[40000]\ttraining's rmse: 1.39743\tvalid_1's rmse: 1.55478\n",
      "Early stopping, best iteration is:\n",
      "[39784]\ttraining's rmse: 1.39809\tvalid_1's rmse: 1.55477\n",
      "fold n°4\n",
      "Training until validation scores don't improve for 2000 rounds.\n",
      "[2500]\ttraining's rmse: 1.59982\tvalid_1's rmse: 1.6204\n",
      "[5000]\ttraining's rmse: 1.55423\tvalid_1's rmse: 1.58693\n",
      "[7500]\ttraining's rmse: 1.52932\tvalid_1's rmse: 1.57386\n",
      "[10000]\ttraining's rmse: 1.51134\tvalid_1's rmse: 1.56765\n",
      "[12500]\ttraining's rmse: 1.49675\tvalid_1's rmse: 1.56432\n",
      "[15000]\ttraining's rmse: 1.48466\tvalid_1's rmse: 1.56241\n",
      "[17500]\ttraining's rmse: 1.47362\tvalid_1's rmse: 1.56121\n",
      "[20000]\ttraining's rmse: 1.46335\tvalid_1's rmse: 1.56045\n",
      "[22500]\ttraining's rmse: 1.45381\tvalid_1's rmse: 1.55988\n",
      "[25000]\ttraining's rmse: 1.44453\tvalid_1's rmse: 1.55947\n",
      "[27500]\ttraining's rmse: 1.43563\tvalid_1's rmse: 1.55915\n",
      "[30000]\ttraining's rmse: 1.42709\tvalid_1's rmse: 1.55892\n",
      "[32500]\ttraining's rmse: 1.41881\tvalid_1's rmse: 1.55879\n",
      "[35000]\ttraining's rmse: 1.41073\tvalid_1's rmse: 1.55868\n",
      "[37500]\ttraining's rmse: 1.40307\tvalid_1's rmse: 1.55862\n",
      "[40000]\ttraining's rmse: 1.39542\tvalid_1's rmse: 1.55861\n",
      "Early stopping, best iteration is:\n",
      "[39417]\ttraining's rmse: 1.39721\tvalid_1's rmse: 1.55859\n",
      "CV score: 1.55276 \n"
     ]
    }
   ],
   "source": [
    "warnings.filterwarnings(\"ignore\")\n",
    "param = {\n",
    "        'num_leaves': 111, #checked\n",
    "         'num_threads': 4,\n",
    "         'max_bin': 170, #checked 170\n",
    "         'min_data_in_leaf': 100, #checked 100\n",
    "         'objective':'regression',\n",
    "         'max_depth': 9, #checked\n",
    "         'tree_learner':'data',\n",
    "         'learning_rate': 0.0003,\n",
    "         \"boosting\": \"gbdt\", #dart, gbdt\n",
    "         \"feature_fraction\": 0.9, #checked\n",
    "         \"bagging_freq\": 5, #5\n",
    "         \"bagging_fraction\": 0.9, #checked\n",
    "         \"bagging_seed\": 11,\n",
    "         \"metric\": 'rmse',\n",
    "         \"lambda_l1\": 0.26, #checked 26\n",
    "#            'lambda_l2': 0.3, #checked\n",
    "         \"random_state\": 77,\n",
    "         \"verbosity\": -1,\n",
    "         \"device\":\"gpu\",\n",
    "         'gpu_device_id':0,\n",
    "         'gpu_platform_id':1,\n",
    "         'gpu_use_dp':True,\n",
    "        }\n",
    "\n",
    "\n",
    "folds = KFold(n_splits=5, shuffle=True, random_state=15)\n",
    "oof = np.zeros(len(train))\n",
    "predictions2 = np.zeros(len(test))\n",
    "start = time.time()\n",
    "feature_importance_df = pd.DataFrame()\n",
    "\n",
    "for fold_, (trn_idx, val_idx) in enumerate(folds.split(train.values, target.values)):\n",
    "    print(\"fold n°{}\".format(fold_))\n",
    "\n",
    "    trn_data = lgb.Dataset(train.iloc[trn_idx][features],\n",
    "                           label=target.iloc[trn_idx],\n",
    "                           categorical_feature=categorical_feats\n",
    "                          )\n",
    "    val_data = lgb.Dataset(train.iloc[val_idx][features],\n",
    "                           label=target.iloc[val_idx],\n",
    "                           categorical_feature=categorical_feats\n",
    "                          )\n",
    "\n",
    "\n",
    "    clf = lgb.train(param, trn_data,100000, valid_sets = [trn_data, val_data], verbose_eval=2500, early_stopping_rounds = 2000)\n",
    "\n",
    "    oof[val_idx] = clf.predict(train.iloc[val_idx][features], num_iteration=clf.best_iteration)\n",
    "\n",
    "    fold_importance_df = pd.DataFrame()\n",
    "    fold_importance_df[\"feature\"] = features\n",
    "    fold_importance_df[\"importance\"] = clf.feature_importance()\n",
    "    fold_importance_df[\"fold\"] = fold_ + 1\n",
    "    feature_importance_df = pd.concat([feature_importance_df, fold_importance_df], axis=0)\n",
    "\n",
    "    predictions2 += clf.predict(test[features], num_iteration=clf.best_iteration) / folds.n_splits\n",
    "    \n",
    "errr = mean_squared_error(oof, target)**0.5\n",
    "print(\"CV score: {:<8.5f}\".format(errr))"
   ]
  },
  {
   "cell_type": "code",
   "execution_count": 9,
   "metadata": {
    "ExecuteTime": {
     "end_time": "2019-02-11T23:52:58.742035Z",
     "start_time": "2019-02-11T23:52:58.299162Z"
    }
   },
   "outputs": [],
   "source": [
    "sub_df = pd.DataFrame({\"card_id\":test[\"card_id\"].values})\n",
    "sub_df[\"target\"] = predictions1\n",
    "sub_df.to_csv(\"submit1_with_outs.csv\", index=False)"
   ]
  },
  {
   "cell_type": "code",
   "execution_count": 10,
   "metadata": {
    "ExecuteTime": {
     "end_time": "2019-02-11T23:52:59.161895Z",
     "start_time": "2019-02-11T23:52:58.744021Z"
    }
   },
   "outputs": [],
   "source": [
    "sub_df = pd.DataFrame({\"card_id\":test[\"card_id\"].values})\n",
    "sub_df[\"target\"] = predictions2\n",
    "sub_df.to_csv(\"submit2_without_outs.csv\", index=False)"
   ]
  },
  {
   "cell_type": "code",
   "execution_count": null,
   "metadata": {},
   "outputs": [],
   "source": [
    "################OUTLINERS TESTING################"
   ]
  },
  {
   "cell_type": "code",
   "execution_count": 4,
   "metadata": {
    "ExecuteTime": {
     "end_time": "2019-02-18T20:14:39.139646Z",
     "start_time": "2019-02-18T20:14:39.133661Z"
    }
   },
   "outputs": [],
   "source": [
    "target = target < -30"
   ]
  },
  {
   "cell_type": "code",
   "execution_count": 6,
   "metadata": {
    "ExecuteTime": {
     "end_time": "2019-02-18T20:15:09.297656Z",
     "start_time": "2019-02-18T20:15:09.293650Z"
    }
   },
   "outputs": [],
   "source": [
    "features = [c for c in train.columns if c not in ['card_id', 'first_active_month','last_active_month']]\n",
    "categorical_feats = [x for x in features if (re.search('modeplus',x) or re.search('feature_',x))] + [x for x in features if re.search('[th]_cat1_[^s]',x)]"
   ]
  },
  {
   "cell_type": "code",
   "execution_count": 13,
   "metadata": {
    "ExecuteTime": {
     "end_time": "2019-02-18T22:23:56.553705Z",
     "start_time": "2019-02-18T20:35:39.397781Z"
    }
   },
   "outputs": [
    {
     "name": "stdout",
     "output_type": "stream",
     "text": [
      "fold n°0\n",
      "Training until validation scores don't improve for 2000 rounds.\n",
      "[2500]\ttraining's binary_logloss: 0.038984\tvalid_1's binary_logloss: 0.0482518\n",
      "[5000]\ttraining's binary_logloss: 0.0323061\tvalid_1's binary_logloss: 0.0458645\n",
      "[7500]\ttraining's binary_logloss: 0.0278489\tvalid_1's binary_logloss: 0.0450832\n",
      "[10000]\ttraining's binary_logloss: 0.0248229\tvalid_1's binary_logloss: 0.0448194\n",
      "[12500]\ttraining's binary_logloss: 0.0225898\tvalid_1's binary_logloss: 0.0447876\n",
      "Early stopping, best iteration is:\n",
      "[11956]\ttraining's binary_logloss: 0.0230349\tvalid_1's binary_logloss: 0.044781\n",
      "fold n°1\n",
      "Training until validation scores don't improve for 2000 rounds.\n",
      "[2500]\ttraining's binary_logloss: 0.03967\tvalid_1's binary_logloss: 0.0467697\n",
      "[5000]\ttraining's binary_logloss: 0.0328908\tvalid_1's binary_logloss: 0.0444508\n",
      "[7500]\ttraining's binary_logloss: 0.028355\tvalid_1's binary_logloss: 0.043678\n",
      "[10000]\ttraining's binary_logloss: 0.0251003\tvalid_1's binary_logloss: 0.0433947\n",
      "[12500]\ttraining's binary_logloss: 0.0227146\tvalid_1's binary_logloss: 0.0433207\n",
      "Early stopping, best iteration is:\n",
      "[12610]\ttraining's binary_logloss: 0.0226174\tvalid_1's binary_logloss: 0.0433198\n",
      "fold n°2\n",
      "Training until validation scores don't improve for 2000 rounds.\n",
      "[2500]\ttraining's binary_logloss: 0.0397141\tvalid_1's binary_logloss: 0.0457393\n",
      "[5000]\ttraining's binary_logloss: 0.0328712\tvalid_1's binary_logloss: 0.043372\n",
      "[7500]\ttraining's binary_logloss: 0.0283845\tvalid_1's binary_logloss: 0.0425907\n",
      "[10000]\ttraining's binary_logloss: 0.025286\tvalid_1's binary_logloss: 0.0422996\n",
      "[12500]\ttraining's binary_logloss: 0.0230338\tvalid_1's binary_logloss: 0.0422278\n",
      "[15000]\ttraining's binary_logloss: 0.0210115\tvalid_1's binary_logloss: 0.0422547\n",
      "Early stopping, best iteration is:\n",
      "[13206]\ttraining's binary_logloss: 0.0224414\tvalid_1's binary_logloss: 0.042224\n",
      "fold n°3\n",
      "Training until validation scores don't improve for 2000 rounds.\n",
      "[2500]\ttraining's binary_logloss: 0.0384512\tvalid_1's binary_logloss: 0.0510908\n",
      "[5000]\ttraining's binary_logloss: 0.0316569\tvalid_1's binary_logloss: 0.0486791\n",
      "[7500]\ttraining's binary_logloss: 0.0272736\tvalid_1's binary_logloss: 0.0479944\n",
      "[10000]\ttraining's binary_logloss: 0.0245175\tvalid_1's binary_logloss: 0.0478658\n",
      "Early stopping, best iteration is:\n",
      "[9882]\ttraining's binary_logloss: 0.0246166\tvalid_1's binary_logloss: 0.0478646\n",
      "fold n°4\n",
      "Training until validation scores don't improve for 2000 rounds.\n",
      "[2500]\ttraining's binary_logloss: 0.0393882\tvalid_1's binary_logloss: 0.0462659\n",
      "[5000]\ttraining's binary_logloss: 0.032577\tvalid_1's binary_logloss: 0.0440226\n",
      "[7500]\ttraining's binary_logloss: 0.0280518\tvalid_1's binary_logloss: 0.0432394\n",
      "[10000]\ttraining's binary_logloss: 0.0252052\tvalid_1's binary_logloss: 0.0429498\n",
      "[12500]\ttraining's binary_logloss: 0.0230456\tvalid_1's binary_logloss: 0.0428798\n",
      "Early stopping, best iteration is:\n",
      "[12962]\ttraining's binary_logloss: 0.022672\tvalid_1's binary_logloss: 0.042879\n",
      "CV score: 0.09932 \n"
     ]
    }
   ],
   "source": [
    "warnings.filterwarnings(\"ignore\")\n",
    "param = {\n",
    "    'num_leaves': 111, #checked\n",
    "     'num_threads': 4,\n",
    "     'max_bin': 170, #checked 170\n",
    "     'min_data_in_leaf': 100, #checked 100\n",
    "     'objective':'binary',\n",
    "     'max_depth': 9, #checked\n",
    "     'tree_learner':'data',\n",
    "     'learning_rate': 0.0003,\n",
    "     \"boosting\": \"gbdt\", #dart, gbdt\n",
    "     \"feature_fraction\": 0.58, #checked 0.58\n",
    "     \"bagging_freq\": 7, #5\n",
    "     \"bagging_fraction\": 0.97, #checked\n",
    "     \"bagging_seed\": 11,\n",
    "     \"metric\": 'binary',\n",
    "     \"lambda_l1\": 0.23, #checked 26\n",
    "#            'lambda_l2': 0.3, #checked\n",
    "     \"random_state\": 77,\n",
    "     \"verbosity\": -1,\n",
    "     \"device\":\"gpu\",\n",
    "     'gpu_device_id':0,\n",
    "     'gpu_platform_id':1,\n",
    "     'gpu_use_dp':True,\n",
    "    }\n",
    "\n",
    "\n",
    "folds = KFold(n_splits=5, shuffle=True, random_state=15)\n",
    "oof = np.zeros(len(train))\n",
    "predictions2 = np.zeros(len(test))\n",
    "start = time.time()\n",
    "feature_importance_df = pd.DataFrame()\n",
    "\n",
    "for fold_, (trn_idx, val_idx) in enumerate(folds.split(train.values, target.values)):\n",
    "    print(\"fold n°{}\".format(fold_))\n",
    "\n",
    "    trn_data = lgb.Dataset(train.iloc[trn_idx][features],\n",
    "                           label=target.iloc[trn_idx],\n",
    "                           categorical_feature=categorical_feats\n",
    "                          )\n",
    "    val_data = lgb.Dataset(train.iloc[val_idx][features],\n",
    "                           label=target.iloc[val_idx],\n",
    "                           categorical_feature=categorical_feats\n",
    "                          )\n",
    "\n",
    "\n",
    "    clf = lgb.train(param, trn_data,100000, valid_sets = [trn_data, val_data], verbose_eval=2500, early_stopping_rounds = 2000)\n",
    "\n",
    "    oof[val_idx] = clf.predict(train.iloc[val_idx][features], num_iteration=clf.best_iteration)\n",
    "\n",
    "    fold_importance_df = pd.DataFrame()\n",
    "    fold_importance_df[\"feature\"] = features\n",
    "    fold_importance_df[\"importance\"] = clf.feature_importance()\n",
    "    fold_importance_df[\"fold\"] = fold_ + 1\n",
    "    feature_importance_df = pd.concat([feature_importance_df, fold_importance_df], axis=0)\n",
    "\n",
    "    predictions2 += clf.predict(test[features], num_iteration=clf.best_iteration) / folds.n_splits\n",
    "    \n",
    "errr = mean_squared_error(oof, target)**0.5\n",
    "print(\"CV score: {:<8.5f}\".format(errr))"
   ]
  },
  {
   "cell_type": "code",
   "execution_count": 38,
   "metadata": {
    "ExecuteTime": {
     "end_time": "2019-02-18T22:54:21.989995Z",
     "start_time": "2019-02-18T22:54:21.595135Z"
    }
   },
   "outputs": [],
   "source": [
    "sub_df = pd.DataFrame({\"card_id\":test[\"card_id\"].values})\n",
    "sub_df[\"target\"] = predictions2\n",
    "sub_df.to_csv(\"binary_outliner_chance.csv\", index=False)"
   ]
  },
  {
   "cell_type": "code",
   "execution_count": 53,
   "metadata": {
    "ExecuteTime": {
     "end_time": "2019-02-18T23:01:55.326971Z",
     "start_time": "2019-02-18T23:01:55.303971Z"
    },
    "scrolled": true
   },
   "outputs": [],
   "source": [
    "sub_df = sub_df.sort_values(by='target',ascending=False).reset_index(drop=True)"
   ]
  },
  {
   "cell_type": "code",
   "execution_count": 55,
   "metadata": {
    "ExecuteTime": {
     "end_time": "2019-02-18T23:05:07.778012Z",
     "start_time": "2019-02-18T23:05:07.771986Z"
    }
   },
   "outputs": [],
   "source": [
    "sub_df['target'] = (sub_df.index < 1800).astype(np.float64)"
   ]
  },
  {
   "cell_type": "code",
   "execution_count": 58,
   "metadata": {
    "ExecuteTime": {
     "end_time": "2019-02-18T23:07:51.592364Z",
     "start_time": "2019-02-18T23:07:51.109989Z"
    }
   },
   "outputs": [],
   "source": [
    "best_with = pd.read_csv('submit1_with_outs.csv')\n",
    "best_witho = pd.read_csv(\"submit2_without_outs.csv\")"
   ]
  },
  {
   "cell_type": "code",
   "execution_count": 62,
   "metadata": {
    "ExecuteTime": {
     "end_time": "2019-02-18T23:14:04.518525Z",
     "start_time": "2019-02-18T23:14:04.514526Z"
    }
   },
   "outputs": [],
   "source": [
    "best_with.columns = ['card_id','target_with']\n",
    "best_witho.columns = ['card_id','target_witho']"
   ]
  },
  {
   "cell_type": "code",
   "execution_count": 66,
   "metadata": {
    "ExecuteTime": {
     "end_time": "2019-02-18T23:15:53.503582Z",
     "start_time": "2019-02-18T23:15:53.244656Z"
    }
   },
   "outputs": [],
   "source": [
    "combo = pd.merge(sub_df,best_with,on='card_id',how='left')\n",
    "combo = pd.merge(combo,best_witho,on='card_id',how='left')"
   ]
  },
  {
   "cell_type": "code",
   "execution_count": 69,
   "metadata": {
    "ExecuteTime": {
     "end_time": "2019-02-18T23:29:33.900546Z",
     "start_time": "2019-02-18T23:29:33.891535Z"
    },
    "scrolled": true
   },
   "outputs": [],
   "source": [
    "combo['difference'] = np.abs(combo.target_with - combo.target_witho)"
   ]
  },
  {
   "cell_type": "code",
   "execution_count": 76,
   "metadata": {
    "ExecuteTime": {
     "end_time": "2019-02-18T23:35:17.649699Z",
     "start_time": "2019-02-18T23:35:17.645702Z"
    }
   },
   "outputs": [],
   "source": [
    "end_combo = pd.DataFrame()"
   ]
  },
  {
   "cell_type": "code",
   "execution_count": 77,
   "metadata": {
    "ExecuteTime": {
     "end_time": "2019-02-18T23:35:43.615692Z",
     "start_time": "2019-02-18T23:35:43.595704Z"
    }
   },
   "outputs": [],
   "source": [
    "end_combo['card_id'] = combo['card_id']"
   ]
  },
  {
   "cell_type": "code",
   "execution_count": 109,
   "metadata": {
    "ExecuteTime": {
     "end_time": "2019-02-19T00:18:43.459644Z",
     "start_time": "2019-02-19T00:18:43.446638Z"
    }
   },
   "outputs": [],
   "source": [
    "end_combo['target'] = ((combo.difference) >= 9) * -33.219281\n",
    "end_combo['target'] += ((combo.difference < 9) & (combo.difference > 2.0)) * combo.target_with\n",
    "end_combo['target'] += ((combo.difference) <= 2) * combo.target_witho"
   ]
  },
  {
   "cell_type": "code",
   "execution_count": 112,
   "metadata": {
    "ExecuteTime": {
     "end_time": "2019-02-19T00:21:20.785674Z",
     "start_time": "2019-02-19T00:21:20.776665Z"
    }
   },
   "outputs": [],
   "source": [
    "end_combo['target'] += (combo.difference > 1.5) * combo.target_with\n",
    "end_combo['target'] += ((combo.difference) <= 1.5) * combo.target_witho"
   ]
  },
  {
   "cell_type": "code",
   "execution_count": 113,
   "metadata": {
    "ExecuteTime": {
     "end_time": "2019-02-19T00:21:22.255649Z",
     "start_time": "2019-02-19T00:21:21.837695Z"
    },
    "scrolled": true
   },
   "outputs": [],
   "source": [
    "end_combo.to_csv('full_combination_std_check.csv', index=False)"
   ]
  },
  {
   "cell_type": "code",
   "execution_count": 103,
   "metadata": {
    "ExecuteTime": {
     "end_time": "2019-02-19T00:17:07.787907Z",
     "start_time": "2019-02-19T00:17:07.780900Z"
    }
   },
   "outputs": [
    {
     "data": {
      "text/plain": [
       "-3.626209400461154"
      ]
     },
     "execution_count": 103,
     "metadata": {},
     "output_type": "execute_result"
    }
   ],
   "source": [
    "combo.target_with.min()"
   ]
  },
  {
   "cell_type": "code",
   "execution_count": 108,
   "metadata": {
    "ExecuteTime": {
     "end_time": "2019-02-19T00:17:56.973707Z",
     "start_time": "2019-02-19T00:17:56.966713Z"
    }
   },
   "outputs": [
    {
     "data": {
      "text/plain": [
       "1   -33.219281\n",
       "dtype: float64"
      ]
     },
     "execution_count": 108,
     "metadata": {},
     "output_type": "execute_result"
    }
   ],
   "source": [
    "target.min()"
   ]
  },
  {
   "cell_type": "code",
   "execution_count": null,
   "metadata": {},
   "outputs": [],
   "source": []
  }
 ],
 "metadata": {
  "kernelspec": {
   "display_name": "Python 3",
   "language": "python",
   "name": "python3"
  },
  "language_info": {
   "codemirror_mode": {
    "name": "ipython",
    "version": 3
   },
   "file_extension": ".py",
   "mimetype": "text/x-python",
   "name": "python",
   "nbconvert_exporter": "python",
   "pygments_lexer": "ipython3",
   "version": "3.7.1"
  }
 },
 "nbformat": 4,
 "nbformat_minor": 2
}
