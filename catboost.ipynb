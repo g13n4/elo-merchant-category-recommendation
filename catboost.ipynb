{
 "cells": [
  {
   "cell_type": "code",
   "execution_count": 7,
   "metadata": {
    "ExecuteTime": {
     "end_time": "2019-02-18T18:52:09.199834Z",
     "start_time": "2019-02-18T18:52:09.194849Z"
    }
   },
   "outputs": [],
   "source": [
    "import numpy as np \n",
    "import pandas as pd \n",
    "import matplotlib.pyplot as plt\n",
    "import seaborn as sns\n",
    "from sklearn.model_selection import KFold\n",
    "import warnings\n",
    "import time\n",
    "import sys\n",
    "import datetime\n",
    "import matplotlib.pyplot as plt\n",
    "import seaborn as sns\n",
    "import gc\n",
    "import feather\n",
    "import re\n",
    "\n",
    "from catboost import Pool, CatBoostRegressor,CatBoostClassifier\n",
    "from sklearn.utils import shuffle\n",
    "from sklearn.metrics import mean_squared_error\n",
    "from sklearn.linear_model import BayesianRidge\n",
    "\n",
    "warnings.simplefilter(action='ignore', category=FutureWarning)"
   ]
  },
  {
   "cell_type": "code",
   "execution_count": 3,
   "metadata": {
    "ExecuteTime": {
     "end_time": "2019-02-18T18:48:32.669837Z",
     "start_time": "2019-02-18T18:48:27.306653Z"
    }
   },
   "outputs": [],
   "source": [
    "train = feather.read_dataframe('best_table\\\\train')\n",
    "test = feather.read_dataframe('best_table\\\\test')"
   ]
  },
  {
   "cell_type": "code",
   "execution_count": 4,
   "metadata": {
    "ExecuteTime": {
     "end_time": "2019-02-18T18:48:32.935245Z",
     "start_time": "2019-02-18T18:48:32.670826Z"
    },
    "cell_style": "center"
   },
   "outputs": [],
   "source": [
    "target = pd.read_csv('target2',header=None,index_col=0)"
   ]
  },
  {
   "cell_type": "code",
   "execution_count": 4,
   "metadata": {
    "ExecuteTime": {
     "end_time": "2019-01-21T10:56:50.415018Z",
     "start_time": "2019-01-21T10:56:50.410020Z"
    }
   },
   "outputs": [],
   "source": [
    "target = (target < -25).astype(np.float64)"
   ]
  },
  {
   "cell_type": "code",
   "execution_count": 18,
   "metadata": {
    "ExecuteTime": {
     "end_time": "2019-02-18T19:02:47.887833Z",
     "start_time": "2019-02-18T19:02:47.883839Z"
    }
   },
   "outputs": [],
   "source": [
    "features = [c for c in train.columns if c not in ['card_id', 'first_active_month','last_active_month']]\n",
    "categorical_feats = list(set([x for x in features if (re.search('modeplus',x) or re.search('feature_',x))] + [x for x in features if re.search('[th]_cat1_[^s]',x)]))"
   ]
  },
  {
   "cell_type": "code",
   "execution_count": 20,
   "metadata": {
    "ExecuteTime": {
     "end_time": "2019-02-18T19:05:12.681794Z",
     "start_time": "2019-02-18T19:05:12.678799Z"
    }
   },
   "outputs": [],
   "source": [
    "cat_feats = []\n",
    "counter = 0\n",
    "for x in train:\n",
    "    if x in categorical_feats:\n",
    "        cat_feats.append(counter)\n",
    "    counter+=1"
   ]
  },
  {
   "cell_type": "code",
   "execution_count": 21,
   "metadata": {
    "ExecuteTime": {
     "end_time": "2019-02-18T19:05:18.678823Z",
     "start_time": "2019-02-18T19:05:18.674823Z"
    }
   },
   "outputs": [
    {
     "data": {
      "text/plain": [
       "[49, 83, 99, 125, 128, 129, 143]"
      ]
     },
     "execution_count": 21,
     "metadata": {},
     "output_type": "execute_result"
    }
   ],
   "source": [
    "cat_feats"
   ]
  },
  {
   "cell_type": "code",
   "execution_count": 24,
   "metadata": {
    "ExecuteTime": {
     "end_time": "2019-02-18T19:06:09.727918Z",
     "start_time": "2019-02-18T19:06:08.878694Z"
    }
   },
   "outputs": [
    {
     "ename": "CatboostError",
     "evalue": "Invalid type for cat_feature[3,125]=nan : cat_features must be integer or string, real number values and NaN values should be converted to string.",
     "output_type": "error",
     "traceback": [
      "\u001b[1;31m---------------------------------------------------------------------------\u001b[0m",
      "\u001b[1;31mCatboostError\u001b[0m                             Traceback (most recent call last)",
      "\u001b[1;32m_catboost.pyx\u001b[0m in \u001b[0;36m_catboost.get_cat_factor_bytes_representation\u001b[1;34m()\u001b[0m\n",
      "\u001b[1;32m_catboost.pyx\u001b[0m in \u001b[0;36m_catboost.get_id_object_bytes_string_representation\u001b[1;34m()\u001b[0m\n",
      "\u001b[1;31mCatboostError\u001b[0m: bad object for id: nan",
      "\nDuring handling of the above exception, another exception occurred:\n",
      "\u001b[1;31mCatboostError\u001b[0m                             Traceback (most recent call last)",
      "\u001b[1;32m<ipython-input-24-2af9273f526e>\u001b[0m in \u001b[0;36m<module>\u001b[1;34m\u001b[0m\n\u001b[0;32m      6\u001b[0m train_pool = Pool(data=train.iloc[:40000,:][features], \n\u001b[0;32m      7\u001b[0m                   \u001b[0mlabel\u001b[0m\u001b[1;33m=\u001b[0m\u001b[0mtrain_label\u001b[0m\u001b[1;33m[\u001b[0m\u001b[1;33m:\u001b[0m\u001b[1;36m40000\u001b[0m\u001b[1;33m]\u001b[0m\u001b[1;33m,\u001b[0m\u001b[1;33m\u001b[0m\u001b[1;33m\u001b[0m\u001b[0m\n\u001b[1;32m----> 8\u001b[1;33m                   cat_features=cat_feats)\n\u001b[0m\u001b[0;32m      9\u001b[0m \u001b[1;31m# test_pool = Pool(test_data[features],\u001b[0m\u001b[1;33m\u001b[0m\u001b[1;33m\u001b[0m\u001b[1;33m\u001b[0m\u001b[0m\n\u001b[0;32m     10\u001b[0m \u001b[1;31m#                  cat_features=[0,1,2])\u001b[0m\u001b[1;33m\u001b[0m\u001b[1;33m\u001b[0m\u001b[1;33m\u001b[0m\u001b[0m\n",
      "\u001b[1;32m~\\Anaconda3\\envs\\ml\\lib\\site-packages\\catboost\\core.py\u001b[0m in \u001b[0;36m__init__\u001b[1;34m(self, data, label, cat_features, column_description, pairs, delimiter, has_header, weight, group_id, group_weight, subgroup_id, pairs_weight, baseline, feature_names, thread_count)\u001b[0m\n\u001b[0;32m    284\u001b[0m                         )\n\u001b[0;32m    285\u001b[0m \u001b[1;33m\u001b[0m\u001b[0m\n\u001b[1;32m--> 286\u001b[1;33m                 \u001b[0mself\u001b[0m\u001b[1;33m.\u001b[0m\u001b[0m_init\u001b[0m\u001b[1;33m(\u001b[0m\u001b[0mdata\u001b[0m\u001b[1;33m,\u001b[0m \u001b[0mlabel\u001b[0m\u001b[1;33m,\u001b[0m \u001b[0mcat_features\u001b[0m\u001b[1;33m,\u001b[0m \u001b[0mpairs\u001b[0m\u001b[1;33m,\u001b[0m \u001b[0mweight\u001b[0m\u001b[1;33m,\u001b[0m \u001b[0mgroup_id\u001b[0m\u001b[1;33m,\u001b[0m \u001b[0mgroup_weight\u001b[0m\u001b[1;33m,\u001b[0m \u001b[0msubgroup_id\u001b[0m\u001b[1;33m,\u001b[0m \u001b[0mpairs_weight\u001b[0m\u001b[1;33m,\u001b[0m \u001b[0mbaseline\u001b[0m\u001b[1;33m,\u001b[0m \u001b[0mfeature_names\u001b[0m\u001b[1;33m)\u001b[0m\u001b[1;33m\u001b[0m\u001b[1;33m\u001b[0m\u001b[0m\n\u001b[0m\u001b[0;32m    287\u001b[0m         \u001b[0msuper\u001b[0m\u001b[1;33m(\u001b[0m\u001b[0mPool\u001b[0m\u001b[1;33m,\u001b[0m \u001b[0mself\u001b[0m\u001b[1;33m)\u001b[0m\u001b[1;33m.\u001b[0m\u001b[0m__init__\u001b[0m\u001b[1;33m(\u001b[0m\u001b[1;33m)\u001b[0m\u001b[1;33m\u001b[0m\u001b[1;33m\u001b[0m\u001b[0m\n\u001b[0;32m    288\u001b[0m \u001b[1;33m\u001b[0m\u001b[0m\n",
      "\u001b[1;32m~\\Anaconda3\\envs\\ml\\lib\\site-packages\\catboost\\core.py\u001b[0m in \u001b[0;36m_init\u001b[1;34m(self, data, label, cat_features, pairs, weight, group_id, group_weight, subgroup_id, pairs_weight, baseline, feature_names)\u001b[0m\n\u001b[0;32m    634\u001b[0m         \u001b[1;32mif\u001b[0m \u001b[0mfeature_names\u001b[0m \u001b[1;32mis\u001b[0m \u001b[1;32mnot\u001b[0m \u001b[1;32mNone\u001b[0m\u001b[1;33m:\u001b[0m\u001b[1;33m\u001b[0m\u001b[1;33m\u001b[0m\u001b[0m\n\u001b[0;32m    635\u001b[0m             \u001b[0mself\u001b[0m\u001b[1;33m.\u001b[0m\u001b[0m_check_feature_names\u001b[0m\u001b[1;33m(\u001b[0m\u001b[0mfeature_names\u001b[0m\u001b[1;33m,\u001b[0m \u001b[0mfeatures_count\u001b[0m\u001b[1;33m)\u001b[0m\u001b[1;33m\u001b[0m\u001b[1;33m\u001b[0m\u001b[0m\n\u001b[1;32m--> 636\u001b[1;33m         \u001b[0mself\u001b[0m\u001b[1;33m.\u001b[0m\u001b[0m_init_pool\u001b[0m\u001b[1;33m(\u001b[0m\u001b[0mdata\u001b[0m\u001b[1;33m,\u001b[0m \u001b[0mlabel\u001b[0m\u001b[1;33m,\u001b[0m \u001b[0mcat_features\u001b[0m\u001b[1;33m,\u001b[0m \u001b[0mpairs\u001b[0m\u001b[1;33m,\u001b[0m \u001b[0mweight\u001b[0m\u001b[1;33m,\u001b[0m \u001b[0mgroup_id\u001b[0m\u001b[1;33m,\u001b[0m \u001b[0mgroup_weight\u001b[0m\u001b[1;33m,\u001b[0m \u001b[0msubgroup_id\u001b[0m\u001b[1;33m,\u001b[0m \u001b[0mpairs_weight\u001b[0m\u001b[1;33m,\u001b[0m \u001b[0mbaseline\u001b[0m\u001b[1;33m,\u001b[0m \u001b[0mfeature_names\u001b[0m\u001b[1;33m)\u001b[0m\u001b[1;33m\u001b[0m\u001b[1;33m\u001b[0m\u001b[0m\n\u001b[0m\u001b[0;32m    637\u001b[0m \u001b[1;33m\u001b[0m\u001b[0m\n\u001b[0;32m    638\u001b[0m \u001b[1;33m\u001b[0m\u001b[0m\n",
      "\u001b[1;32m_catboost.pyx\u001b[0m in \u001b[0;36m_catboost._PoolBase._init_pool\u001b[1;34m()\u001b[0m\n",
      "\u001b[1;32m_catboost.pyx\u001b[0m in \u001b[0;36m_catboost._PoolBase._init_pool\u001b[1;34m()\u001b[0m\n",
      "\u001b[1;32m_catboost.pyx\u001b[0m in \u001b[0;36m_catboost._PoolBase._init_features_order_layout_pool\u001b[1;34m()\u001b[0m\n",
      "\u001b[1;32m_catboost.pyx\u001b[0m in \u001b[0;36m_catboost._set_features_order_data_pd_data_frame\u001b[1;34m()\u001b[0m\n",
      "\u001b[1;32m_catboost.pyx\u001b[0m in \u001b[0;36m_catboost.get_cat_factor_bytes_representation\u001b[1;34m()\u001b[0m\n",
      "\u001b[1;31mCatboostError\u001b[0m: Invalid type for cat_feature[3,125]=nan : cat_features must be integer or string, real number values and NaN values should be converted to string."
     ]
    }
   ],
   "source": [
    "train_data = train\n",
    "train_label = target\n",
    "features = [c for c in train.columns if c not in ['card_id', 'first_active_month']]\n",
    "\n",
    "# initialize Pool\n",
    "train_pool = Pool(data=train.iloc[:40000,:][features], \n",
    "                  label=train_label[:40000], \n",
    "                  cat_features=cat_feats)\n",
    "# test_pool = Pool(test_data[features], \n",
    "#                  cat_features=[0,1,2]) \n",
    "\n",
    "val_pool = Pool(data=train.iloc[40000:,:][features], \n",
    "                  label=train_label[40000:], \n",
    "                  cat_features=cat_feats)"
   ]
  },
  {
   "cell_type": "code",
   "execution_count": null,
   "metadata": {
    "ExecuteTime": {
     "start_time": "2019-01-21T10:56:48.059Z"
    },
    "scrolled": true
   },
   "outputs": [],
   "source": [
    "model = CatBoostClassifier(iterations=4000, \n",
    "                        depth=10, \n",
    "                        learning_rate=0.007,\n",
    "                        loss_function='Logloss',\n",
    "                        task_type='GPU',\n",
    "                        od_type='Iter',\n",
    "                        use_best_model=2,\n",
    "#                        l2_leaf_reg=500,      \n",
    "#                        one_hot_max_size=10,\n",
    "#                        random_strength=0.2,\n",
    "#                        max_bin = 254,\n",
    "                         )\n",
    "\n",
    "model.fit(train_pool,eval_set=val_pool,use_best_model=True,early_stopping_rounds=100)"
   ]
  },
  {
   "cell_type": "code",
   "execution_count": null,
   "metadata": {
    "ExecuteTime": {
     "start_time": "2019-01-21T10:56:48.062Z"
    }
   },
   "outputs": [],
   "source": [
    "test = feather.read_dataframe('test')"
   ]
  },
  {
   "cell_type": "code",
   "execution_count": null,
   "metadata": {
    "ExecuteTime": {
     "start_time": "2019-01-21T10:56:48.064Z"
    }
   },
   "outputs": [],
   "source": [
    "test_pool = Pool(test[features], \n",
    "                 cat_features=[0,1,2])"
   ]
  },
  {
   "cell_type": "code",
   "execution_count": null,
   "metadata": {
    "ExecuteTime": {
     "start_time": "2019-01-21T10:56:48.068Z"
    }
   },
   "outputs": [],
   "source": [
    "outliners = model.predict(test_pool)"
   ]
  },
  {
   "cell_type": "code",
   "execution_count": null,
   "metadata": {
    "ExecuteTime": {
     "start_time": "2019-01-21T10:56:48.071Z"
    }
   },
   "outputs": [],
   "source": [
    "out_precent = model.predict_proba(test_pool)"
   ]
  },
  {
   "cell_type": "code",
   "execution_count": null,
   "metadata": {
    "ExecuteTime": {
     "start_time": "2019-01-21T10:56:48.074Z"
    },
    "scrolled": true
   },
   "outputs": [],
   "source": [
    "#feather.write_dataframe(pd.DataFrame(outliners.astype(np.bool_)),'test_outliner')"
   ]
  },
  {
   "cell_type": "code",
   "execution_count": null,
   "metadata": {
    "ExecuteTime": {
     "start_time": "2019-01-21T10:56:48.076Z"
    }
   },
   "outputs": [],
   "source": [
    "test"
   ]
  },
  {
   "cell_type": "code",
   "execution_count": null,
   "metadata": {
    "ExecuteTime": {
     "start_time": "2019-01-21T10:56:48.077Z"
    }
   },
   "outputs": [],
   "source": [
    "test[outliners]"
   ]
  },
  {
   "cell_type": "code",
   "execution_count": null,
   "metadata": {
    "ExecuteTime": {
     "start_time": "2019-01-21T10:56:48.079Z"
    }
   },
   "outputs": [],
   "source": [
    "train = feather.read_dataframe('train')\n",
    "#test = feather.read_dataframe('test')\n",
    "target = pd.read_csv('target2',header=None,index_col=0)"
   ]
  },
  {
   "cell_type": "code",
   "execution_count": null,
   "metadata": {
    "ExecuteTime": {
     "start_time": "2019-01-21T10:56:48.081Z"
    }
   },
   "outputs": [],
   "source": [
    "train['target'] = target\n",
    "train = train[train['target'] > -20]\n",
    "target = train['target']\n",
    "del train['target']"
   ]
  },
  {
   "cell_type": "code",
   "execution_count": null,
   "metadata": {
    "ExecuteTime": {
     "start_time": "2019-01-21T10:56:48.083Z"
    },
    "scrolled": true
   },
   "outputs": [],
   "source": [
    "train.drop(labels=to_drop.index.values,axis=1,inplace=True)\n",
    "test.drop(labels=to_drop.index.values,axis=1,inplace=True)"
   ]
  },
  {
   "cell_type": "code",
   "execution_count": null,
   "metadata": {
    "ExecuteTime": {
     "start_time": "2019-01-21T10:56:48.084Z"
    }
   },
   "outputs": [],
   "source": [
    "train_data = train\n",
    "train_label = target\n",
    "#test_data = test"
   ]
  },
  {
   "cell_type": "code",
   "execution_count": null,
   "metadata": {
    "ExecuteTime": {
     "start_time": "2019-01-21T10:56:48.087Z"
    }
   },
   "outputs": [],
   "source": [
    "features = [c for c in train.columns if c not in ['card_id', 'first_active_month']]\n",
    "\n",
    "# initialize Pool\n",
    "train_pool = Pool(data=train.iloc[:170000,:][features], \n",
    "                  label=train_label[:170000], \n",
    "                  cat_features=[0,1,2])\n",
    "\n",
    "# test_pool = Pool(test_data[features], \n",
    "#                  cat_features=[0,1,2]) \n",
    "\n",
    "val_pool = Pool(data=train.iloc[170000:,:][features], \n",
    "                  label=train_label[170000:], \n",
    "                  cat_features=[0,1,2])"
   ]
  },
  {
   "cell_type": "code",
   "execution_count": null,
   "metadata": {
    "ExecuteTime": {
     "start_time": "2019-01-21T10:56:48.092Z"
    },
    "code_folding": [],
    "scrolled": true
   },
   "outputs": [],
   "source": [
    "model = CatBoostRegressor(iterations=6000, \n",
    "                          depth=12, \n",
    "                          learning_rate=0.05,\n",
    "                          loss_function='RMSE',\n",
    "                         task_type='GPU',\n",
    "                          od_type='Iter',\n",
    "                          use_best_model=2,\n",
    "                          \n",
    "                          l2_leaf_reg=500,\n",
    "                          \n",
    "                         one_hot_max_size=10,\n",
    "#                         random_strength=0.5,\n",
    "#                          max_bin = 254,\n",
    "                          \n",
    "\n",
    "                         )\n",
    "\n",
    "model.fit(train_pool,eval_set=val_pool,use_best_model=True,early_stopping_rounds=200)\n"
   ]
  },
  {
   "cell_type": "code",
   "execution_count": null,
   "metadata": {
    "ExecuteTime": {
     "start_time": "2019-01-21T10:56:48.093Z"
    }
   },
   "outputs": [],
   "source": [
    "model.drop_unused_features()"
   ]
  },
  {
   "cell_type": "code",
   "execution_count": null,
   "metadata": {
    "ExecuteTime": {
     "start_time": "2019-01-21T10:56:48.095Z"
    }
   },
   "outputs": [],
   "source": [
    "model.get_feature_importance(prettified=True)"
   ]
  },
  {
   "cell_type": "code",
   "execution_count": null,
   "metadata": {
    "ExecuteTime": {
     "start_time": "2019-01-21T10:56:48.097Z"
    }
   },
   "outputs": [],
   "source": [
    "test['target'] = 0"
   ]
  },
  {
   "cell_type": "code",
   "execution_count": null,
   "metadata": {
    "ExecuteTime": {
     "start_time": "2019-01-21T10:56:48.098Z"
    },
    "scrolled": true
   },
   "outputs": [],
   "source": [
    "testnon = test[np.invert(outliners.astype(np.bool_))]"
   ]
  },
  {
   "cell_type": "code",
   "execution_count": null,
   "metadata": {
    "ExecuteTime": {
     "start_time": "2019-01-21T10:56:48.101Z"
    },
    "scrolled": true
   },
   "outputs": [],
   "source": [
    "testout = test[outliners.astype(np.bool_)]"
   ]
  },
  {
   "cell_type": "code",
   "execution_count": null,
   "metadata": {
    "ExecuteTime": {
     "start_time": "2019-01-21T10:56:48.101Z"
    }
   },
   "outputs": [],
   "source": [
    "test_pool = Pool(test[np.invert(outliners.astype(np.bool_))][features], \n",
    "                 cat_features=[0,1,2]) "
   ]
  },
  {
   "cell_type": "code",
   "execution_count": null,
   "metadata": {
    "ExecuteTime": {
     "start_time": "2019-01-21T10:56:48.103Z"
    },
    "scrolled": true
   },
   "outputs": [],
   "source": [
    "testnon.loc[:,'target'] = model.predict(test_pool)"
   ]
  },
  {
   "cell_type": "code",
   "execution_count": null,
   "metadata": {
    "ExecuteTime": {
     "start_time": "2019-01-21T10:56:48.105Z"
    },
    "scrolled": true
   },
   "outputs": [],
   "source": [
    "testout.loc[:,'target'] = -33.219281"
   ]
  },
  {
   "cell_type": "code",
   "execution_count": null,
   "metadata": {
    "ExecuteTime": {
     "start_time": "2019-01-21T10:56:48.107Z"
    }
   },
   "outputs": [],
   "source": [
    "test = testout.append(testnon)"
   ]
  },
  {
   "cell_type": "code",
   "execution_count": null,
   "metadata": {
    "ExecuteTime": {
     "start_time": "2019-01-21T10:56:48.108Z"
    }
   },
   "outputs": [],
   "source": [
    "test = np.concatenate([testout,testnon],)"
   ]
  },
  {
   "cell_type": "code",
   "execution_count": null,
   "metadata": {
    "ExecuteTime": {
     "start_time": "2019-01-21T10:56:48.110Z"
    }
   },
   "outputs": [],
   "source": [
    "test"
   ]
  },
  {
   "cell_type": "code",
   "execution_count": null,
   "metadata": {
    "ExecuteTime": {
     "start_time": "2019-01-21T10:56:48.111Z"
    }
   },
   "outputs": [],
   "source": [
    "sub_df = pd.DataFrame({\"card_id\":test[\"card_id\"].values,\"target\":test['target'].values})\n",
    "sub_df.to_csv(\"submit.csv\", index=False)"
   ]
  },
  {
   "cell_type": "code",
   "execution_count": null,
   "metadata": {},
   "outputs": [],
   "source": []
  }
 ],
 "metadata": {
  "kernelspec": {
   "display_name": "Python 3",
   "language": "python",
   "name": "python3"
  },
  "language_info": {
   "codemirror_mode": {
    "name": "ipython",
    "version": 3
   },
   "file_extension": ".py",
   "mimetype": "text/x-python",
   "name": "python",
   "nbconvert_exporter": "python",
   "pygments_lexer": "ipython3",
   "version": "3.7.1"
  }
 },
 "nbformat": 4,
 "nbformat_minor": 2
}
