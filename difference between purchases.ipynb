{
 "cells": [
  {
   "cell_type": "code",
   "execution_count": 2,
   "metadata": {
    "ExecuteTime": {
     "end_time": "2019-02-10T10:42:29.317524Z",
     "start_time": "2019-02-10T10:42:28.246775Z"
    }
   },
   "outputs": [],
   "source": [
    "import numpy as np \n",
    "import pandas as pd \n",
    "import matplotlib.pyplot as plt\n",
    "import seaborn as sns\n",
    "import lightgbm as lgb\n",
    "from sklearn.model_selection import KFold\n",
    "import warnings\n",
    "import time\n",
    "import sys\n",
    "import datetime\n",
    "import matplotlib.pyplot as plt\n",
    "import seaborn as sns\n",
    "from sklearn.metrics import mean_squared_error\n",
    "warnings.simplefilter(action='ignore', category=FutureWarning)\n",
    "pd.set_option('display.max_columns', 500)\n",
    "from scipy.stats import mode\n",
    "from scipy import stats\n",
    "import feather\n",
    "import re\n",
    "import warnings\n",
    "import random\n",
    "\n",
    "from IPython.display import clear_output"
   ]
  },
  {
   "cell_type": "code",
   "execution_count": 3,
   "metadata": {
    "ExecuteTime": {
     "end_time": "2019-02-10T10:42:53.444513Z",
     "start_time": "2019-02-10T10:42:29.318511Z"
    }
   },
   "outputs": [],
   "source": [
    "all_transactions = feather.read_dataframe('all_transactions')"
   ]
  },
  {
   "cell_type": "code",
   "execution_count": 4,
   "metadata": {
    "ExecuteTime": {
     "end_time": "2019-02-10T10:42:55.554159Z",
     "start_time": "2019-02-10T10:42:53.448499Z"
    }
   },
   "outputs": [],
   "source": [
    "all_transactions = all_transactions[['card_id','purchase_amount','purchase_date','payment_from_end_to_begging']]"
   ]
  },
  {
   "cell_type": "code",
   "execution_count": 5,
   "metadata": {
    "ExecuteTime": {
     "end_time": "2019-02-10T10:43:12.184771Z",
     "start_time": "2019-02-10T10:42:55.558146Z"
    }
   },
   "outputs": [],
   "source": [
    "all_transactions_sorted = all_transactions.sort_values(by='purchase_date')"
   ]
  },
  {
   "cell_type": "code",
   "execution_count": 6,
   "metadata": {
    "ExecuteTime": {
     "end_time": "2019-02-10T10:43:12.196767Z",
     "start_time": "2019-02-10T10:43:12.186770Z"
    }
   },
   "outputs": [],
   "source": [
    "def distance_between_purchases_max(x):\n",
    "    return (x.diff().dropna().dt.seconds // 60).max()\n",
    "\n",
    "def distance_between_purchases_min(x):\n",
    "    return (x.diff().dropna().dt.seconds // 60).min()\n",
    "\n",
    "def distance_between_purchases_mean(x):\n",
    "    return (x.diff().dropna().dt.seconds // 60).mean()\n",
    "\n",
    "def distance_between_purchases_median(x):\n",
    "    return (x.diff().dropna().dt.seconds // 60).median()\n",
    "\n",
    "def distance_between_purchases_ptp(x):\n",
    "    return (x.diff().dropna().dt.seconds // 60).ptp()\n",
    "\n",
    "def distance_between_purchases_skew(x):\n",
    "    return (x.diff().dropna().dt.seconds // 60).skew()\n",
    "\n",
    "def distance_between_purchases_kurt(x):\n",
    "    return (x.diff().dropna().dt.seconds // 60).kurt()"
   ]
  },
  {
   "cell_type": "code",
   "execution_count": 7,
   "metadata": {
    "ExecuteTime": {
     "end_time": "2019-02-10T11:10:48.231477Z",
     "start_time": "2019-02-10T10:43:12.197767Z"
    }
   },
   "outputs": [],
   "source": [
    "by_all_purchases = all_transactions_sorted.groupby(['card_id']).agg({'purchase_date':[distance_between_purchases_max,distance_between_purchases_min,distance_between_purchases_mean,distance_between_purchases_median,distance_between_purchases_ptp,distance_between_purchases_kurt,distance_between_purchases_skew]})"
   ]
  },
  {
   "cell_type": "code",
   "execution_count": 8,
   "metadata": {
    "ExecuteTime": {
     "end_time": "2019-02-10T11:33:31.633696Z",
     "start_time": "2019-02-10T11:10:48.232477Z"
    }
   },
   "outputs": [],
   "source": [
    "only_big_purch = all_transactions_sorted[all_transactions_sorted.payment_from_end_to_begging == 0].groupby(['card_id']).agg({'purchase_date':[distance_between_purchases_max,distance_between_purchases_min,distance_between_purchases_mean,distance_between_purchases_median,distance_between_purchases_ptp,distance_between_purchases_kurt,distance_between_purchases_skew]})"
   ]
  },
  {
   "cell_type": "code",
   "execution_count": 9,
   "metadata": {
    "ExecuteTime": {
     "end_time": "2019-02-10T11:33:32.480424Z",
     "start_time": "2019-02-10T11:33:31.634695Z"
    }
   },
   "outputs": [],
   "source": [
    "by_all_purchases = pd.merge(by_all_purchases,only_big_purch,how='left',on='card_id')"
   ]
  },
  {
   "cell_type": "code",
   "execution_count": 10,
   "metadata": {
    "ExecuteTime": {
     "end_time": "2019-02-10T11:33:32.497419Z",
     "start_time": "2019-02-10T11:33:32.481424Z"
    }
   },
   "outputs": [],
   "source": [
    "by_all_purchases.fillna(0,inplace=True)"
   ]
  },
  {
   "cell_type": "code",
   "execution_count": 11,
   "metadata": {
    "ExecuteTime": {
     "end_time": "2019-02-10T11:33:32.501418Z",
     "start_time": "2019-02-10T11:33:32.498418Z"
    }
   },
   "outputs": [],
   "source": [
    "by_all_purchases.columns = [f'all_months_{x[1]}' if x[0][-1]=='x' else f'last_month_{x[1]}' for x in by_all_purchases]"
   ]
  },
  {
   "cell_type": "code",
   "execution_count": 12,
   "metadata": {
    "ExecuteTime": {
     "end_time": "2019-02-10T11:33:32.521411Z",
     "start_time": "2019-02-10T11:33:32.502416Z"
    }
   },
   "outputs": [],
   "source": [
    "by_all_purchases.reset_index(inplace=True)"
   ]
  },
  {
   "cell_type": "code",
   "execution_count": 13,
   "metadata": {
    "ExecuteTime": {
     "end_time": "2019-02-10T11:33:32.680373Z",
     "start_time": "2019-02-10T11:33:32.522411Z"
    }
   },
   "outputs": [],
   "source": [
    "feather.write_dataframe(by_all_purchases,'all_purchases_diff')"
   ]
  }
 ],
 "metadata": {
  "kernelspec": {
   "display_name": "Python 3",
   "language": "python",
   "name": "python3"
  },
  "language_info": {
   "codemirror_mode": {
    "name": "ipython",
    "version": 3
   },
   "file_extension": ".py",
   "mimetype": "text/x-python",
   "name": "python",
   "nbconvert_exporter": "python",
   "pygments_lexer": "ipython3",
   "version": "3.7.1"
  }
 },
 "nbformat": 4,
 "nbformat_minor": 2
}
