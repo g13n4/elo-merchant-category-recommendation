{
 "cells": [
  {
   "cell_type": "code",
   "execution_count": 1,
   "metadata": {},
   "outputs": [],
   "source": [
    "import numpy as np \n",
    "import pandas as pd \n",
    "import matplotlib.pyplot as plt\n",
    "from sklearn.model_selection import KFold\n",
    "import warnings\n",
    "import time\n",
    "import sys\n",
    "import datetime\n",
    "import matplotlib.pyplot as plt\n",
    "import seaborn as sns\n",
    "from sklearn.metrics import mean_squared_error\n",
    "warnings.simplefilter(action='ignore', category=FutureWarning)\n",
    "pd.set_option('display.max_columns', 500)\n",
    "pd.set_option('display.max_rows',300)\n",
    "from scipy.stats import mode\n",
    "from scipy import stats\n",
    "import feather\n",
    "import re\n",
    "import warnings\n",
    "import random\n",
    "\n",
    "from IPython.display import clear_output\n",
    "\n",
    "from fastai.tabular import *"
   ]
  },
  {
   "cell_type": "code",
   "execution_count": 2,
   "metadata": {},
   "outputs": [],
   "source": [
    "target = pd.read_csv('target2',header=None,index_col=0)"
   ]
  },
  {
   "cell_type": "code",
   "execution_count": 3,
   "metadata": {},
   "outputs": [],
   "source": [
    "target = pd.read_csv('target2',header=None,index_col=0)\n",
    "train = feather.read_dataframe('best_from_recent_groupped_train')\n",
    "test = feather.read_dataframe('best_from_recent_groupped_test')\n",
    "\n",
    "\n",
    "new_test_cols = feather.read_dataframe('new_test_columns_with_promos_fixed')\n",
    "\n",
    "train = pd.merge(train,new_test_cols,on='card_id',how='left')\n",
    "test = pd.merge(test,new_test_cols,on='card_id',how='left')\n",
    "\n",
    "\n",
    "new_test_cols =  feather.read_dataframe('gropped_columns_per_month_to_last_ver2')\n",
    "\n",
    "train = pd.merge(train,new_test_cols,on='card_id',how='left')\n",
    "test = pd.merge(test,new_test_cols,on='card_id',how='left')\n",
    "\n",
    "\n",
    "train_out = feather.read_dataframe('train_months_outliner_percent')\n",
    "test_out = feather.read_dataframe('test_months_outliner_percent')\n",
    "\n",
    "train = pd.merge(train,train_out,on='card_id',how='left')\n",
    "test = pd.merge(test,test_out,on='card_id',how='left')"
   ]
  },
  {
   "cell_type": "code",
   "execution_count": 4,
   "metadata": {},
   "outputs": [],
   "source": [
    "import pickle\n",
    "with open('list_of_best_folds.pickle', 'rb') as f:\n",
    "    best_cols_for_folds = pickle.load(f)"
   ]
  },
  {
   "cell_type": "code",
   "execution_count": 5,
   "metadata": {},
   "outputs": [],
   "source": [
    "train['agged_all_city_id_modeplus'] = train.agged_all_city_id_modeplus.apply(lambda x: 1 if x <= 6 else x-5)"
   ]
  },
  {
   "cell_type": "code",
   "execution_count": 6,
   "metadata": {},
   "outputs": [],
   "source": [
    "train['target'] = target\n",
    "train = train[best_cols_for_folds[1][1] + ['target']]"
   ]
  },
  {
   "cell_type": "code",
   "execution_count": 7,
   "metadata": {},
   "outputs": [],
   "source": [
    "random_idx = [random.randint(0,train.shape[0]) for x in range(25000)]\n",
    "procs = [FillMissing,Categorify,Normalize]"
   ]
  },
  {
   "cell_type": "code",
   "execution_count": 8,
   "metadata": {
    "scrolled": true
   },
   "outputs": [],
   "source": [
    "for col in [y for y,x in zip(train.dtypes.index,train.dtypes) if x==np.float32]:\n",
    "    train[col] = train[col].astype(np.float64)\n",
    "    test[col] = test[col].astype(np.float64)"
   ]
  },
  {
   "cell_type": "code",
   "execution_count": 9,
   "metadata": {
    "scrolled": true
   },
   "outputs": [],
   "source": [
    "data = TabularDataBunch.from_df(path='.',df=train,dep_var='target',valid_idx=random_idx,procs=procs,cat_names=best_cols_for_folds[1][3])"
   ]
  },
  {
   "cell_type": "code",
   "execution_count": 10,
   "metadata": {
    "scrolled": true
   },
   "outputs": [],
   "source": [
    "learn = tabular_learner(data, layers=[200,100,50], metrics=root_mean_squared_error,emb_szs={'agged_all_city_id_modeplus':10})"
   ]
  },
  {
   "cell_type": "code",
   "execution_count": 73,
   "metadata": {},
   "outputs": [
    {
     "data": {
      "text/html": [],
      "text/plain": [
       "<IPython.core.display.HTML object>"
      ]
     },
     "metadata": {},
     "output_type": "display_data"
    },
    {
     "name": "stdout",
     "output_type": "stream",
     "text": [
      "LR Finder is complete, type {learner_name}.recorder.plot() to see the graph.\n"
     ]
    }
   ],
   "source": [
    "learn.lr_find(start_lr=1e-14,end_lr=1,wd=0.1)"
   ]
  },
  {
   "cell_type": "code",
   "execution_count": 76,
   "metadata": {},
   "outputs": [
    {
     "data": {
      "image/png": "[encoded data removed]",
      "text/plain": [
       "<Figure size 432x288 with 1 Axes>"
      ]
     },
     "metadata": {
      "needs_background": "light"
     },
     "output_type": "display_data"
    }
   ],
   "source": [
    "learn.recorder.plot()"
   ]
  },
  {
   "cell_type": "code",
   "execution_count": 75,
   "metadata": {},
   "outputs": [],
   "source": [
    "#learn.fit(epochs=1,lr=5e-1,wd=0.1)"
   ]
  },
  {
   "cell_type": "code",
   "execution_count": 77,
   "metadata": {},
   "outputs": [
    {
     "data": {
      "text/html": [
       "Total time: 00:42 <p><table border=\"1\" class=\"dataframe\">\n",
       "  <thead>\n",
       "    <tr style=\"text-align: left;\">\n",
       "      <th>epoch</th>\n",
       "      <th>train_loss</th>\n",
       "      <th>valid_loss</th>\n",
       "      <th>root_mean_squared_error</th>\n",
       "      <th>time</th>\n",
       "    </tr>\n",
       "  </thead>\n",
       "  <tbody>\n",
       "    <tr>\n",
       "      <td>0</td>\n",
       "      <td>14.370234</td>\n",
       "      <td>20.152901</td>\n",
       "      <td>3.525425</td>\n",
       "      <td>00:42</td>\n",
       "    </tr>\n",
       "  </tbody>\n",
       "</table>"
      ],
      "text/plain": [
       "<IPython.core.display.HTML object>"
      ]
     },
     "metadata": {},
     "output_type": "display_data"
    }
   ],
   "source": [
    "learn.fit(epochs=1,lr=1e-10,wd=0.1)"
   ]
  },
  {
   "cell_type": "code",
   "execution_count": 31,
   "metadata": {},
   "outputs": [],
   "source": [
    "learn.save('elo-test')"
   ]
  },
  {
   "cell_type": "code",
   "execution_count": 72,
   "metadata": {},
   "outputs": [],
   "source": [
    "learn = learn.load('elo-test')"
   ]
  },
  {
   "cell_type": "code",
   "execution_count": null,
   "metadata": {},
   "outputs": [],
   "source": []
  }
 ],
 "metadata": {
  "kernelspec": {
   "display_name": "Python 3",
   "language": "python",
   "name": "python3"
  },
  "language_info": {
   "codemirror_mode": {
    "name": "ipython",
    "version": 3
   },
   "file_extension": ".py",
   "mimetype": "text/x-python",
   "name": "python",
   "nbconvert_exporter": "python",
   "pygments_lexer": "ipython3",
   "version": "3.7.2"
  }
 },
 "nbformat": 4,
 "nbformat_minor": 2
}
