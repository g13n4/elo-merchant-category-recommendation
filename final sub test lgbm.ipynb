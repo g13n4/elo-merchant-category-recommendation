{
 "cells": [
  {
   "cell_type": "code",
   "execution_count": 18,
   "metadata": {
    "ExecuteTime": {
     "end_time": "2019-02-26T02:29:22.216941Z",
     "start_time": "2019-02-26T02:29:22.210935Z"
    }
   },
   "outputs": [],
   "source": [
    "import numpy as np \n",
    "import pandas as pd \n",
    "import matplotlib.pyplot as plt\n",
    "import seaborn as sns\n",
    "import lightgbm as lgb\n",
    "from sklearn.model_selection import KFold\n",
    "import warnings\n",
    "import time\n",
    "import sys\n",
    "import datetime\n",
    "import matplotlib.pyplot as plt\n",
    "import seaborn as sns\n",
    "from sklearn.metrics import mean_squared_error\n",
    "warnings.simplefilter(action='ignore', category=FutureWarning)\n",
    "pd.set_option('display.max_columns', 500)\n",
    "pd.set_option('display.max_rows',300)\n",
    "from scipy.stats import mode\n",
    "from scipy import stats\n",
    "import feather\n",
    "import re\n",
    "import warnings\n",
    "import random\n",
    "\n",
    "from IPython.display import clear_output"
   ]
  },
  {
   "cell_type": "code",
   "execution_count": 19,
   "metadata": {
    "ExecuteTime": {
     "end_time": "2019-02-26T02:29:22.687334Z",
     "start_time": "2019-02-26T02:29:22.426387Z"
    }
   },
   "outputs": [],
   "source": [
    "target = pd.read_csv('target2',header=None,index_col=0)"
   ]
  },
  {
   "cell_type": "code",
   "execution_count": 20,
   "metadata": {
    "ExecuteTime": {
     "end_time": "2019-02-26T02:29:22.864281Z",
     "start_time": "2019-02-26T02:29:22.689334Z"
    }
   },
   "outputs": [],
   "source": [
    "train = feather.read_dataframe('best_from_recent_groupped_train')\n",
    "test = feather.read_dataframe('best_from_recent_groupped_test')"
   ]
  },
  {
   "cell_type": "code",
   "execution_count": 21,
   "metadata": {
    "ExecuteTime": {
     "end_time": "2019-02-26T02:29:32.864207Z",
     "start_time": "2019-02-26T02:29:22.900271Z"
    }
   },
   "outputs": [],
   "source": [
    "new_test_cols = feather.read_dataframe('new_test_columns_with_promos_fixed')\n",
    "\n",
    "train = pd.merge(train,new_test_cols,on='card_id',how='left')\n",
    "test = pd.merge(test,new_test_cols,on='card_id',how='left')\n",
    "\n",
    "new_test_cols =  feather.read_dataframe('gropped_columns_per_month_to_last_ver2')\n",
    "train = pd.merge(train,new_test_cols,on='card_id',how='left')\n",
    "test = pd.merge(test,new_test_cols,on='card_id',how='left')\n",
    "\n",
    "train_out = feather.read_dataframe('train_months_outliner_percent')\n",
    "test_out = feather.read_dataframe('test_months_outliner_percent')\n",
    "\n",
    "train = pd.merge(train,train_out,on='card_id',how='left')\n",
    "test = pd.merge(test,test_out,on='card_id',how='left')"
   ]
  },
  {
   "cell_type": "code",
   "execution_count": 22,
   "metadata": {
    "ExecuteTime": {
     "end_time": "2019-02-26T02:29:32.907182Z",
     "start_time": "2019-02-26T02:29:32.866177Z"
    }
   },
   "outputs": [],
   "source": [
    "train_agg_by_city_state_sub_out_per = feather.read_dataframe('train_agg_by_city_state_sub_out_per')\n",
    "test_agg_by_city_state_sub_out_per = feather.read_dataframe('test_agg_by_city_state_sub_out_per')"
   ]
  },
  {
   "cell_type": "code",
   "execution_count": 23,
   "metadata": {
    "ExecuteTime": {
     "end_time": "2019-02-26T02:29:32.913182Z",
     "start_time": "2019-02-26T02:29:32.909182Z"
    }
   },
   "outputs": [],
   "source": [
    "#cats like and percent\n",
    "cities_states_subs_percent = [[x for x in train_agg_by_city_state_sub_out_per if re.search('perct',x) or x=='card_id'],[x for x in train_agg_by_city_state_sub_out_per if not re.search('perct',x)]]"
   ]
  },
  {
   "cell_type": "code",
   "execution_count": 24,
   "metadata": {
    "ExecuteTime": {
     "end_time": "2019-02-26T02:29:33.806935Z",
     "start_time": "2019-02-26T02:29:32.916180Z"
    }
   },
   "outputs": [],
   "source": [
    "#state,city,  and percent\n",
    "train = pd.merge(train,train_agg_by_city_state_sub_out_per,on='card_id',how='left')\n",
    "test = pd.merge(test,test_agg_by_city_state_sub_out_per,on='card_id',how='left')"
   ]
  },
  {
   "cell_type": "code",
   "execution_count": 25,
   "metadata": {
    "ExecuteTime": {
     "end_time": "2019-02-26T02:29:33.810921Z",
     "start_time": "2019-02-26T02:29:33.808920Z"
    }
   },
   "outputs": [],
   "source": [
    "#state,city,  and percent\n",
    "#train = pd.merge(train,train_agg_by_city_state_sub_out_per[cities_states_subs_percent[1]],on='card_id',how='left')\n",
    "# = pd.merge(test,test_agg_by_city_state_sub_out_per[cities_states_subs_percent[1]],on='card_id',how='left')"
   ]
  },
  {
   "cell_type": "code",
   "execution_count": 26,
   "metadata": {
    "ExecuteTime": {
     "end_time": "2019-02-26T02:29:34.811531Z",
     "start_time": "2019-02-26T02:29:33.811920Z"
    }
   },
   "outputs": [],
   "source": [
    "#coded merch and merch_cats\n",
    "train = pd.merge(train,feather.read_dataframe('merch_and_merch_cat_prct'),on='card_id',how='left')\n",
    "test = pd.merge(test,feather.read_dataframe('merch_and_merch_cat_prct'),on='card_id',how='left')"
   ]
  },
  {
   "cell_type": "code",
   "execution_count": 27,
   "metadata": {
    "ExecuteTime": {
     "end_time": "2019-02-26T02:29:35.802201Z",
     "start_time": "2019-02-26T02:29:34.812531Z"
    }
   },
   "outputs": [],
   "source": [
    "#coded percents\n",
    "train = pd.merge(train,feather.read_dataframe('all_transactions_coded_percent_out'),on='card_id',how='left')\n",
    "test = pd.merge(test,feather.read_dataframe('all_transactions_coded_percent_out'),on='card_id',how='left')"
   ]
  },
  {
   "cell_type": "code",
   "execution_count": 28,
   "metadata": {
    "ExecuteTime": {
     "end_time": "2019-02-26T02:29:35.807200Z",
     "start_time": "2019-02-26T02:29:35.803200Z"
    }
   },
   "outputs": [],
   "source": [
    "best_res = 10\n",
    "best_test = 0 \n",
    "best_z = 0"
   ]
  },
  {
   "cell_type": "code",
   "execution_count": 29,
   "metadata": {
    "ExecuteTime": {
     "end_time": "2019-02-26T02:29:38.799118Z",
     "start_time": "2019-02-26T02:29:38.795119Z"
    }
   },
   "outputs": [],
   "source": [
    "list_of_best_cols = []\n",
    "disct_of_best_folds = {x:[10,0,0,0] for x in range(5)}"
   ]
  },
  {
   "cell_type": "code",
   "execution_count": 31,
   "metadata": {
    "ExecuteTime": {
     "end_time": "2019-02-26T02:38:10.842024Z",
     "start_time": "2019-02-26T02:30:01.763945Z"
    },
    "cell_style": "split",
    "code_folding": [],
    "run_control": {
     "marked": false
    },
    "scrolled": true
   },
   "outputs": [
    {
     "name": "stdout",
     "output_type": "stream",
     "text": [
      "fold n°0\n",
      "Training until validation scores don't improve for 250 rounds.\n",
      "[250]\ttraining's rmse: 2.94054\tvalid_1's rmse: 3.66927\n",
      "Early stopping, best iteration is:\n",
      "[84]\ttraining's rmse: 3.29095\tvalid_1's rmse: 3.6588\n",
      "New best 0th fold score: 3.65880 \n",
      "\n",
      "fold n°1\n",
      "Training until validation scores don't improve for 250 rounds.\n",
      "[250]\ttraining's rmse: 2.96156\tvalid_1's rmse: 3.62744\n",
      "Early stopping, best iteration is:\n",
      "[63]\ttraining's rmse: 3.37667\tvalid_1's rmse: 3.61581\n",
      "New best 1th fold score: 3.61581 \n",
      "\n",
      "fold n°2\n",
      "Training until validation scores don't improve for 250 rounds.\n",
      "[250]\ttraining's rmse: 2.94532\tvalid_1's rmse: 3.60401\n",
      "Early stopping, best iteration is:\n",
      "[100]\ttraining's rmse: 3.26798\tvalid_1's rmse: 3.59086\n",
      "New best 2th fold score: 3.59086 \n",
      "\n",
      "fold n°3\n",
      "Training until validation scores don't improve for 250 rounds.\n",
      "[250]\ttraining's rmse: 2.90547\tvalid_1's rmse: 3.80491\n",
      "Early stopping, best iteration is:\n",
      "[68]\ttraining's rmse: 3.31098\tvalid_1's rmse: 3.79287\n",
      "New best 3th fold score: 3.79287 \n",
      "\n",
      "fold n°4\n",
      "Training until validation scores don't improve for 250 rounds.\n",
      "[250]\ttraining's rmse: 2.93786\tvalid_1's rmse: 3.61766\n",
      "Early stopping, best iteration is:\n",
      "[81]\ttraining's rmse: 3.31521\tvalid_1's rmse: 3.60326\n",
      "New best 4th fold score: 3.60326 \n",
      "\n",
      "better than ever 3.6530683090350533\n",
      "CV score: 3.65307 \n",
      "\n",
      "fold n°0\n",
      "Training until validation scores don't improve for 250 rounds.\n",
      "[250]\ttraining's rmse: 2.94189\tvalid_1's rmse: 3.67927\n",
      "Early stopping, best iteration is:\n",
      "[104]\ttraining's rmse: 3.2443\tvalid_1's rmse: 3.66906\n",
      "fold n°1\n",
      "Training until validation scores don't improve for 250 rounds.\n",
      "[250]\ttraining's rmse: 2.94548\tvalid_1's rmse: 3.61709\n",
      "Early stopping, best iteration is:\n",
      "[104]\ttraining's rmse: 3.26265\tvalid_1's rmse: 3.60413\n",
      "New best 1th fold score: 3.60413 \n",
      "\n",
      "fold n°2\n",
      "Training until validation scores don't improve for 250 rounds.\n",
      "[250]\ttraining's rmse: 2.94289\tvalid_1's rmse: 3.59312\n",
      "Early stopping, best iteration is:\n",
      "[73]\ttraining's rmse: 3.35551\tvalid_1's rmse: 3.58333\n",
      "New best 2th fold score: 3.58333 \n",
      "\n",
      "fold n°3\n",
      "Training until validation scores don't improve for 250 rounds.\n",
      "[250]\ttraining's rmse: 2.89006\tvalid_1's rmse: 3.79275\n",
      "Early stopping, best iteration is:\n",
      "[64]\ttraining's rmse: 3.32154\tvalid_1's rmse: 3.77601\n",
      "New best 3th fold score: 3.77601 \n",
      "\n",
      "fold n°4\n",
      "Training until validation scores don't improve for 250 rounds.\n",
      "[250]\ttraining's rmse: 2.9429\tvalid_1's rmse: 3.62116\n",
      "Early stopping, best iteration is:\n",
      "[60]\ttraining's rmse: 3.38666\tvalid_1's rmse: 3.60742\n",
      "better than ever 3.648663273023336\n",
      "CV score: 3.64866 \n",
      "\n",
      "fold n°0\n",
      "Training until validation scores don't improve for 250 rounds.\n",
      "[250]\ttraining's rmse: 2.94207\tvalid_1's rmse: 3.67616\n",
      "Early stopping, best iteration is:\n",
      "[72]\ttraining's rmse: 3.33173\tvalid_1's rmse: 3.66491\n",
      "fold n°1\n",
      "Training until validation scores don't improve for 250 rounds.\n",
      "[250]\ttraining's rmse: 2.95985\tvalid_1's rmse: 3.62924\n",
      "Early stopping, best iteration is:\n",
      "[61]\ttraining's rmse: 3.3862\tvalid_1's rmse: 3.61293\n",
      "fold n°2\n",
      "Training until validation scores don't improve for 250 rounds.\n",
      "[250]\ttraining's rmse: 2.96114\tvalid_1's rmse: 3.58958\n",
      "Early stopping, best iteration is:\n",
      "[71]\ttraining's rmse: 3.34985\tvalid_1's rmse: 3.58116\n",
      "New best 2th fold score: 3.58116 \n",
      "\n",
      "fold n°3\n",
      "Training until validation scores don't improve for 250 rounds.\n",
      "[250]\ttraining's rmse: 2.89958\tvalid_1's rmse: 3.79929\n",
      "Early stopping, best iteration is:\n",
      "[103]\ttraining's rmse: 3.21953\tvalid_1's rmse: 3.79031\n",
      "fold n°4\n",
      "Training until validation scores don't improve for 250 rounds.\n",
      "[250]\ttraining's rmse: 2.95493\tvalid_1's rmse: 3.61926\n",
      "Early stopping, best iteration is:\n",
      "[63]\ttraining's rmse: 3.37349\tvalid_1's rmse: 3.6021\n",
      "New best 4th fold score: 3.60210 \n",
      "\n",
      "CV score: 3.65106 \n",
      "\n",
      "fold n°0\n",
      "Training until validation scores don't improve for 250 rounds.\n",
      "[250]\ttraining's rmse: 2.93448\tvalid_1's rmse: 3.68163\n",
      "Early stopping, best iteration is:\n",
      "[86]\ttraining's rmse: 3.2904\tvalid_1's rmse: 3.67013\n",
      "fold n°1\n",
      "Training until validation scores don't improve for 250 rounds.\n",
      "[250]\ttraining's rmse: 2.94098\tvalid_1's rmse: 3.61982\n",
      "Early stopping, best iteration is:\n",
      "[96]\ttraining's rmse: 3.2822\tvalid_1's rmse: 3.60802\n",
      "fold n°2\n",
      "Training until validation scores don't improve for 250 rounds.\n",
      "[250]\ttraining's rmse: 2.9327\tvalid_1's rmse: 3.59886\n",
      "Early stopping, best iteration is:\n",
      "[87]\ttraining's rmse: 3.2989\tvalid_1's rmse: 3.58679\n",
      "fold n°3\n",
      "Training until validation scores don't improve for 250 rounds.\n",
      "[250]\ttraining's rmse: 2.88999\tvalid_1's rmse: 3.78381\n",
      "Early stopping, best iteration is:\n",
      "[78]\ttraining's rmse: 3.27736\tvalid_1's rmse: 3.77151\n",
      "New best 3th fold score: 3.77151 \n",
      "\n",
      "fold n°4\n",
      "Training until validation scores don't improve for 250 rounds.\n",
      "[250]\ttraining's rmse: 2.93151\tvalid_1's rmse: 3.62243\n",
      "Early stopping, best iteration is:\n",
      "[67]\ttraining's rmse: 3.35449\tvalid_1's rmse: 3.61005\n",
      "CV score: 3.64992 \n",
      "\n",
      "0\n"
     ]
    }
   ],
   "source": [
    "#isbest = False\n",
    "#for z_test in sorted(list(set(all_cols.importance.astype(np.int16)))):\n",
    "#for z_test in len(all_cols):\n",
    "#for z_test in range(15,149,3):\n",
    "for z_test in range(1):\n",
    "#    best_cols = all_cols.index[-z_test:]\n",
    "#    best_cols = list(all_cols[all_cols.importance > z_test].index)\n",
    "    \n",
    "    if 'best_cols' in locals():\n",
    "        features = [c for c in best_cols if c not in ['card_id', 'first_active_month','last_active_month']]\n",
    "    else:\n",
    "        features = [c for c in train.columns if c not in ['card_id', 'first_active_month','last_active_month']]\n",
    "\n",
    "    additional_cats= [x for x in features if re.search('[th]_cat1_[^s]',x)]\n",
    "#    additional_cats+= [x for x in features if re.match('state_id_[m|a][^e]',x) or re.match('subsector_id_[m|a][^e]',x)]\n",
    "    categorical_feats = [x for x in features if (re.search('modeplus',x) or re.search('feature_',x))] + additional_cats \n",
    "    categorical_feats = list(set(categorical_feats))\n",
    "    #categorical_feats += [x for x in ['last4_months_cat','first_active_month_coded','client_wave','during_promo'] if x in features]\n",
    "    categorical_feats += [x for x in ['last4_months_cat','client_wave','during_promo'] if x in features]\n",
    "    #categorical_feats = list(set(categorical_feats)) + [x for x in ['client_wave','during_promo'] if x in features]\n",
    "    \n",
    "    warnings.filterwarnings(\"ignore\")\n",
    "\n",
    "\n",
    "#     for x_test in range(1):\n",
    "#         if x_test == 0:\n",
    "#             x_test+= 0.01\n",
    "            \n",
    "    for keys in range(4): \n",
    "        features,categorical_feats = best_disct_of_best_folds[keys][1],best_disct_of_best_folds[keys][3]\n",
    "        \n",
    "        param = {\n",
    "                'num_leaves': 111, #checked\n",
    "                 'num_threads': 4,\n",
    "                 'max_bin': 170, #checked 170\n",
    "                 'min_data_in_leaf': 100, #checked 100\n",
    "                 'objective':'regression',\n",
    "                 'max_depth': 9, #checked\n",
    "                 'tree_learner':'data',\n",
    "                 'learning_rate': 0.07,\n",
    "                 \"boosting\": \"gbdt\", #dart, gbdt\n",
    "                 \"feature_fraction\": 0.58, #checked 0.58\n",
    "                 \"bagging_freq\": 7, #5\n",
    "                 \"bagging_fraction\": 0.97, #checked 0.97\n",
    "                 \"bagging_seed\": 11,\n",
    "                 \"metric\": 'rmse',\n",
    "                 \"lambda_l1\": 23, #checked 26 / 23\n",
    "        #            'lambda_l2': 0.3, #checked\n",
    "                 \"random_state\": 77,\n",
    "                 \"verbosity\": -1,\n",
    "                 \"device\":\"gpu\",\n",
    "                 'gpu_device_id':0,\n",
    "                 'gpu_platform_id':1,\n",
    "                 'gpu_use_dp':True,\n",
    "                }\n",
    "\n",
    "\n",
    "        folds = KFold(n_splits=5, shuffle=True, random_state=15)\n",
    "        oof = np.zeros(len(train))\n",
    "        predictions = np.zeros(len(test))\n",
    "        start = time.time()\n",
    "        feature_importance_df = pd.DataFrame()\n",
    "\n",
    "        for fold_, (trn_idx, val_idx) in enumerate(folds.split(train.values, target.values)):\n",
    "            print(\"fold n°{}\".format(fold_))\n",
    "\n",
    "            trn_data = lgb.Dataset(train.iloc[trn_idx][features],\n",
    "                                   label=target.iloc[trn_idx],\n",
    "                                   categorical_feature=categorical_feats\n",
    "                                  )\n",
    "            val_data = lgb.Dataset(train.iloc[val_idx][features],\n",
    "                                   label=target.iloc[val_idx],\n",
    "                                   categorical_feature=categorical_feats\n",
    "                                  )\n",
    "\n",
    "\n",
    "            clf = lgb.train(param, \n",
    "                            trn_data,10000, \n",
    "                            valid_sets = [trn_data, val_data], \n",
    "                            verbose_eval=250, early_stopping_rounds = 250)\n",
    "\n",
    "            oof[val_idx] = clf.predict(train.iloc[val_idx][features], num_iteration=clf.best_iteration)\n",
    "            \n",
    "            #best fold score \n",
    "            this_fold_score = (mean_squared_error(oof[val_idx],target.iloc[val_idx])**0.5)\n",
    "            if disct_of_best_folds[fold_][0] > this_fold_score:\n",
    "                disct_of_best_folds[fold_][0] = this_fold_score\n",
    "                disct_of_best_folds[fold_][1] = features\n",
    "                disct_of_best_folds[fold_][2] = param\n",
    "                disct_of_best_folds[fold_][3] = categorical_feats\n",
    "                print(\"New best {}th fold score: {:<8.5f}\\n\".format(fold_,this_fold_score))\n",
    "            \n",
    "            fold_importance_df = pd.DataFrame()\n",
    "            fold_importance_df[\"feature\"] = features\n",
    "            fold_importance_df[\"importance\"] = clf.feature_importance()\n",
    "            fold_importance_df[\"fold\"] = fold_ + 1\n",
    "            feature_importance_df = pd.concat([feature_importance_df, fold_importance_df], axis=0)\n",
    "\n",
    "            predictions += clf.predict(test[features], num_iteration=clf.best_iteration) / folds.n_splits\n",
    "        \n",
    "            \n",
    "        \n",
    "        errr = mean_squared_error(oof, target)**0.5\n",
    "\n",
    "        if errr < best_res:\n",
    "            best_res = errr\n",
    "            best_test = x_test\n",
    "            best_z = z_test\n",
    "            print(f'better than ever {errr}')\n",
    "#            isbest = True\n",
    "\n",
    "\n",
    "     #   print(f\"x_test = {x_test}\")\n",
    "        print(\"CV score: {:<8.5f}\\n\".format(errr))\n",
    "    print(z_test)\n",
    "    \n",
    "    \n",
    "#    if isbest:\n",
    "#        break"
   ]
  },
  {
   "cell_type": "code",
   "execution_count": 17,
   "metadata": {
    "ExecuteTime": {
     "end_time": "2019-02-25T23:21:41.763831Z",
     "start_time": "2019-02-25T23:21:41.758833Z"
    },
    "cell_style": "split"
   },
   "outputs": [
    {
     "data": {
      "text/plain": [
       "(3.649211432617431, 0.01, 19)"
      ]
     },
     "execution_count": 17,
     "metadata": {},
     "output_type": "execute_result"
    }
   ],
   "source": [
    "best_res,best_test,best_z #(3.648730325988364, 7) #(3.651, 0)"
   ]
  },
  {
   "cell_type": "code",
   "execution_count": 21,
   "metadata": {
    "ExecuteTime": {
     "end_time": "2019-02-25T23:25:45.214750Z",
     "start_time": "2019-02-25T23:25:45.205753Z"
    },
    "cell_style": "split",
    "run_control": {
     "marked": true
    }
   },
   "outputs": [],
   "source": [
    "cols = (feature_importance_df[[\"feature\", \"importance\"]]\n",
    "        .groupby(\"feature\")\n",
    "        .mean()\n",
    "        .sort_values(by=\"importance\", ascending=False)[:1000].index)\n",
    "\n",
    "best_features = feature_importance_df.loc[feature_importance_df.feature.isin(cols)]"
   ]
  },
  {
   "cell_type": "code",
   "execution_count": 22,
   "metadata": {
    "ExecuteTime": {
     "end_time": "2019-02-25T23:25:45.821744Z",
     "start_time": "2019-02-25T23:25:45.799738Z"
    },
    "cell_style": "split",
    "scrolled": true
   },
   "outputs": [
    {
     "data": {
      "text/html": [
       "<div>\n",
       "<style scoped>\n",
       "    .dataframe tbody tr th:only-of-type {\n",
       "        vertical-align: middle;\n",
       "    }\n",
       "\n",
       "    .dataframe tbody tr th {\n",
       "        vertical-align: top;\n",
       "    }\n",
       "\n",
       "    .dataframe thead th {\n",
       "        text-align: right;\n",
       "    }\n",
       "</style>\n",
       "<table border=\"1\" class=\"dataframe\">\n",
       "  <thead>\n",
       "    <tr style=\"text-align: right;\">\n",
       "      <th></th>\n",
       "      <th>importance</th>\n",
       "    </tr>\n",
       "    <tr>\n",
       "      <th>feature</th>\n",
       "      <th></th>\n",
       "    </tr>\n",
       "  </thead>\n",
       "  <tbody>\n",
       "    <tr>\n",
       "      <th>mi_merchant_category_id_percent_to_merchid_std</th>\n",
       "      <td>18.2</td>\n",
       "    </tr>\n",
       "    <tr>\n",
       "      <th>first_catched_promo</th>\n",
       "      <td>18.8</td>\n",
       "    </tr>\n",
       "    <tr>\n",
       "      <th>month_lag_mean</th>\n",
       "      <td>20.6</td>\n",
       "    </tr>\n",
       "    <tr>\n",
       "      <th>subsector_id_max</th>\n",
       "      <td>22.4</td>\n",
       "    </tr>\n",
       "    <tr>\n",
       "      <th>all_month_pos__6_prc</th>\n",
       "      <td>22.6</td>\n",
       "    </tr>\n",
       "    <tr>\n",
       "      <th>4to5_rel_mean</th>\n",
       "      <td>23.0</td>\n",
       "    </tr>\n",
       "    <tr>\n",
       "      <th>all_months_distance_between_purchases_skew</th>\n",
       "      <td>23.8</td>\n",
       "    </tr>\n",
       "    <tr>\n",
       "      <th>hist_month_lag_mean</th>\n",
       "      <td>23.8</td>\n",
       "    </tr>\n",
       "    <tr>\n",
       "      <th>3to4_rel_mean</th>\n",
       "      <td>24.0</td>\n",
       "    </tr>\n",
       "    <tr>\n",
       "      <th>new_category_3_B_mean</th>\n",
       "      <td>24.4</td>\n",
       "    </tr>\n",
       "    <tr>\n",
       "      <th>0to1_rel_mean</th>\n",
       "      <td>24.6</td>\n",
       "    </tr>\n",
       "    <tr>\n",
       "      <th>proc_purchase_amount_min_max</th>\n",
       "      <td>25.4</td>\n",
       "    </tr>\n",
       "    <tr>\n",
       "      <th>purchase_date_day_ptp_plus</th>\n",
       "      <td>25.6</td>\n",
       "    </tr>\n",
       "    <tr>\n",
       "      <th>mi_card_id_percent_to_merchid_add_mode</th>\n",
       "      <td>26.0</td>\n",
       "    </tr>\n",
       "    <tr>\n",
       "      <th>auth_purchase_amount_min</th>\n",
       "      <td>26.0</td>\n",
       "    </tr>\n",
       "    <tr>\n",
       "      <th>agged_au_purchase_date_months_week_std</th>\n",
       "      <td>26.2</td>\n",
       "    </tr>\n",
       "    <tr>\n",
       "      <th>purchase_amount_mean_mean</th>\n",
       "      <td>26.4</td>\n",
       "    </tr>\n",
       "    <tr>\n",
       "      <th>purchase_amount_min</th>\n",
       "      <td>26.6</td>\n",
       "    </tr>\n",
       "    <tr>\n",
       "      <th>third_city</th>\n",
       "      <td>26.6</td>\n",
       "    </tr>\n",
       "    <tr>\n",
       "      <th>purchase_amount_min_std</th>\n",
       "      <td>27.0</td>\n",
       "    </tr>\n",
       "    <tr>\n",
       "      <th>auth_purchase_amount_mean</th>\n",
       "      <td>27.2</td>\n",
       "    </tr>\n",
       "    <tr>\n",
       "      <th>purchase_date_hour_0_skew</th>\n",
       "      <td>27.4</td>\n",
       "    </tr>\n",
       "    <tr>\n",
       "      <th>percent_in_holiday_days</th>\n",
       "      <td>27.6</td>\n",
       "    </tr>\n",
       "    <tr>\n",
       "      <th>all_purch_per_hour__13_prc</th>\n",
       "      <td>27.8</td>\n",
       "    </tr>\n",
       "    <tr>\n",
       "      <th>4to5_rel_gen_mean</th>\n",
       "      <td>27.8</td>\n",
       "    </tr>\n",
       "    <tr>\n",
       "      <th>all_purchases_skew</th>\n",
       "      <td>28.0</td>\n",
       "    </tr>\n",
       "    <tr>\n",
       "      <th>author_purchases_skew</th>\n",
       "      <td>28.4</td>\n",
       "    </tr>\n",
       "    <tr>\n",
       "      <th>mcimerchant_id_percent_to_mc_id_mean</th>\n",
       "      <td>28.8</td>\n",
       "    </tr>\n",
       "    <tr>\n",
       "      <th>mi_merchant_category_id_percent_to_merchid_mean</th>\n",
       "      <td>29.0</td>\n",
       "    </tr>\n",
       "    <tr>\n",
       "      <th>proc_purchase_amount_max_sum</th>\n",
       "      <td>29.2</td>\n",
       "    </tr>\n",
       "    <tr>\n",
       "      <th>last_month_distance_between_purchases_max</th>\n",
       "      <td>29.4</td>\n",
       "    </tr>\n",
       "    <tr>\n",
       "      <th>all_month_fbte__4_prc</th>\n",
       "      <td>29.4</td>\n",
       "    </tr>\n",
       "    <tr>\n",
       "      <th>mi_card_id_percent_to_merchid_mean</th>\n",
       "      <td>30.0</td>\n",
       "    </tr>\n",
       "    <tr>\n",
       "      <th>agged_au_purchase_amount_min</th>\n",
       "      <td>30.0</td>\n",
       "    </tr>\n",
       "    <tr>\n",
       "      <th>id6_percent_of_purchases</th>\n",
       "      <td>30.0</td>\n",
       "    </tr>\n",
       "    <tr>\n",
       "      <th>6to7_rel_gen_mean</th>\n",
       "      <td>30.4</td>\n",
       "    </tr>\n",
       "    <tr>\n",
       "      <th>purchase_amount_max_std</th>\n",
       "      <td>30.8</td>\n",
       "    </tr>\n",
       "    <tr>\n",
       "      <th>proc_purchase_amount_mean_min</th>\n",
       "      <td>30.8</td>\n",
       "    </tr>\n",
       "    <tr>\n",
       "      <th>purchase_amount_std_mean</th>\n",
       "      <td>30.8</td>\n",
       "    </tr>\n",
       "    <tr>\n",
       "      <th>proc_purchase_amount_min_min</th>\n",
       "      <td>31.0</td>\n",
       "    </tr>\n",
       "    <tr>\n",
       "      <th>non_author_purchases_mean</th>\n",
       "      <td>31.2</td>\n",
       "    </tr>\n",
       "    <tr>\n",
       "      <th>hist_purchase_amount_max</th>\n",
       "      <td>31.2</td>\n",
       "    </tr>\n",
       "    <tr>\n",
       "      <th>all_month_fetb__7_prc</th>\n",
       "      <td>31.4</td>\n",
       "    </tr>\n",
       "    <tr>\n",
       "      <th>proc_purchase_amount_min_mean</th>\n",
       "      <td>31.4</td>\n",
       "    </tr>\n",
       "    <tr>\n",
       "      <th>subsector_id_mean</th>\n",
       "      <td>31.4</td>\n",
       "    </tr>\n",
       "    <tr>\n",
       "      <th>proc_no_city_mean_mean</th>\n",
       "      <td>31.6</td>\n",
       "    </tr>\n",
       "    <tr>\n",
       "      <th>installments_std_std</th>\n",
       "      <td>31.6</td>\n",
       "    </tr>\n",
       "    <tr>\n",
       "      <th>purchase_date_hour_0_mean</th>\n",
       "      <td>31.6</td>\n",
       "    </tr>\n",
       "    <tr>\n",
       "      <th>5th_month_debt_bte_mean</th>\n",
       "      <td>31.8</td>\n",
       "    </tr>\n",
       "    <tr>\n",
       "      <th>new_merchant_category_id_nunique</th>\n",
       "      <td>32.2</td>\n",
       "    </tr>\n",
       "    <tr>\n",
       "      <th>id10_percent_of_purchases</th>\n",
       "      <td>32.4</td>\n",
       "    </tr>\n",
       "    <tr>\n",
       "      <th>purchase_amount_std_std</th>\n",
       "      <td>32.4</td>\n",
       "    </tr>\n",
       "    <tr>\n",
       "      <th>id5_percent_of_purchases</th>\n",
       "      <td>33.2</td>\n",
       "    </tr>\n",
       "    <tr>\n",
       "      <th>cd_city_id_prct_out</th>\n",
       "      <td>33.2</td>\n",
       "    </tr>\n",
       "    <tr>\n",
       "      <th>new_purchase_month_std</th>\n",
       "      <td>33.2</td>\n",
       "    </tr>\n",
       "    <tr>\n",
       "      <th>auth_merchant_id_nunique</th>\n",
       "      <td>33.4</td>\n",
       "    </tr>\n",
       "    <tr>\n",
       "      <th>purchase_date_hour_1_skew</th>\n",
       "      <td>33.6</td>\n",
       "    </tr>\n",
       "    <tr>\n",
       "      <th>all_purchases_max_percent</th>\n",
       "      <td>34.0</td>\n",
       "    </tr>\n",
       "    <tr>\n",
       "      <th>id3_percent_of_purchases</th>\n",
       "      <td>34.2</td>\n",
       "    </tr>\n",
       "    <tr>\n",
       "      <th>mcicard_id_percent_to_mc_id_mean</th>\n",
       "      <td>34.2</td>\n",
       "    </tr>\n",
       "    <tr>\n",
       "      <th>proc_cat2_dum_0.0_mean_mean</th>\n",
       "      <td>34.6</td>\n",
       "    </tr>\n",
       "    <tr>\n",
       "      <th>all_holidays_min</th>\n",
       "      <td>34.8</td>\n",
       "    </tr>\n",
       "    <tr>\n",
       "      <th>percent_of_month_activity</th>\n",
       "      <td>35.0</td>\n",
       "    </tr>\n",
       "    <tr>\n",
       "      <th>agged_au_category_1_mean</th>\n",
       "      <td>35.0</td>\n",
       "    </tr>\n",
       "    <tr>\n",
       "      <th>auth_purchase_amount_sum</th>\n",
       "      <td>35.0</td>\n",
       "    </tr>\n",
       "    <tr>\n",
       "      <th>2to3_rel_mean</th>\n",
       "      <td>35.2</td>\n",
       "    </tr>\n",
       "    <tr>\n",
       "      <th>mi_card_id_std</th>\n",
       "      <td>35.2</td>\n",
       "    </tr>\n",
       "    <tr>\n",
       "      <th>state_id_std</th>\n",
       "      <td>35.2</td>\n",
       "    </tr>\n",
       "    <tr>\n",
       "      <th>all_holidays_mean_percent</th>\n",
       "      <td>35.2</td>\n",
       "    </tr>\n",
       "    <tr>\n",
       "      <th>second_catched_promo</th>\n",
       "      <td>35.4</td>\n",
       "    </tr>\n",
       "    <tr>\n",
       "      <th>proc_purchase_amount_mean_max</th>\n",
       "      <td>35.4</td>\n",
       "    </tr>\n",
       "    <tr>\n",
       "      <th>all_month_fbte__0_prc</th>\n",
       "      <td>35.6</td>\n",
       "    </tr>\n",
       "    <tr>\n",
       "      <th>all_month_fbte__6_prc</th>\n",
       "      <td>35.6</td>\n",
       "    </tr>\n",
       "    <tr>\n",
       "      <th>author_purchases_max_percent</th>\n",
       "      <td>36.0</td>\n",
       "    </tr>\n",
       "    <tr>\n",
       "      <th>proc_purchase_amount_sum_max</th>\n",
       "      <td>36.2</td>\n",
       "    </tr>\n",
       "    <tr>\n",
       "      <th>hist_purchase_amount_min</th>\n",
       "      <td>36.2</td>\n",
       "    </tr>\n",
       "    <tr>\n",
       "      <th>purchase_date_hour_1_mean</th>\n",
       "      <td>36.6</td>\n",
       "    </tr>\n",
       "    <tr>\n",
       "      <th>auth_quartal_3_mean</th>\n",
       "      <td>36.6</td>\n",
       "    </tr>\n",
       "    <tr>\n",
       "      <th>installments_count_mean</th>\n",
       "      <td>36.8</td>\n",
       "    </tr>\n",
       "    <tr>\n",
       "      <th>city_id_purchase_amount_mean</th>\n",
       "      <td>36.8</td>\n",
       "    </tr>\n",
       "    <tr>\n",
       "      <th>all_holidays_mean</th>\n",
       "      <td>36.8</td>\n",
       "    </tr>\n",
       "    <tr>\n",
       "      <th>0to1_rel_gen_mean</th>\n",
       "      <td>37.0</td>\n",
       "    </tr>\n",
       "    <tr>\n",
       "      <th>8th_month_debt_bte_sum</th>\n",
       "      <td>37.0</td>\n",
       "    </tr>\n",
       "    <tr>\n",
       "      <th>proc_purchase_amount_mean_sum</th>\n",
       "      <td>37.0</td>\n",
       "    </tr>\n",
       "    <tr>\n",
       "      <th>7th_month_debt_bte_mean</th>\n",
       "      <td>37.2</td>\n",
       "    </tr>\n",
       "    <tr>\n",
       "      <th>length_of_activity_in_mpnths</th>\n",
       "      <td>37.4</td>\n",
       "    </tr>\n",
       "    <tr>\n",
       "      <th>auth_month_lag_std</th>\n",
       "      <td>37.6</td>\n",
       "    </tr>\n",
       "    <tr>\n",
       "      <th>all_holidays_min_percent</th>\n",
       "      <td>37.6</td>\n",
       "    </tr>\n",
       "    <tr>\n",
       "      <th>category_combined_with_cat1_std</th>\n",
       "      <td>37.6</td>\n",
       "    </tr>\n",
       "    <tr>\n",
       "      <th>7th_month_debt_bte_sum</th>\n",
       "      <td>37.8</td>\n",
       "    </tr>\n",
       "    <tr>\n",
       "      <th>proc_purchase_amount_max_min</th>\n",
       "      <td>37.8</td>\n",
       "    </tr>\n",
       "    <tr>\n",
       "      <th>id9_percent_of_purchases</th>\n",
       "      <td>37.8</td>\n",
       "    </tr>\n",
       "    <tr>\n",
       "      <th>auth_purchase_date_ptp</th>\n",
       "      <td>37.8</td>\n",
       "    </tr>\n",
       "    <tr>\n",
       "      <th>proc_purchase_amount_sum_mean</th>\n",
       "      <td>38.0</td>\n",
       "    </tr>\n",
       "    <tr>\n",
       "      <th>authorized_flag_mean</th>\n",
       "      <td>38.0</td>\n",
       "    </tr>\n",
       "    <tr>\n",
       "      <th>cd_subsector_id_prct_out</th>\n",
       "      <td>38.0</td>\n",
       "    </tr>\n",
       "    <tr>\n",
       "      <th>ml_all_month_lag_mean_PM</th>\n",
       "      <td>38.0</td>\n",
       "    </tr>\n",
       "    <tr>\n",
       "      <th>all_month_pos__8_prc</th>\n",
       "      <td>38.0</td>\n",
       "    </tr>\n",
       "    <tr>\n",
       "      <th>author_purchases_min_percent</th>\n",
       "      <td>38.2</td>\n",
       "    </tr>\n",
       "    <tr>\n",
       "      <th>proc_installments_max_sum</th>\n",
       "      <td>38.2</td>\n",
       "    </tr>\n",
       "    <tr>\n",
       "      <th>hist_month_lag_std</th>\n",
       "      <td>38.2</td>\n",
       "    </tr>\n",
       "    <tr>\n",
       "      <th>average_purchase_per_day</th>\n",
       "      <td>38.2</td>\n",
       "    </tr>\n",
       "    <tr>\n",
       "      <th>new_month_diff_mean</th>\n",
       "      <td>38.4</td>\n",
       "    </tr>\n",
       "    <tr>\n",
       "      <th>mcicard_id_min</th>\n",
       "      <td>38.4</td>\n",
       "    </tr>\n",
       "    <tr>\n",
       "      <th>hist_purchase_date_max</th>\n",
       "      <td>38.6</td>\n",
       "    </tr>\n",
       "    <tr>\n",
       "      <th>all_day_2_num_of_purch_prc</th>\n",
       "      <td>38.6</td>\n",
       "    </tr>\n",
       "    <tr>\n",
       "      <th>feature_1</th>\n",
       "      <td>38.6</td>\n",
       "    </tr>\n",
       "    <tr>\n",
       "      <th>5th_month_debt_bte_sum</th>\n",
       "      <td>38.6</td>\n",
       "    </tr>\n",
       "    <tr>\n",
       "      <th>agged_au_purchase_years_day_ptp</th>\n",
       "      <td>39.0</td>\n",
       "    </tr>\n",
       "    <tr>\n",
       "      <th>1to2_rel_mean</th>\n",
       "      <td>39.2</td>\n",
       "    </tr>\n",
       "    <tr>\n",
       "      <th>subsector_id_std</th>\n",
       "      <td>39.4</td>\n",
       "    </tr>\n",
       "    <tr>\n",
       "      <th>4th_month_debt_bte_sum</th>\n",
       "      <td>39.4</td>\n",
       "    </tr>\n",
       "    <tr>\n",
       "      <th>purchase_dur_wknd</th>\n",
       "      <td>39.6</td>\n",
       "    </tr>\n",
       "    <tr>\n",
       "      <th>installments_purchase_amount_min</th>\n",
       "      <td>39.6</td>\n",
       "    </tr>\n",
       "    <tr>\n",
       "      <th>category_1_purchase_amount_min</th>\n",
       "      <td>39.8</td>\n",
       "    </tr>\n",
       "    <tr>\n",
       "      <th>all_holidays_std</th>\n",
       "      <td>39.8</td>\n",
       "    </tr>\n",
       "    <tr>\n",
       "      <th>all_month_fbte__5_prc</th>\n",
       "      <td>39.8</td>\n",
       "    </tr>\n",
       "    <tr>\n",
       "      <th>all_months_distance_between_purchases_median</th>\n",
       "      <td>40.4</td>\n",
       "    </tr>\n",
       "    <tr>\n",
       "      <th>agged_au_month_lag_mean</th>\n",
       "      <td>41.0</td>\n",
       "    </tr>\n",
       "    <tr>\n",
       "      <th>agged_non_debt_until_month_mean</th>\n",
       "      <td>41.4</td>\n",
       "    </tr>\n",
       "    <tr>\n",
       "      <th>auth_month_lag_mean</th>\n",
       "      <td>41.8</td>\n",
       "    </tr>\n",
       "    <tr>\n",
       "      <th>proc_purchase_amount_min_sum</th>\n",
       "      <td>42.2</td>\n",
       "    </tr>\n",
       "    <tr>\n",
       "      <th>agged_non_valid_authorization_percent_max</th>\n",
       "      <td>42.4</td>\n",
       "    </tr>\n",
       "    <tr>\n",
       "      <th>ml_au_month_lag_mean_PM</th>\n",
       "      <td>42.8</td>\n",
       "    </tr>\n",
       "    <tr>\n",
       "      <th>auth_days_activity_max</th>\n",
       "      <td>42.8</td>\n",
       "    </tr>\n",
       "    <tr>\n",
       "      <th>2to3_rel_gen_mean</th>\n",
       "      <td>43.2</td>\n",
       "    </tr>\n",
       "    <tr>\n",
       "      <th>all_holidays_max</th>\n",
       "      <td>43.2</td>\n",
       "    </tr>\n",
       "    <tr>\n",
       "      <th>agged_non_city_id_modeplus</th>\n",
       "      <td>43.2</td>\n",
       "    </tr>\n",
       "    <tr>\n",
       "      <th>hist_purchase_date_ptp</th>\n",
       "      <td>43.2</td>\n",
       "    </tr>\n",
       "    <tr>\n",
       "      <th>proc_cat3_dum_B_mean_mean</th>\n",
       "      <td>43.4</td>\n",
       "    </tr>\n",
       "    <tr>\n",
       "      <th>3to4_rel_gen_mean</th>\n",
       "      <td>43.4</td>\n",
       "    </tr>\n",
       "    <tr>\n",
       "      <th>agged_non_purchase_date_hour_std</th>\n",
       "      <td>43.8</td>\n",
       "    </tr>\n",
       "    <tr>\n",
       "      <th>1to2_rel_gen_mean</th>\n",
       "      <td>44.0</td>\n",
       "    </tr>\n",
       "    <tr>\n",
       "      <th>mcicard_id_std</th>\n",
       "      <td>44.2</td>\n",
       "    </tr>\n",
       "    <tr>\n",
       "      <th>all_holidays_max_percent</th>\n",
       "      <td>45.0</td>\n",
       "    </tr>\n",
       "    <tr>\n",
       "      <th>proc_installments_sum_min</th>\n",
       "      <td>45.0</td>\n",
       "    </tr>\n",
       "    <tr>\n",
       "      <th>eb_non_purchase_amount_count_std_PM</th>\n",
       "      <td>45.0</td>\n",
       "    </tr>\n",
       "    <tr>\n",
       "      <th>mcimerchant_id_std</th>\n",
       "      <td>45.0</td>\n",
       "    </tr>\n",
       "    <tr>\n",
       "      <th>agged_non_purchase_amount_sum</th>\n",
       "      <td>45.2</td>\n",
       "    </tr>\n",
       "    <tr>\n",
       "      <th>all_month_pos__10_prc</th>\n",
       "      <td>45.8</td>\n",
       "    </tr>\n",
       "    <tr>\n",
       "      <th>5to6_rel_mean</th>\n",
       "      <td>46.0</td>\n",
       "    </tr>\n",
       "    <tr>\n",
       "      <th>last_payments_month</th>\n",
       "      <td>46.0</td>\n",
       "    </tr>\n",
       "    <tr>\n",
       "      <th>installments_purchase_amount_max</th>\n",
       "      <td>46.2</td>\n",
       "    </tr>\n",
       "    <tr>\n",
       "      <th>all_month_pos__15</th>\n",
       "      <td>46.4</td>\n",
       "    </tr>\n",
       "    <tr>\n",
       "      <th>category_combined_without_cat1_top_quarter_quantile</th>\n",
       "      <td>46.6</td>\n",
       "    </tr>\n",
       "    <tr>\n",
       "      <th>cd_merchant_category_id_prct_out</th>\n",
       "      <td>46.6</td>\n",
       "    </tr>\n",
       "    <tr>\n",
       "      <th>all_purchases_mean_percent</th>\n",
       "      <td>48.0</td>\n",
       "    </tr>\n",
       "    <tr>\n",
       "      <th>proc_purchase_amount_mean_mean</th>\n",
       "      <td>48.0</td>\n",
       "    </tr>\n",
       "    <tr>\n",
       "      <th>all_month_pos__9_prc</th>\n",
       "      <td>48.4</td>\n",
       "    </tr>\n",
       "    <tr>\n",
       "      <th>all_month_pos__16_prc</th>\n",
       "      <td>48.6</td>\n",
       "    </tr>\n",
       "    <tr>\n",
       "      <th>purchase_dur_wknd_prc</th>\n",
       "      <td>48.6</td>\n",
       "    </tr>\n",
       "    <tr>\n",
       "      <th>proc_purchase_amount_sum_min</th>\n",
       "      <td>49.0</td>\n",
       "    </tr>\n",
       "    <tr>\n",
       "      <th>agged_au_category_1_sum</th>\n",
       "      <td>49.2</td>\n",
       "    </tr>\n",
       "    <tr>\n",
       "      <th>new_purchase_amount_sum</th>\n",
       "      <td>49.6</td>\n",
       "    </tr>\n",
       "    <tr>\n",
       "      <th>hist_purchase_date_min</th>\n",
       "      <td>49.6</td>\n",
       "    </tr>\n",
       "    <tr>\n",
       "      <th>auth_purchase_date_min</th>\n",
       "      <td>49.8</td>\n",
       "    </tr>\n",
       "    <tr>\n",
       "      <th>agged_au_city_id_modeplus</th>\n",
       "      <td>50.8</td>\n",
       "    </tr>\n",
       "    <tr>\n",
       "      <th>hist_purchase_amount_sum</th>\n",
       "      <td>51.0</td>\n",
       "    </tr>\n",
       "    <tr>\n",
       "      <th>agged_all_city_id_modeplus</th>\n",
       "      <td>51.2</td>\n",
       "    </tr>\n",
       "    <tr>\n",
       "      <th>6th_month_debt_bte_mean</th>\n",
       "      <td>51.6</td>\n",
       "    </tr>\n",
       "    <tr>\n",
       "      <th>all_month_pos__14_prc</th>\n",
       "      <td>51.6</td>\n",
       "    </tr>\n",
       "    <tr>\n",
       "      <th>agged_all_category_1_sum</th>\n",
       "      <td>52.0</td>\n",
       "    </tr>\n",
       "    <tr>\n",
       "      <th>id11_percent_of_purchases</th>\n",
       "      <td>52.2</td>\n",
       "    </tr>\n",
       "    <tr>\n",
       "      <th>proc_purchase_amount_std_mean</th>\n",
       "      <td>52.2</td>\n",
       "    </tr>\n",
       "    <tr>\n",
       "      <th>all_month_pos__15_prc</th>\n",
       "      <td>52.2</td>\n",
       "    </tr>\n",
       "    <tr>\n",
       "      <th>new_category_1_mean</th>\n",
       "      <td>52.8</td>\n",
       "    </tr>\n",
       "    <tr>\n",
       "      <th>agged_au_merchant_category_id_modeplus</th>\n",
       "      <td>53.2</td>\n",
       "    </tr>\n",
       "    <tr>\n",
       "      <th>all_month_fetb__1_prc</th>\n",
       "      <td>54.4</td>\n",
       "    </tr>\n",
       "    <tr>\n",
       "      <th>agged_non_payment_per_month_sum</th>\n",
       "      <td>54.6</td>\n",
       "    </tr>\n",
       "    <tr>\n",
       "      <th>new_month_lag_mean</th>\n",
       "      <td>55.6</td>\n",
       "    </tr>\n",
       "    <tr>\n",
       "      <th>city_id_purchase_amount_max</th>\n",
       "      <td>56.0</td>\n",
       "    </tr>\n",
       "    <tr>\n",
       "      <th>agged_all_purchase_date_year_mean</th>\n",
       "      <td>58.4</td>\n",
       "    </tr>\n",
       "    <tr>\n",
       "      <th>proc_authorized_flag_mean_mean</th>\n",
       "      <td>58.6</td>\n",
       "    </tr>\n",
       "    <tr>\n",
       "      <th>new_days_activity_max</th>\n",
       "      <td>59.2</td>\n",
       "    </tr>\n",
       "    <tr>\n",
       "      <th>new_purchases_per_month_mean</th>\n",
       "      <td>60.0</td>\n",
       "    </tr>\n",
       "    <tr>\n",
       "      <th>agged_au_purchase_date_year_mean</th>\n",
       "      <td>61.0</td>\n",
       "    </tr>\n",
       "    <tr>\n",
       "      <th>agged_all_merchant_category_id_modeplus</th>\n",
       "      <td>61.8</td>\n",
       "    </tr>\n",
       "    <tr>\n",
       "      <th>purchase_amount_max_mean</th>\n",
       "      <td>62.4</td>\n",
       "    </tr>\n",
       "    <tr>\n",
       "      <th>category_combined_without_cat1_modeplus</th>\n",
       "      <td>65.2</td>\n",
       "    </tr>\n",
       "    <tr>\n",
       "      <th>last4_months_cat</th>\n",
       "      <td>67.6</td>\n",
       "    </tr>\n",
       "    <tr>\n",
       "      <th>new_purchase_amount_std</th>\n",
       "      <td>72.6</td>\n",
       "    </tr>\n",
       "    <tr>\n",
       "      <th>new_purchase_date_min</th>\n",
       "      <td>74.8</td>\n",
       "    </tr>\n",
       "    <tr>\n",
       "      <th>proc_purchase_amount_max_mean</th>\n",
       "      <td>77.0</td>\n",
       "    </tr>\n",
       "    <tr>\n",
       "      <th>all_month_fetb__1</th>\n",
       "      <td>78.4</td>\n",
       "    </tr>\n",
       "    <tr>\n",
       "      <th>outliners_months_percent</th>\n",
       "      <td>80.2</td>\n",
       "    </tr>\n",
       "    <tr>\n",
       "      <th>agged_non_merchant_category_id_modeplus</th>\n",
       "      <td>81.8</td>\n",
       "    </tr>\n",
       "    <tr>\n",
       "      <th>author_purchases_mean_percent</th>\n",
       "      <td>84.0</td>\n",
       "    </tr>\n",
       "    <tr>\n",
       "      <th>category_combined_with_cat1_modeplus</th>\n",
       "      <td>88.6</td>\n",
       "    </tr>\n",
       "    <tr>\n",
       "      <th>new_purchase_date_ptp</th>\n",
       "      <td>88.6</td>\n",
       "    </tr>\n",
       "    <tr>\n",
       "      <th>category_combined_with_cat1_top_quarter_quantile</th>\n",
       "      <td>90.2</td>\n",
       "    </tr>\n",
       "    <tr>\n",
       "      <th>new_purchase_date_max</th>\n",
       "      <td>96.4</td>\n",
       "    </tr>\n",
       "    <tr>\n",
       "      <th>agged_au_purchase_date_day_max</th>\n",
       "      <td>101.8</td>\n",
       "    </tr>\n",
       "    <tr>\n",
       "      <th>last_payments_day</th>\n",
       "      <td>108.6</td>\n",
       "    </tr>\n",
       "    <tr>\n",
       "      <th>hist_month_diff_mean</th>\n",
       "      <td>112.2</td>\n",
       "    </tr>\n",
       "    <tr>\n",
       "      <th>new_purchase_amount_max</th>\n",
       "      <td>113.8</td>\n",
       "    </tr>\n",
       "    <tr>\n",
       "      <th>agged_all_purchase_date_day_max</th>\n",
       "      <td>121.6</td>\n",
       "    </tr>\n",
       "    <tr>\n",
       "      <th>category_combined_without_cat1_bottom_quarter_quantile</th>\n",
       "      <td>125.8</td>\n",
       "    </tr>\n",
       "    <tr>\n",
       "      <th>auth_purchase_date_max</th>\n",
       "      <td>127.4</td>\n",
       "    </tr>\n",
       "    <tr>\n",
       "      <th>new_purchase_month_mean</th>\n",
       "      <td>128.4</td>\n",
       "    </tr>\n",
       "    <tr>\n",
       "      <th>auth_month_diff_mean</th>\n",
       "      <td>145.4</td>\n",
       "    </tr>\n",
       "    <tr>\n",
       "      <th>category_combined_with_cat1_bottom_quarter_quantile</th>\n",
       "      <td>163.4</td>\n",
       "    </tr>\n",
       "  </tbody>\n",
       "</table>\n",
       "</div>"
      ],
      "text/plain": [
       "                                                    importance\n",
       "feature                                                       \n",
       "mi_merchant_category_id_percent_to_merchid_std            18.2\n",
       "first_catched_promo                                       18.8\n",
       "month_lag_mean                                            20.6\n",
       "subsector_id_max                                          22.4\n",
       "all_month_pos__6_prc                                      22.6\n",
       "4to5_rel_mean                                             23.0\n",
       "all_months_distance_between_purchases_skew                23.8\n",
       "hist_month_lag_mean                                       23.8\n",
       "3to4_rel_mean                                             24.0\n",
       "new_category_3_B_mean                                     24.4\n",
       "0to1_rel_mean                                             24.6\n",
       "proc_purchase_amount_min_max                              25.4\n",
       "purchase_date_day_ptp_plus                                25.6\n",
       "mi_card_id_percent_to_merchid_add_mode                    26.0\n",
       "auth_purchase_amount_min                                  26.0\n",
       "agged_au_purchase_date_months_week_std                    26.2\n",
       "purchase_amount_mean_mean                                 26.4\n",
       "purchase_amount_min                                       26.6\n",
       "third_city                                                26.6\n",
       "purchase_amount_min_std                                   27.0\n",
       "auth_purchase_amount_mean                                 27.2\n",
       "purchase_date_hour_0_skew                                 27.4\n",
       "percent_in_holiday_days                                   27.6\n",
       "all_purch_per_hour__13_prc                                27.8\n",
       "4to5_rel_gen_mean                                         27.8\n",
       "all_purchases_skew                                        28.0\n",
       "author_purchases_skew                                     28.4\n",
       "mcimerchant_id_percent_to_mc_id_mean                      28.8\n",
       "mi_merchant_category_id_percent_to_merchid_mean           29.0\n",
       "proc_purchase_amount_max_sum                              29.2\n",
       "last_month_distance_between_purchases_max                 29.4\n",
       "all_month_fbte__4_prc                                     29.4\n",
       "mi_card_id_percent_to_merchid_mean                        30.0\n",
       "agged_au_purchase_amount_min                              30.0\n",
       "id6_percent_of_purchases                                  30.0\n",
       "6to7_rel_gen_mean                                         30.4\n",
       "purchase_amount_max_std                                   30.8\n",
       "proc_purchase_amount_mean_min                             30.8\n",
       "purchase_amount_std_mean                                  30.8\n",
       "proc_purchase_amount_min_min                              31.0\n",
       "non_author_purchases_mean                                 31.2\n",
       "hist_purchase_amount_max                                  31.2\n",
       "all_month_fetb__7_prc                                     31.4\n",
       "proc_purchase_amount_min_mean                             31.4\n",
       "subsector_id_mean                                         31.4\n",
       "proc_no_city_mean_mean                                    31.6\n",
       "installments_std_std                                      31.6\n",
       "purchase_date_hour_0_mean                                 31.6\n",
       "5th_month_debt_bte_mean                                   31.8\n",
       "new_merchant_category_id_nunique                          32.2\n",
       "id10_percent_of_purchases                                 32.4\n",
       "purchase_amount_std_std                                   32.4\n",
       "id5_percent_of_purchases                                  33.2\n",
       "cd_city_id_prct_out                                       33.2\n",
       "new_purchase_month_std                                    33.2\n",
       "auth_merchant_id_nunique                                  33.4\n",
       "purchase_date_hour_1_skew                                 33.6\n",
       "all_purchases_max_percent                                 34.0\n",
       "id3_percent_of_purchases                                  34.2\n",
       "mcicard_id_percent_to_mc_id_mean                          34.2\n",
       "proc_cat2_dum_0.0_mean_mean                               34.6\n",
       "all_holidays_min                                          34.8\n",
       "percent_of_month_activity                                 35.0\n",
       "agged_au_category_1_mean                                  35.0\n",
       "auth_purchase_amount_sum                                  35.0\n",
       "2to3_rel_mean                                             35.2\n",
       "mi_card_id_std                                            35.2\n",
       "state_id_std                                              35.2\n",
       "all_holidays_mean_percent                                 35.2\n",
       "second_catched_promo                                      35.4\n",
       "proc_purchase_amount_mean_max                             35.4\n",
       "all_month_fbte__0_prc                                     35.6\n",
       "all_month_fbte__6_prc                                     35.6\n",
       "author_purchases_max_percent                              36.0\n",
       "proc_purchase_amount_sum_max                              36.2\n",
       "hist_purchase_amount_min                                  36.2\n",
       "purchase_date_hour_1_mean                                 36.6\n",
       "auth_quartal_3_mean                                       36.6\n",
       "installments_count_mean                                   36.8\n",
       "city_id_purchase_amount_mean                              36.8\n",
       "all_holidays_mean                                         36.8\n",
       "0to1_rel_gen_mean                                         37.0\n",
       "8th_month_debt_bte_sum                                    37.0\n",
       "proc_purchase_amount_mean_sum                             37.0\n",
       "7th_month_debt_bte_mean                                   37.2\n",
       "length_of_activity_in_mpnths                              37.4\n",
       "auth_month_lag_std                                        37.6\n",
       "all_holidays_min_percent                                  37.6\n",
       "category_combined_with_cat1_std                           37.6\n",
       "7th_month_debt_bte_sum                                    37.8\n",
       "proc_purchase_amount_max_min                              37.8\n",
       "id9_percent_of_purchases                                  37.8\n",
       "auth_purchase_date_ptp                                    37.8\n",
       "proc_purchase_amount_sum_mean                             38.0\n",
       "authorized_flag_mean                                      38.0\n",
       "cd_subsector_id_prct_out                                  38.0\n",
       "ml_all_month_lag_mean_PM                                  38.0\n",
       "all_month_pos__8_prc                                      38.0\n",
       "author_purchases_min_percent                              38.2\n",
       "proc_installments_max_sum                                 38.2\n",
       "hist_month_lag_std                                        38.2\n",
       "average_purchase_per_day                                  38.2\n",
       "new_month_diff_mean                                       38.4\n",
       "mcicard_id_min                                            38.4\n",
       "hist_purchase_date_max                                    38.6\n",
       "all_day_2_num_of_purch_prc                                38.6\n",
       "feature_1                                                 38.6\n",
       "5th_month_debt_bte_sum                                    38.6\n",
       "agged_au_purchase_years_day_ptp                           39.0\n",
       "1to2_rel_mean                                             39.2\n",
       "subsector_id_std                                          39.4\n",
       "4th_month_debt_bte_sum                                    39.4\n",
       "purchase_dur_wknd                                         39.6\n",
       "installments_purchase_amount_min                          39.6\n",
       "category_1_purchase_amount_min                            39.8\n",
       "all_holidays_std                                          39.8\n",
       "all_month_fbte__5_prc                                     39.8\n",
       "all_months_distance_between_purchases_median              40.4\n",
       "agged_au_month_lag_mean                                   41.0\n",
       "agged_non_debt_until_month_mean                           41.4\n",
       "auth_month_lag_mean                                       41.8\n",
       "proc_purchase_amount_min_sum                              42.2\n",
       "agged_non_valid_authorization_percent_max                 42.4\n",
       "ml_au_month_lag_mean_PM                                   42.8\n",
       "auth_days_activity_max                                    42.8\n",
       "2to3_rel_gen_mean                                         43.2\n",
       "all_holidays_max                                          43.2\n",
       "agged_non_city_id_modeplus                                43.2\n",
       "hist_purchase_date_ptp                                    43.2\n",
       "proc_cat3_dum_B_mean_mean                                 43.4\n",
       "3to4_rel_gen_mean                                         43.4\n",
       "agged_non_purchase_date_hour_std                          43.8\n",
       "1to2_rel_gen_mean                                         44.0\n",
       "mcicard_id_std                                            44.2\n",
       "all_holidays_max_percent                                  45.0\n",
       "proc_installments_sum_min                                 45.0\n",
       "eb_non_purchase_amount_count_std_PM                       45.0\n",
       "mcimerchant_id_std                                        45.0\n",
       "agged_non_purchase_amount_sum                             45.2\n",
       "all_month_pos__10_prc                                     45.8\n",
       "5to6_rel_mean                                             46.0\n",
       "last_payments_month                                       46.0\n",
       "installments_purchase_amount_max                          46.2\n",
       "all_month_pos__15                                         46.4\n",
       "category_combined_without_cat1_top_quarter_quan...        46.6\n",
       "cd_merchant_category_id_prct_out                          46.6\n",
       "all_purchases_mean_percent                                48.0\n",
       "proc_purchase_amount_mean_mean                            48.0\n",
       "all_month_pos__9_prc                                      48.4\n",
       "all_month_pos__16_prc                                     48.6\n",
       "purchase_dur_wknd_prc                                     48.6\n",
       "proc_purchase_amount_sum_min                              49.0\n",
       "agged_au_category_1_sum                                   49.2\n",
       "new_purchase_amount_sum                                   49.6\n",
       "hist_purchase_date_min                                    49.6\n",
       "auth_purchase_date_min                                    49.8\n",
       "agged_au_city_id_modeplus                                 50.8\n",
       "hist_purchase_amount_sum                                  51.0\n",
       "agged_all_city_id_modeplus                                51.2\n",
       "6th_month_debt_bte_mean                                   51.6\n",
       "all_month_pos__14_prc                                     51.6\n",
       "agged_all_category_1_sum                                  52.0\n",
       "id11_percent_of_purchases                                 52.2\n",
       "proc_purchase_amount_std_mean                             52.2\n",
       "all_month_pos__15_prc                                     52.2\n",
       "new_category_1_mean                                       52.8\n",
       "agged_au_merchant_category_id_modeplus                    53.2\n",
       "all_month_fetb__1_prc                                     54.4\n",
       "agged_non_payment_per_month_sum                           54.6\n",
       "new_month_lag_mean                                        55.6\n",
       "city_id_purchase_amount_max                               56.0\n",
       "agged_all_purchase_date_year_mean                         58.4\n",
       "proc_authorized_flag_mean_mean                            58.6\n",
       "new_days_activity_max                                     59.2\n",
       "new_purchases_per_month_mean                              60.0\n",
       "agged_au_purchase_date_year_mean                          61.0\n",
       "agged_all_merchant_category_id_modeplus                   61.8\n",
       "purchase_amount_max_mean                                  62.4\n",
       "category_combined_without_cat1_modeplus                   65.2\n",
       "last4_months_cat                                          67.6\n",
       "new_purchase_amount_std                                   72.6\n",
       "new_purchase_date_min                                     74.8\n",
       "proc_purchase_amount_max_mean                             77.0\n",
       "all_month_fetb__1                                         78.4\n",
       "outliners_months_percent                                  80.2\n",
       "agged_non_merchant_category_id_modeplus                   81.8\n",
       "author_purchases_mean_percent                             84.0\n",
       "category_combined_with_cat1_modeplus                      88.6\n",
       "new_purchase_date_ptp                                     88.6\n",
       "category_combined_with_cat1_top_quarter_quantile          90.2\n",
       "new_purchase_date_max                                     96.4\n",
       "agged_au_purchase_date_day_max                           101.8\n",
       "last_payments_day                                        108.6\n",
       "hist_month_diff_mean                                     112.2\n",
       "new_purchase_amount_max                                  113.8\n",
       "agged_all_purchase_date_day_max                          121.6\n",
       "category_combined_without_cat1_bottom_quarter_q...       125.8\n",
       "auth_purchase_date_max                                   127.4\n",
       "new_purchase_month_mean                                  128.4\n",
       "auth_month_diff_mean                                     145.4\n",
       "category_combined_with_cat1_bottom_quarter_quan...       163.4"
      ]
     },
     "execution_count": 22,
     "metadata": {},
     "output_type": "execute_result"
    }
   ],
   "source": [
    "all_cols = pd.DataFrame(best_features.groupby(['feature'])['importance'].mean()).sort_values(by='importance')\n",
    "all_cols"
   ]
  },
  {
   "cell_type": "code",
   "execution_count": 18,
   "metadata": {
    "ExecuteTime": {
     "end_time": "2019-02-25T23:21:47.745616Z",
     "start_time": "2019-02-25T23:21:47.741616Z"
    },
    "cell_style": "split"
   },
   "outputs": [],
   "source": [
    "best_cols = all_cols[all_cols.importance >19].index"
   ]
  },
  {
   "cell_type": "code",
   "execution_count": 19,
   "metadata": {
    "ExecuteTime": {
     "end_time": "2019-02-23T13:25:42.466275Z",
     "start_time": "2019-02-23T13:25:42.461277Z"
    },
    "cell_style": "split"
   },
   "outputs": [
    {
     "data": {
      "text/plain": [
       "Index(['new_purchases_per_month_mean', 'all_purchases_mean_percent',\n",
       "       'category_combined_with_cat1_modeplus', 'all_month_fetb__1',\n",
       "       'proc_purchase_amount_max_mean', 'new_purchase_amount_std',\n",
       "       'new_purchase_date_ptp', 'new_purchase_date_max',\n",
       "       'agged_all_purchase_date_day_max', 'hist_month_diff_mean',\n",
       "       'agged_non_merchant_category_id_modeplus', 'new_purchase_month_mean',\n",
       "       'new_purchase_amount_max', 'auth_purchase_date_max',\n",
       "       'category_combined_without_cat1_bottom_quarter_quantile',\n",
       "       'agged_au_purchase_date_day_max', 'last_payments_day',\n",
       "       'auth_month_diff_mean',\n",
       "       'category_combined_with_cat1_bottom_quarter_quantile',\n",
       "       'first_active_month_coded'],\n",
       "      dtype='object', name='feature')"
      ]
     },
     "execution_count": 19,
     "metadata": {},
     "output_type": "execute_result"
    }
   ],
   "source": [
    "best_cols"
   ]
  },
  {
   "cell_type": "code",
   "execution_count": 41,
   "metadata": {
    "ExecuteTime": {
     "end_time": "2019-02-16T19:50:43.067250Z",
     "start_time": "2019-02-16T19:50:42.635467Z"
    },
    "cell_style": "split"
   },
   "outputs": [],
   "source": [
    "sub_df = pd.DataFrame({\"card_id\":test[\"card_id\"].values})\n",
    "sub_df[\"target\"] = predictions\n",
    "sub_df.to_csv(\"submit_with_all_additions16.csv\", index=False)"
   ]
  },
  {
   "cell_type": "code",
   "execution_count": 20,
   "metadata": {
    "ExecuteTime": {
     "end_time": "2019-02-21T12:54:03.671386Z",
     "start_time": "2019-02-21T12:51:36.557253Z"
    },
    "cell_style": "split",
    "code_folding": [
     7,
     39
    ],
    "run_control": {
     "marked": true
    }
   },
   "outputs": [
    {
     "name": "stdout",
     "output_type": "stream",
     "text": [
      "fold n°0\n",
      "Training until validation scores don't improve for 250 rounds.\n",
      "[250]\ttraining's rmse: 2.96997\tvalid_1's rmse: 3.6865\n",
      "Early stopping, best iteration is:\n",
      "[66]\ttraining's rmse: 3.33915\tvalid_1's rmse: 3.67566\n",
      "fold n°1\n",
      "Training until validation scores don't improve for 250 rounds.\n",
      "[250]\ttraining's rmse: 2.99227\tvalid_1's rmse: 3.62827\n",
      "Early stopping, best iteration is:\n",
      "[69]\ttraining's rmse: 3.34625\tvalid_1's rmse: 3.61458\n",
      "fold n°2\n",
      "Training until validation scores don't improve for 250 rounds.\n",
      "[250]\ttraining's rmse: 3.00017\tvalid_1's rmse: 3.59804\n",
      "Early stopping, best iteration is:\n",
      "[84]\ttraining's rmse: 3.31718\tvalid_1's rmse: 3.5913\n",
      "fold n°3\n",
      "Training until validation scores don't improve for 250 rounds.\n",
      "[250]\ttraining's rmse: 2.9426\tvalid_1's rmse: 3.80068\n",
      "Early stopping, best iteration is:\n",
      "[69]\ttraining's rmse: 3.30196\tvalid_1's rmse: 3.78649\n",
      "fold n°4\n",
      "Training until validation scores don't improve for 250 rounds.\n",
      "[250]\ttraining's rmse: 2.96212\tvalid_1's rmse: 3.62826\n",
      "Early stopping, best iteration is:\n",
      "[57]\ttraining's rmse: 3.37568\tvalid_1's rmse: 3.6127\n",
      "CV score: 3.65684 \n",
      "\n"
     ]
    }
   ],
   "source": [
    "#FULL TABLE TEST\n",
    "features = [c for c in train.columns if c not in ['card_id', 'first_active_month','last_active_month']]\n",
    "additional_cats= [x for x in features if re.search('[th]_cat1_[^s]',x)]\n",
    "categorical_feats = [x for x in features if (re.search('modeplus',x) or re.search('feature_',x))] + additional_cats \n",
    "categorical_feats = list(set(categorical_feats)) + [x for x in ['client_wave','during_promo'] if x in features]\n",
    "warnings.filterwarnings(\"ignore\")\n",
    "\n",
    "param = {\n",
    "        'num_leaves': 111, #checked\n",
    "         'num_threads': 4,\n",
    "         'max_bin': 170, #checked 170\n",
    "         'min_data_in_leaf': 100, #checked 100\n",
    "         'objective':'regression',\n",
    "         'max_depth': 9, #checked\n",
    "         'tree_learner':'data',\n",
    "         'learning_rate': 0.07,\n",
    "         \"boosting\": \"gbdt\", #dart, gbdt\n",
    "         \"feature_fraction\": 0.58, #checked 0.58\n",
    "         \"bagging_freq\": 7, #5\n",
    "         \"bagging_fraction\": 0.97, #checked\n",
    "         \"bagging_seed\": 11,\n",
    "         \"metric\": 'rmse',\n",
    "         \"lambda_l1\": 0.23, #checked 26\n",
    "#            'lambda_l2': 0.3, #checked\n",
    "         \"random_state\": 77,\n",
    "         \"verbosity\": -1,\n",
    "         \"device\":\"gpu\",\n",
    "         'gpu_device_id':0,\n",
    "         'gpu_platform_id':1,\n",
    "         'gpu_use_dp':True,\n",
    "        }\n",
    "\n",
    "\n",
    "folds = KFold(n_splits=5, shuffle=True, random_state=15)\n",
    "oof = np.zeros(len(train))\n",
    "predictions = np.zeros(len(test))\n",
    "start = time.time()\n",
    "feature_importance_df = pd.DataFrame()\n",
    "\n",
    "for fold_, (trn_idx, val_idx) in enumerate(folds.split(train.values, target.values)):\n",
    "    print(\"fold n°{}\".format(fold_))\n",
    "\n",
    "    trn_data = lgb.Dataset(train.iloc[trn_idx][features],\n",
    "                           label=target.iloc[trn_idx],\n",
    "                           categorical_feature=categorical_feats\n",
    "                          )\n",
    "    val_data = lgb.Dataset(train.iloc[val_idx][features],\n",
    "                           label=target.iloc[val_idx],\n",
    "                           categorical_feature=categorical_feats\n",
    "                          )\n",
    "\n",
    "    clf = lgb.train(param, \n",
    "                    trn_data,10000, \n",
    "                    valid_sets = [trn_data, val_data], \n",
    "                    verbose_eval=250, early_stopping_rounds = 250)\n",
    "\n",
    "    oof[val_idx] = clf.predict(train.iloc[val_idx][features], num_iteration=clf.best_iteration)\n",
    "\n",
    "    fold_importance_df = pd.DataFrame()\n",
    "    fold_importance_df[\"feature\"] = features\n",
    "    fold_importance_df[\"importance\"] = clf.feature_importance()\n",
    "    fold_importance_df[\"fold\"] = fold_ + 1\n",
    "    feature_importance_df = pd.concat([feature_importance_df, fold_importance_df], axis=0)\n",
    "\n",
    "    predictions += clf.predict(test[features], num_iteration=clf.best_iteration) / folds.n_splits\n",
    "\n",
    "errr = mean_squared_error(oof, target)**0.5\n",
    "print(\"CV score: {:<8.5f}\\n\".format(errr))\n"
   ]
  },
  {
   "cell_type": "code",
   "execution_count": 17,
   "metadata": {
    "ExecuteTime": {
     "end_time": "2019-02-21T02:44:23.407243Z",
     "start_time": "2019-02-21T02:44:23.402245Z"
    },
    "cell_style": "split"
   },
   "outputs": [
    {
     "data": {
      "text/plain": [
       "(35, 3.6515577082624713)"
      ]
     },
     "execution_count": 17,
     "metadata": {},
     "output_type": "execute_result"
    }
   ],
   "source": [
    "len(all_cols) - best_z,best_res"
   ]
  },
  {
   "cell_type": "code",
   "execution_count": 24,
   "metadata": {
    "ExecuteTime": {
     "end_time": "2019-02-26T01:20:09.957521Z",
     "start_time": "2019-02-26T01:20:09.953524Z"
    }
   },
   "outputs": [],
   "source": [
    "best_cols = disct_of_best_folds[0][1]"
   ]
  },
  {
   "cell_type": "code",
   "execution_count": 36,
   "metadata": {
    "ExecuteTime": {
     "end_time": "2019-02-26T02:44:20.855350Z",
     "start_time": "2019-02-26T02:44:20.851349Z"
    }
   },
   "outputs": [
    {
     "name": "stdout",
     "output_type": "stream",
     "text": [
      "['feature_1', 'agged_non_city_id_modeplus', 'agged_au_city_id_modeplus', 'category_combined_without_cat1_bottom_quarter_quantile', 'agged_non_merchant_category_id_modeplus', 'agged_all_merchant_category_id_modeplus', 'category_combined_with_cat1_modeplus', 'category_combined_without_cat1_top_quarter_quantile', 'category_combined_with_cat1_bottom_quarter_quantile', 'category_combined_with_cat1_top_quarter_quantile', 'agged_au_merchant_category_id_modeplus', 'category_combined_without_cat1_modeplus', 'agged_all_city_id_modeplus', 'last4_months_cat']\n"
     ]
    }
   ],
   "source": [
    "print(best_disct_of_best_folds[1][3])"
   ]
  },
  {
   "cell_type": "code",
   "execution_count": 17,
   "metadata": {
    "ExecuteTime": {
     "end_time": "2019-02-26T02:29:12.795337Z",
     "start_time": "2019-02-26T02:29:12.787344Z"
    }
   },
   "outputs": [
    {
     "ename": "NameError",
     "evalue": "name 'best_disct_of_best_folds' is not defined",
     "output_type": "error",
     "traceback": [
      "\u001b[1;31m---------------------------------------------------------------------------\u001b[0m",
      "\u001b[1;31mNameError\u001b[0m                                 Traceback (most recent call last)",
      "\u001b[1;32m<ipython-input-17-2c1b15590201>\u001b[0m in \u001b[0;36m<module>\u001b[1;34m\u001b[0m\n\u001b[1;32m----> 1\u001b[1;33m \u001b[0mbest_disct_of_best_folds\u001b[0m\u001b[1;33m[\u001b[0m\u001b[0mx\u001b[0m\u001b[1;33m]\u001b[0m\u001b[1;33m[\u001b[0m\u001b[1;36m0\u001b[0m\u001b[1;33m]\u001b[0m\u001b[1;33m\u001b[0m\u001b[1;33m\u001b[0m\u001b[0m\n\u001b[0m",
      "\u001b[1;31mNameError\u001b[0m: name 'best_disct_of_best_folds' is not defined"
     ]
    }
   ],
   "source": [
    "best_disct_of_best_folds[x][0]\n"
   ]
  },
  {
   "cell_type": "code",
   "execution_count": null,
   "metadata": {},
   "outputs": [],
   "source": [
    "disct_of_best_folds"
   ]
  },
  {
   "cell_type": "code",
   "execution_count": 2,
   "metadata": {
    "ExecuteTime": {
     "end_time": "2019-02-24T17:33:44.818526Z",
     "start_time": "2019-02-24T17:33:44.798515Z"
    },
    "code_folding": [
     15,
     47
    ],
    "run_control": {
     "marked": true
    },
    "scrolled": true
   },
   "outputs": [
    {
     "ename": "NameError",
     "evalue": "name 'best_cols' is not defined",
     "output_type": "error",
     "traceback": [
      "\u001b[1;31m---------------------------------------------------------------------------\u001b[0m",
      "\u001b[1;31mNameError\u001b[0m                                 Traceback (most recent call last)",
      "\u001b[1;32m<ipython-input-2-4561acae9269>\u001b[0m in \u001b[0;36m<module>\u001b[1;34m\u001b[0m\n\u001b[1;32m----> 1\u001b[1;33m \u001b[0mall_features\u001b[0m \u001b[1;33m=\u001b[0m \u001b[1;33m[\u001b[0m\u001b[0mc\u001b[0m \u001b[1;32mfor\u001b[0m \u001b[0mc\u001b[0m \u001b[1;32min\u001b[0m \u001b[0mbest_cols\u001b[0m \u001b[1;32mif\u001b[0m \u001b[0mc\u001b[0m \u001b[1;32mnot\u001b[0m \u001b[1;32min\u001b[0m \u001b[1;33m[\u001b[0m\u001b[1;34m'card_id'\u001b[0m\u001b[1;33m,\u001b[0m \u001b[1;34m'first_active_month'\u001b[0m\u001b[1;33m,\u001b[0m\u001b[1;34m'last_active_month'\u001b[0m\u001b[1;33m]\u001b[0m\u001b[1;33m]\u001b[0m\u001b[1;33m\u001b[0m\u001b[1;33m\u001b[0m\u001b[0m\n\u001b[0m\u001b[0;32m      2\u001b[0m \u001b[1;33m\u001b[0m\u001b[0m\n\u001b[0;32m      3\u001b[0m \u001b[1;32mfor\u001b[0m \u001b[0mz_test\u001b[0m \u001b[1;32min\u001b[0m \u001b[1;33m[\u001b[0m\u001b[0mc\u001b[0m \u001b[1;32mfor\u001b[0m \u001b[0mc\u001b[0m \u001b[1;32min\u001b[0m \u001b[0mbest_cols\u001b[0m \u001b[1;32mif\u001b[0m \u001b[0mc\u001b[0m \u001b[1;32mnot\u001b[0m \u001b[1;32min\u001b[0m \u001b[1;33m[\u001b[0m\u001b[1;34m'card_id'\u001b[0m\u001b[1;33m,\u001b[0m \u001b[1;34m'first_active_month'\u001b[0m\u001b[1;33m,\u001b[0m\u001b[1;34m'last_active_month'\u001b[0m\u001b[1;33m]\u001b[0m\u001b[1;33m]\u001b[0m\u001b[1;33m:\u001b[0m\u001b[1;33m\u001b[0m\u001b[1;33m\u001b[0m\u001b[0m\n\u001b[0;32m      4\u001b[0m \u001b[1;33m\u001b[0m\u001b[0m\n\u001b[0;32m      5\u001b[0m     \u001b[0mfeatures\u001b[0m \u001b[1;33m=\u001b[0m \u001b[1;33m[\u001b[0m\u001b[0mc\u001b[0m \u001b[1;32mfor\u001b[0m \u001b[0mc\u001b[0m \u001b[1;32min\u001b[0m \u001b[0mall_features\u001b[0m \u001b[1;32mif\u001b[0m \u001b[0mc\u001b[0m \u001b[1;32mnot\u001b[0m \u001b[1;32min\u001b[0m \u001b[1;33m[\u001b[0m\u001b[1;34m'card_id'\u001b[0m\u001b[1;33m,\u001b[0m \u001b[1;34m'first_active_month'\u001b[0m\u001b[1;33m,\u001b[0m\u001b[1;34m'last_active_month'\u001b[0m\u001b[1;33m,\u001b[0m\u001b[0mz_test\u001b[0m\u001b[1;33m]\u001b[0m\u001b[1;33m]\u001b[0m\u001b[1;33m\u001b[0m\u001b[1;33m\u001b[0m\u001b[0m\n",
      "\u001b[1;31mNameError\u001b[0m: name 'best_cols' is not defined"
     ]
    }
   ],
   "source": [
    "all_features = [c for c in best_cols if c not in ['card_id', 'first_active_month','last_active_month']]\n",
    "\n",
    "for z_test in [c for c in best_cols if c not in ['card_id', 'first_active_month','last_active_month']]:\n",
    "        \n",
    "    features = [c for c in all_features if c not in ['card_id', 'first_active_month','last_active_month',z_test]]\n",
    "\n",
    "    additional_cats= [x for x in features if re.search('[th]_cat1_[^s]',x)]\n",
    "    categorical_feats = [x for x in features if (re.search('modeplus',x) or re.search('feature_',x))] + additional_cats \n",
    "    categorical_feats = list(set(categorical_feats))\n",
    "    categorical_feats += [x for x in ['last4_months_cat','client_wave','during_promo'] if x in features]\n",
    "    \n",
    "    warnings.filterwarnings(\"ignore\")\n",
    "\n",
    "\n",
    "    for x_test in range(1):    \n",
    "        param = {\n",
    "                'num_leaves': 111, #checked\n",
    "                 'num_threads': 4,\n",
    "                 'max_bin': 170, #checked 170\n",
    "                 'min_data_in_leaf': 100, #checked 100\n",
    "                 'objective':'regression',\n",
    "                 'max_depth': 9, #checked\n",
    "                 'tree_learner':'data',\n",
    "                 'learning_rate': 0.07,\n",
    "                 \"boosting\": \"gbdt\", #dart, gbdt\n",
    "                 \"feature_fraction\": 0.58, #checked 0.58\n",
    "                 \"bagging_freq\": 7, #5\n",
    "                 \"bagging_fraction\": 0.97, #checked 0.97\n",
    "                 \"bagging_seed\": 11,\n",
    "                 \"metric\": 'rmse',\n",
    "                 \"lambda_l1\": 23, #checked 26 / 23\n",
    "        #            'lambda_l2': 0.3, #checked\n",
    "                 \"random_state\": 77,\n",
    "                 \"verbosity\": -1,\n",
    "                 \"device\":\"gpu\",\n",
    "                 'gpu_device_id':0,\n",
    "                 'gpu_platform_id':1,\n",
    "                 'gpu_use_dp':True,\n",
    "                }\n",
    "\n",
    "\n",
    "        folds = KFold(n_splits=5, shuffle=True, random_state=15)\n",
    "        oof = np.zeros(len(train))\n",
    "        predictions = np.zeros(len(test))\n",
    "        start = time.time()\n",
    "        feature_importance_df = pd.DataFrame()\n",
    "\n",
    "        for fold_, (trn_idx, val_idx) in enumerate(folds.split(train.values, target.values)):\n",
    "            print(\"fold n°{}\".format(fold_))\n",
    "\n",
    "            trn_data = lgb.Dataset(train.iloc[trn_idx][features],\n",
    "                                   label=target.iloc[trn_idx],\n",
    "                                   categorical_feature=categorical_feats\n",
    "                                  )\n",
    "            val_data = lgb.Dataset(train.iloc[val_idx][features],\n",
    "                                   label=target.iloc[val_idx],\n",
    "                                   categorical_feature=categorical_feats\n",
    "                                  )\n",
    "\n",
    "\n",
    "            clf = lgb.train(param, \n",
    "                            trn_data,10000, \n",
    "                            valid_sets = [trn_data, val_data], \n",
    "                            verbose_eval=250, early_stopping_rounds = 250)\n",
    "\n",
    "            oof[val_idx] = clf.predict(train.iloc[val_idx][features], num_iteration=clf.best_iteration)\n",
    "            \n",
    "            #best fold score \n",
    "            this_fold_score = (mean_squared_error(oof[val_idx],target.iloc[val_idx])**0.5)\n",
    "            if disct_of_best_folds[fold_][0] > this_fold_score:\n",
    "                disct_of_best_folds[fold_][0] = this_fold_score\n",
    "                disct_of_best_folds[fold_][1] = features\n",
    "                disct_of_best_folds[fold_][2] = param\n",
    "                disct_of_best_folds[fold_][3] = categorical_feats\n",
    "                print(\"New best {}th fold score: {:<8.5f}\\n\".format(fold_,this_fold_score))\n",
    "            \n",
    "            predictions += clf.predict(test[features], num_iteration=clf.best_iteration) / folds.n_splits\n",
    "        \n",
    "            \n",
    "        \n",
    "        errr = mean_squared_error(oof, target)**0.5\n",
    "\n",
    "        if errr < best_res:\n",
    "            best_res = errr\n",
    "            best_test = x_test\n",
    "            print(f'better than ever {errr}')\n",
    "            print('%s is out' % z_test)\n",
    "            all_features.remove(z_test)\n",
    "            \n",
    "\n",
    "        print(\"CV score: {:<8.5f}\\n\".format(errr))\n",
    "    print(z_test)"
   ]
  },
  {
   "cell_type": "code",
   "execution_count": 65,
   "metadata": {
    "ExecuteTime": {
     "end_time": "2019-02-21T18:28:26.546207Z",
     "start_time": "2019-02-21T18:28:26.541201Z"
    }
   },
   "outputs": [],
   "source": [
    "best_col_numbers = [1,2,3,4,5,6,7,9,10,11,12,13,14,15,17,18,19,22,23,24,25,26,27,28,29,32,33,44,50,54,58,106,123]"
   ]
  },
  {
   "cell_type": "code",
   "execution_count": 66,
   "metadata": {
    "ExecuteTime": {
     "end_time": "2019-02-21T18:28:26.936891Z",
     "start_time": "2019-02-21T18:28:26.933893Z"
    }
   },
   "outputs": [],
   "source": [
    "best_cols = [all_cols.index[-x] for x in best_col_numbers]"
   ]
  },
  {
   "cell_type": "code",
   "execution_count": 8,
   "metadata": {
    "ExecuteTime": {
     "end_time": "2019-02-24T17:34:25.520296Z",
     "start_time": "2019-02-24T17:34:25.470317Z"
    }
   },
   "outputs": [
    {
     "ename": "NameError",
     "evalue": "name 'disct_of_best_folds' is not defined",
     "output_type": "error",
     "traceback": [
      "\u001b[1;31m---------------------------------------------------------------------------\u001b[0m",
      "\u001b[1;31mNameError\u001b[0m                                 Traceback (most recent call last)",
      "\u001b[1;32m<ipython-input-8-74759d218e58>\u001b[0m in \u001b[0;36m<module>\u001b[1;34m\u001b[0m\n\u001b[1;32m----> 1\u001b[1;33m \u001b[1;32mfor\u001b[0m \u001b[0mx\u001b[0m \u001b[1;32min\u001b[0m \u001b[0mdisct_of_best_folds\u001b[0m\u001b[1;33m.\u001b[0m\u001b[0mkeys\u001b[0m\u001b[1;33m(\u001b[0m\u001b[1;33m)\u001b[0m\u001b[1;33m:\u001b[0m\u001b[1;33m\u001b[0m\u001b[1;33m\u001b[0m\u001b[0m\n\u001b[0m\u001b[0;32m      2\u001b[0m     \u001b[1;32mif\u001b[0m \u001b[0mdisct_of_best_folds\u001b[0m\u001b[1;33m[\u001b[0m\u001b[0mx\u001b[0m\u001b[1;33m]\u001b[0m\u001b[1;33m[\u001b[0m\u001b[1;36m0\u001b[0m\u001b[1;33m]\u001b[0m \u001b[1;33m>\u001b[0m \u001b[0mbest_disct_of_best_folds\u001b[0m\u001b[1;33m[\u001b[0m\u001b[0mx\u001b[0m\u001b[1;33m]\u001b[0m\u001b[1;33m[\u001b[0m\u001b[1;36m0\u001b[0m\u001b[1;33m]\u001b[0m\u001b[1;33m:\u001b[0m\u001b[1;33m\u001b[0m\u001b[1;33m\u001b[0m\u001b[0m\n\u001b[0;32m      3\u001b[0m         \u001b[0mdisct_of_best_folds\u001b[0m\u001b[1;33m[\u001b[0m\u001b[0mx\u001b[0m\u001b[1;33m]\u001b[0m \u001b[1;33m=\u001b[0m \u001b[0mbest_disct_of_best_folds\u001b[0m\u001b[1;33m[\u001b[0m\u001b[0mx\u001b[0m\u001b[1;33m]\u001b[0m\u001b[1;33m\u001b[0m\u001b[1;33m\u001b[0m\u001b[0m\n",
      "\u001b[1;31mNameError\u001b[0m: name 'disct_of_best_folds' is not defined"
     ]
    }
   ],
   "source": [
    "for x in disct_of_best_folds.keys():\n",
    "    if disct_of_best_folds[x][0] > best_disct_of_best_folds[x][0]:\n",
    "        disct_of_best_folds[x] = best_disct_of_best_folds[x]"
   ]
  },
  {
   "cell_type": "code",
   "execution_count": 80,
   "metadata": {
    "ExecuteTime": {
     "end_time": "2019-02-24T01:08:47.232641Z",
     "start_time": "2019-02-24T01:08:47.228637Z"
    }
   },
   "outputs": [],
   "source": [
    "import pickle\n",
    "with open('list_of_best_folds.pickle', 'wb') as f:\n",
    "    pickle.dump(disct_of_best_folds, f, pickle.HIGHEST_PROTOCOL)"
   ]
  },
  {
   "cell_type": "code",
   "execution_count": 81,
   "metadata": {
    "ExecuteTime": {
     "end_time": "2019-02-24T01:08:51.686647Z",
     "start_time": "2019-02-24T01:08:51.683643Z"
    }
   },
   "outputs": [],
   "source": [
    "with open('list_of_best_cols.pickle', 'wb') as f:\n",
    "    pickle.dump(list_of_best_cols, f, pickle.HIGHEST_PROTOCOL)"
   ]
  },
  {
   "cell_type": "code",
   "execution_count": 30,
   "metadata": {
    "ExecuteTime": {
     "end_time": "2019-02-26T02:29:52.143953Z",
     "start_time": "2019-02-26T02:29:52.138940Z"
    }
   },
   "outputs": [],
   "source": [
    "import pickle\n",
    "with open('list_of_best_folds.pickle', 'rb') as f:\n",
    "    best_disct_of_best_folds = pickle.load(f)\n",
    "with open('list_of_best_cols.pickle', 'rb') as f:\n",
    "    best_list_of_best_cols = pickle.load(f)"
   ]
  },
  {
   "cell_type": "code",
   "execution_count": 14,
   "metadata": {
    "ExecuteTime": {
     "end_time": "2019-02-24T17:35:27.296787Z",
     "start_time": "2019-02-24T17:35:27.293801Z"
    }
   },
   "outputs": [
    {
     "data": {
      "text/plain": [
       "[0, 3, 20, 0, 27, 33, 35]"
      ]
     },
     "execution_count": 14,
     "metadata": {},
     "output_type": "execute_result"
    }
   ],
   "source": [
    "best_list_of_best_cols"
   ]
  },
  {
   "cell_type": "code",
   "execution_count": 15,
   "metadata": {
    "ExecuteTime": {
     "end_time": "2019-02-24T17:35:36.424704Z",
     "start_time": "2019-02-24T17:35:36.421694Z"
    }
   },
   "outputs": [],
   "source": [
    "disct_of_best_folds = best_disct_of_best_folds"
   ]
  },
  {
   "cell_type": "code",
   "execution_count": 33,
   "metadata": {
    "ExecuteTime": {
     "end_time": "2019-02-23T15:42:19.581413Z",
     "start_time": "2019-02-23T15:42:19.578401Z"
    }
   },
   "outputs": [
    {
     "data": {
      "text/plain": [
       "3.660326406289772"
      ]
     },
     "execution_count": 33,
     "metadata": {},
     "output_type": "execute_result"
    }
   ],
   "source": [
    "best_disct_of_best_folds[0][0]"
   ]
  },
  {
   "cell_type": "code",
   "execution_count": 69,
   "metadata": {
    "ExecuteTime": {
     "end_time": "2019-02-18T13:01:55.809300Z",
     "start_time": "2019-02-18T13:01:55.559367Z"
    }
   },
   "outputs": [],
   "source": [
    "target = pd.read_csv('target2',header=None,index_col=0)"
   ]
  },
  {
   "cell_type": "code",
   "execution_count": 79,
   "metadata": {
    "ExecuteTime": {
     "end_time": "2019-02-18T13:06:06.985308Z",
     "start_time": "2019-02-18T13:06:06.971302Z"
    }
   },
   "outputs": [],
   "source": [
    "target[1] = pd.cut(np.squeeze(target.values),bins=[-35,-19,-18]+[x-17 for x in range(0,36)],labels=[x for x in range(0,38)],include_lowest=True).astype(np.int16)"
   ]
  },
  {
   "cell_type": "code",
   "execution_count": 87,
   "metadata": {
    "ExecuteTime": {
     "end_time": "2019-02-18T17:38:28.485419Z",
     "start_time": "2019-02-18T13:51:04.603628Z"
    },
    "scrolled": true
   },
   "outputs": [
    {
     "name": "stdout",
     "output_type": "stream",
     "text": [
      "fold n°0\n",
      "Training until validation scores don't improve for 250 rounds.\n",
      "[250]\ttraining's multi_logloss: 1.65247\tvalid_1's multi_logloss: 1.80319\n",
      "[500]\ttraining's multi_logloss: 1.53486\tvalid_1's multi_logloss: 1.77599\n",
      "[750]\ttraining's multi_logloss: 1.45189\tvalid_1's multi_logloss: 1.76798\n",
      "[1000]\ttraining's multi_logloss: 1.38706\tvalid_1's multi_logloss: 1.76639\n",
      "Early stopping, best iteration is:\n",
      "[977]\ttraining's multi_logloss: 1.3926\tvalid_1's multi_logloss: 1.76637\n",
      "fold n°1\n",
      "Training until validation scores don't improve for 250 rounds.\n",
      "[250]\ttraining's multi_logloss: 1.6525\tvalid_1's multi_logloss: 1.80744\n",
      "[500]\ttraining's multi_logloss: 1.53501\tvalid_1's multi_logloss: 1.78034\n",
      "[750]\ttraining's multi_logloss: 1.45188\tvalid_1's multi_logloss: 1.77258\n",
      "[1000]\ttraining's multi_logloss: 1.38773\tvalid_1's multi_logloss: 1.77119\n",
      "Early stopping, best iteration is:\n",
      "[981]\ttraining's multi_logloss: 1.39219\tvalid_1's multi_logloss: 1.77117\n",
      "fold n°2\n",
      "Training until validation scores don't improve for 250 rounds.\n",
      "[250]\ttraining's multi_logloss: 1.65258\tvalid_1's multi_logloss: 1.80558\n",
      "[500]\ttraining's multi_logloss: 1.53503\tvalid_1's multi_logloss: 1.77779\n",
      "[750]\ttraining's multi_logloss: 1.45229\tvalid_1's multi_logloss: 1.76948\n",
      "[1000]\ttraining's multi_logloss: 1.3881\tvalid_1's multi_logloss: 1.76754\n",
      "[1250]\ttraining's multi_logloss: 1.33472\tvalid_1's multi_logloss: 1.76858\n",
      "Early stopping, best iteration is:\n",
      "[1034]\ttraining's multi_logloss: 1.38017\tvalid_1's multi_logloss: 1.76752\n",
      "fold n°3\n",
      "Training until validation scores don't improve for 250 rounds.\n",
      "[250]\ttraining's multi_logloss: 1.65072\tvalid_1's multi_logloss: 1.81449\n",
      "[500]\ttraining's multi_logloss: 1.533\tvalid_1's multi_logloss: 1.78739\n",
      "[750]\ttraining's multi_logloss: 1.45044\tvalid_1's multi_logloss: 1.78001\n",
      "[1000]\ttraining's multi_logloss: 1.38609\tvalid_1's multi_logloss: 1.77873\n",
      "Early stopping, best iteration is:\n",
      "[954]\ttraining's multi_logloss: 1.39684\tvalid_1's multi_logloss: 1.77866\n",
      "fold n°4\n",
      "Training until validation scores don't improve for 250 rounds.\n",
      "[250]\ttraining's multi_logloss: 1.65153\tvalid_1's multi_logloss: 1.80403\n",
      "[500]\ttraining's multi_logloss: 1.53342\tvalid_1's multi_logloss: 1.77782\n",
      "[750]\ttraining's multi_logloss: 1.45065\tvalid_1's multi_logloss: 1.77052\n",
      "[1000]\ttraining's multi_logloss: 1.38657\tvalid_1's multi_logloss: 1.76928\n",
      "Early stopping, best iteration is:\n",
      "[965]\ttraining's multi_logloss: 1.3946\tvalid_1's multi_logloss: 1.76923\n"
     ]
    }
   ],
   "source": [
    "#isbest = False\n",
    "for z_test in range(1):\n",
    "    if 'best_cols' in locals():\n",
    "        features = [c for c in best_cols if c not in ['card_id', 'first_active_month','last_active_month']]\n",
    "    else:\n",
    "        features = [c for c in train.columns if c not in ['card_id', 'first_active_month','last_active_month']]\n",
    "\n",
    "    additional_cats= [x for x in features if re.search('[th]_cat1_[^s]',x)]\n",
    "#    additional_cats+= [x for x in features if re.match('state_id_[m|a][^e]',x) or re.match('subsector_id_[m|a][^e]',x)]\n",
    "    categorical_feats = [x for x in features if (re.search('modeplus',x) or re.search('feature_',x))] + additional_cats\n",
    "\n",
    "\n",
    "    warnings.filterwarnings(\"ignore\")\n",
    "\n",
    "\n",
    "    for x_test in range(1):\n",
    "        if x_test == 0:\n",
    "            x_test+= 0.01\n",
    "        param = {\n",
    "                'num_leaves': 111, #checked\n",
    "                 'num_threads': 4,\n",
    "                 'max_bin': 170, #checked 170\n",
    "                 'min_data_in_leaf': 100, #checked 100\n",
    "                 'objective':'softmax',\n",
    "                 'num_class':38,\n",
    "                 'max_depth': 9, #checked\n",
    "                 'tree_learner':'data',\n",
    "                 'learning_rate': 0.007,\n",
    "                 \"boosting\": \"gbdt\", #dart, gbdt\n",
    "                 \"feature_fraction\": 0.58, #checked 0.58\n",
    "                 \"bagging_freq\": 7, #5\n",
    "                 \"bagging_fraction\": 0.97, #checked\n",
    "                 \"bagging_seed\": 11,\n",
    "                 \"metric\": 'multi_logloss',\n",
    "                 \"lambda_l1\": 0.23, #checked 26\n",
    "    #            'lambda_l2': 0.3, #checked\n",
    "                 \"random_state\": 77,\n",
    "                 \"verbosity\": -1,\n",
    "                 \"device\":\"gpu\",\n",
    "                 'gpu_device_id':0,\n",
    "                 'gpu_platform_id':1,\n",
    "                 'gpu_use_dp':True,\n",
    "                }\n",
    "\n",
    "\n",
    "        folds = KFold(n_splits=5, shuffle=True, random_state=15)\n",
    "        oof = np.zeros((len(train),38))\n",
    "        predictions = np.zeros((len(test),38))\n",
    "        start = time.time()\n",
    "        feature_importance_df = pd.DataFrame()\n",
    "\n",
    "        for fold_, (trn_idx, val_idx) in enumerate(folds.split(train.values, target.values)):\n",
    "            print(\"fold n°{}\".format(fold_))\n",
    "\n",
    "            trn_data = lgb.Dataset(train.iloc[trn_idx][features],\n",
    "                                   label=target.iloc[trn_idx],\n",
    "                                   categorical_feature=categorical_feats\n",
    "                                  )\n",
    "            val_data = lgb.Dataset(train.iloc[val_idx][features],\n",
    "                                   label=target.iloc[val_idx],\n",
    "                                   categorical_feature=categorical_feats\n",
    "                                  )\n",
    "\n",
    "\n",
    "            clf = lgb.train(param, \n",
    "                            trn_data,30000, \n",
    "                            valid_sets = [trn_data, val_data], \n",
    "                            verbose_eval=250, early_stopping_rounds = 250)\n",
    "\n",
    "            oof[val_idx] = clf.predict(train.iloc[val_idx][features], num_iteration=clf.best_iteration)\n",
    "\n",
    "            fold_importance_df = pd.DataFrame()\n",
    "            fold_importance_df[\"feature\"] = features\n",
    "            fold_importance_df[\"importance\"] = clf.feature_importance()\n",
    "            fold_importance_df[\"fold\"] = fold_ + 1\n",
    "            feature_importance_df = pd.concat([feature_importance_df, fold_importance_df], axis=0)\n",
    "\n",
    "            predictions += clf.predict(test[features], num_iteration=clf.best_iteration) / folds.n_splits\n",
    " #       errr = mean_squared_error(oof, target)**0.5\n",
    "\n",
    " #       if errr < best_res:\n",
    " #           best_res = errr\n",
    " #           best_test = x_test\n",
    " #           best_z = z_test\n",
    " #           print(f'better than ever {errr}')\n",
    "#            isbest = True\n",
    "\n",
    "\n",
    "     #   print(f\"x_test = {x_test}\")\n",
    "#        print(\"CV score: {:<8.5f}\\n\".format(errr))\n",
    "#    print(z_test)\n",
    "#    best_cols = all_cols[all_cols.importance > z_test].index\n",
    "#     if isbest:\n",
    "#         break"
   ]
  },
  {
   "cell_type": "code",
   "execution_count": 98,
   "metadata": {
    "ExecuteTime": {
     "end_time": "2019-02-18T17:44:28.604232Z",
     "start_time": "2019-02-18T17:44:28.593249Z"
    }
   },
   "outputs": [],
   "source": [
    "max_vals = np.max(predictions,axis=1)"
   ]
  },
  {
   "cell_type": "code",
   "execution_count": 99,
   "metadata": {
    "ExecuteTime": {
     "end_time": "2019-02-18T17:47:41.059630Z",
     "start_time": "2019-02-18T17:47:41.056630Z"
    }
   },
   "outputs": [],
   "source": [
    "copy_preds = predictions"
   ]
  },
  {
   "cell_type": "code",
   "execution_count": 102,
   "metadata": {
    "ExecuteTime": {
     "end_time": "2019-02-18T17:51:11.684627Z",
     "start_time": "2019-02-18T17:51:11.673631Z"
    }
   },
   "outputs": [],
   "source": [
    "max_3_values = np.zeros(copy_preds.shape)"
   ]
  },
  {
   "cell_type": "code",
   "execution_count": null,
   "metadata": {},
   "outputs": [],
   "source": [
    "first_max = copy_preds.T == max_vals"
   ]
  },
  {
   "cell_type": "code",
   "execution_count": 103,
   "metadata": {
    "ExecuteTime": {
     "end_time": "2019-02-18T17:52:50.038646Z",
     "start_time": "2019-02-18T17:52:50.016654Z"
    }
   },
   "outputs": [],
   "source": [
    "max_3_values += first_max.T"
   ]
  },
  {
   "cell_type": "code",
   "execution_count": 107,
   "metadata": {
    "ExecuteTime": {
     "end_time": "2019-02-18T17:54:53.032560Z",
     "start_time": "2019-02-18T17:54:53.009582Z"
    }
   },
   "outputs": [],
   "source": [
    "copy_preds = max_3_values * -2 + copy_preds"
   ]
  },
  {
   "cell_type": "code",
   "execution_count": null,
   "metadata": {},
   "outputs": [],
   "source": [
    "first_max = copy_preds.T == max_vals\n",
    "max_3_values += first_max.T"
   ]
  },
  {
   "cell_type": "code",
   "execution_count": 113,
   "metadata": {
    "ExecuteTime": {
     "end_time": "2019-02-18T18:01:44.606665Z",
     "start_time": "2019-02-18T18:01:44.601649Z"
    }
   },
   "outputs": [],
   "source": [
    "def find_N_max_values(matrix,N):\n",
    "    matrix_max_values = np.zeros(matrix.shape)\n",
    "    for x in range(N):\n",
    "        max_this_step = np.max(matrix,axis=1)\n",
    "        max_this_step = (matrix.T == max_this_step).T\n",
    "        matrix_max_values+= max_this_step\n",
    "        matrix += matrix_max_values * -2\n",
    "    return matrix_max_values"
   ]
  },
  {
   "cell_type": "code",
   "execution_count": null,
   "metadata": {},
   "outputs": [],
   "source": [
    "actual_values = np.array([-33,-18.5]+[x-17.5 for x in range(0,36)])"
   ]
  },
  {
   "cell_type": "code",
   "execution_count": 141,
   "metadata": {
    "ExecuteTime": {
     "end_time": "2019-02-18T18:10:09.678598Z",
     "start_time": "2019-02-18T18:10:09.578630Z"
    }
   },
   "outputs": [],
   "source": [
    "max_vals = find_N_max_values(copy_preds,2)"
   ]
  },
  {
   "cell_type": "code",
   "execution_count": 144,
   "metadata": {
    "ExecuteTime": {
     "end_time": "2019-02-18T18:11:00.958619Z",
     "start_time": "2019-02-18T18:11:00.929628Z"
    }
   },
   "outputs": [],
   "source": [
    "score = (actual_values * max_vals).mean(axis=1)"
   ]
  },
  {
   "cell_type": "code",
   "execution_count": 15,
   "metadata": {
    "ExecuteTime": {
     "end_time": "2019-02-26T02:02:25.822768Z",
     "start_time": "2019-02-26T02:02:25.394894Z"
    }
   },
   "outputs": [],
   "source": [
    "sub_df = pd.DataFrame({\"card_id\":test[\"card_id\"].values})\n",
    "sub_df[\"target\"] = predictions\n",
    "sub_df.to_csv(\"shop_overfit.csv\", index=False)"
   ]
  },
  {
   "cell_type": "code",
   "execution_count": 147,
   "metadata": {
    "ExecuteTime": {
     "end_time": "2019-02-18T18:18:52.546079Z",
     "start_time": "2019-02-18T18:18:52.132999Z"
    }
   },
   "outputs": [],
   "source": [
    "best_score = pd.read_csv('submit_with_all_additions16.csv')"
   ]
  },
  {
   "cell_type": "code",
   "execution_count": 156,
   "metadata": {
    "ExecuteTime": {
     "end_time": "2019-02-18T18:25:03.016979Z",
     "start_time": "2019-02-18T18:25:02.725045Z"
    }
   },
   "outputs": [],
   "source": [
    "xgboost =  pd.read_csv('submit_with_all_additionsXGBOOST.csv')"
   ]
  },
  {
   "cell_type": "code",
   "execution_count": 159,
   "metadata": {
    "ExecuteTime": {
     "end_time": "2019-02-19T00:02:10.575803Z",
     "start_time": "2019-02-19T00:02:10.503839Z"
    }
   },
   "outputs": [],
   "source": [
    "score_combo = (best_score.target * 0.96) + (sub_df.target * 0.4)"
   ]
  },
  {
   "cell_type": "code",
   "execution_count": 160,
   "metadata": {
    "ExecuteTime": {
     "end_time": "2019-02-19T00:02:11.581175Z",
     "start_time": "2019-02-19T00:02:11.133275Z"
    }
   },
   "outputs": [],
   "source": [
    "sub_df = pd.DataFrame({\"card_id\":test[\"card_id\"].values})\n",
    "sub_df[\"target\"] = score_combo\n",
    "sub_df.to_csv(\"submit1_softmax_and_best.csv\", index=False)"
   ]
  },
  {
   "cell_type": "code",
   "execution_count": null,
   "metadata": {},
   "outputs": [],
   "source": []
  }
 ],
 "metadata": {
  "kernelspec": {
   "display_name": "Python 3",
   "language": "python",
   "name": "python3"
  },
  "language_info": {
   "codemirror_mode": {
    "name": "ipython",
    "version": 3
   },
   "file_extension": ".py",
   "mimetype": "text/x-python",
   "name": "python",
   "nbconvert_exporter": "python",
   "pygments_lexer": "ipython3",
   "version": "3.7.1"
  }
 },
 "nbformat": 4,
 "nbformat_minor": 2
}
