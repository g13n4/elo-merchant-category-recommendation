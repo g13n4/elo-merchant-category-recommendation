{
 "cells": [
  {
   "cell_type": "code",
   "execution_count": 1,
   "metadata": {
    "ExecuteTime": {
     "end_time": "2019-02-17T12:27:21.495918Z",
     "start_time": "2019-02-17T12:27:20.651999Z"
    }
   },
   "outputs": [],
   "source": [
    "import numpy as np \n",
    "import pandas as pd \n",
    "import matplotlib.pyplot as plt\n",
    "import seaborn as sns\n",
    "import xgboost as xgb\n",
    "from sklearn.model_selection import KFold\n",
    "import warnings\n",
    "import time\n",
    "import sys\n",
    "import datetime\n",
    "import matplotlib.pyplot as plt\n",
    "import seaborn as sns\n",
    "from sklearn.metrics import mean_squared_error\n",
    "warnings.simplefilter(action='ignore', category=FutureWarning)\n",
    "pd.set_option('display.max_columns', 500)\n",
    "from scipy.stats import mode\n",
    "from scipy import stats\n",
    "import feather\n",
    "import re\n",
    "import warnings\n",
    "import random\n",
    "\n",
    "from IPython.display import clear_output"
   ]
  },
  {
   "cell_type": "code",
   "execution_count": null,
   "metadata": {},
   "outputs": [],
   "source": [
    "print('table creating')"
   ]
  },
  {
   "cell_type": "code",
   "execution_count": 2,
   "metadata": {
    "ExecuteTime": {
     "end_time": "2019-02-17T12:27:21.780867Z",
     "start_time": "2019-02-17T12:27:21.496904Z"
    }
   },
   "outputs": [],
   "source": [
    "target = pd.read_csv('target2',header=None,index_col=0)"
   ]
  },
  {
   "cell_type": "code",
   "execution_count": 3,
   "metadata": {
    "ExecuteTime": {
     "end_time": "2019-02-17T12:27:33.346957Z",
     "start_time": "2019-02-17T12:27:22.418959Z"
    }
   },
   "outputs": [],
   "source": [
    "train = feather.read_dataframe('best_from_recent_groupped_train')\n",
    "test = feather.read_dataframe('best_from_recent_groupped_test')"
   ]
  },
  {
   "cell_type": "code",
   "execution_count": 4,
   "metadata": {
    "ExecuteTime": {
     "end_time": "2019-02-17T12:27:33.350957Z",
     "start_time": "2019-02-17T12:27:33.347955Z"
    }
   },
   "outputs": [],
   "source": [
    "test_cardid = test['card_id']"
   ]
  },
  {
   "cell_type": "code",
   "execution_count": 5,
   "metadata": {
    "ExecuteTime": {
     "end_time": "2019-02-17T12:27:33.597878Z",
     "start_time": "2019-02-17T12:27:33.351943Z"
    }
   },
   "outputs": [],
   "source": [
    "train = train[[c for c in train if c not in ['card_id', 'first_active_month','last_active_month']]]\n",
    "test = test[[c for c in train if c not in ['card_id', 'first_active_month','last_active_month']]]"
   ]
  },
  {
   "cell_type": "code",
   "execution_count": 6,
   "metadata": {
    "ExecuteTime": {
     "end_time": "2019-02-17T12:27:33.603863Z",
     "start_time": "2019-02-17T12:27:33.599863Z"
    },
    "run_control": {
     "marked": true
    }
   },
   "outputs": [],
   "source": [
    "categorical_feats = [x for x in train if re.search('[th]_cat1_[^s]',x)]\n",
    "categorical_feats += [x for x in train if (re.search('modeplus',x) or re.search('feature_',x))]\n",
    "categorical_feats = list(set(categorical_feats))"
   ]
  },
  {
   "cell_type": "code",
   "execution_count": 7,
   "metadata": {
    "ExecuteTime": {
     "end_time": "2019-02-17T12:27:35.707201Z",
     "start_time": "2019-02-17T12:27:33.605861Z"
    }
   },
   "outputs": [],
   "source": [
    "cut = train.shape[0]\n",
    "train = pd.concat([train,test])\n",
    "train = pd.get_dummies(train,columns=categorical_feats)\n",
    "test = train.iloc[cut:,:]\n",
    "train = train.iloc[:cut,:]"
   ]
  },
  {
   "cell_type": "code",
   "execution_count": 8,
   "metadata": {
    "ExecuteTime": {
     "end_time": "2019-02-17T12:27:36.607019Z",
     "start_time": "2019-02-17T12:27:36.605005Z"
    }
   },
   "outputs": [],
   "source": [
    "#'grow_policy?'"
   ]
  },
  {
   "cell_type": "code",
   "execution_count": null,
   "metadata": {},
   "outputs": [],
   "source": [
    "print('calculations starts')"
   ]
  },
  {
   "cell_type": "code",
   "execution_count": null,
   "metadata": {
    "ExecuteTime": {
     "start_time": "2019-02-17T12:27:37.249Z"
    },
    "scrolled": true
   },
   "outputs": [
    {
     "name": "stdout",
     "output_type": "stream",
     "text": [
      "fold n°0\n",
      "[0]\ttrain-rmse:3.94362\teval-rmse:3.98899\n",
      "Multiple eval metrics have been passed: 'eval-rmse' will be used for early stopping.\n",
      "\n",
      "Will train until eval-rmse hasn't improved in 5000 rounds.\n",
      "[5000]\ttrain-rmse:3.71958\teval-rmse:3.7657\n",
      "[10000]\ttrain-rmse:3.66506\teval-rmse:3.71571\n",
      "[15000]\ttrain-rmse:3.64132\teval-rmse:3.6981\n",
      "[20000]\ttrain-rmse:3.62512\teval-rmse:3.68924\n",
      "[25000]\ttrain-rmse:3.61163\teval-rmse:3.68359\n",
      "[30000]\ttrain-rmse:3.59965\teval-rmse:3.67981\n",
      "[35000]\ttrain-rmse:3.5886\teval-rmse:3.67702\n",
      "[40000]\ttrain-rmse:3.57844\teval-rmse:3.67503\n",
      "[45000]\ttrain-rmse:3.5688\teval-rmse:3.67363\n",
      "[50000]\ttrain-rmse:3.55953\teval-rmse:3.67258\n",
      "[55000]\ttrain-rmse:3.55042\teval-rmse:3.6717\n",
      "[60000]\ttrain-rmse:3.54149\teval-rmse:3.67105\n",
      "[65000]\ttrain-rmse:3.53276\teval-rmse:3.67049\n",
      "[70000]\ttrain-rmse:3.52415\teval-rmse:3.67\n",
      "[75000]\ttrain-rmse:3.51567\teval-rmse:3.66965\n",
      "[80000]\ttrain-rmse:3.50739\teval-rmse:3.66937\n",
      "[85000]\ttrain-rmse:3.4993\teval-rmse:3.66916\n",
      "[90000]\ttrain-rmse:3.49131\teval-rmse:3.66894\n",
      "[95000]\ttrain-rmse:3.48346\teval-rmse:3.66878\n",
      "[99999]\ttrain-rmse:3.47584\teval-rmse:3.66871\n"
     ]
    }
   ],
   "source": [
    "best_test = 10\n",
    "best_x_test = np.nan\n",
    "for x_test in range(1):\n",
    "    params = {'max_depth': 4, \n",
    "              'eta': 0.00021, \n",
    "              'objective': 'reg:linear',\n",
    "              'eval_metric': 'rmse',\n",
    "              'nthreads':4,\n",
    "              'subsample':0.9,\n",
    "              'alpha':0.4,\n",
    "              'tree_method':'gpu_hist',\n",
    "              'grow_policy':'lossguide',\n",
    "   #           'grow_policy':'depthwise',\n",
    "              'max_leaves':50,\n",
    "              'max_bin':87,\n",
    "              'seed':77,\n",
    "              'colsample_bytree':0.9,\n",
    "              'min_child_weight':19,\n",
    "              'max_delta_step':13,\n",
    "              \n",
    "\n",
    "             }\n",
    "\n",
    "    folds = KFold(n_splits=5, shuffle=True, random_state=15)\n",
    "    oof = np.zeros(len(train))\n",
    "    predictions = np.zeros(len(test))\n",
    "    feature_importance_df = pd.DataFrame()\n",
    "\n",
    "    for fold_, (trn_idx, val_idx) in enumerate(folds.split(train.values, target.values)):\n",
    "        print(\"fold n°{}\".format(fold_))\n",
    "\n",
    "        dtrain = xgb.DMatrix(train.iloc[trn_idx],label=target.iloc[trn_idx])\n",
    "        dval = xgb.DMatrix(train.iloc[val_idx],label=target.iloc[val_idx])\n",
    "        dtest = xgb.DMatrix(test)\n",
    "\n",
    "\n",
    "        clf = xgb.train(params=params,\n",
    "              dtrain=dtrain,\n",
    "              evals=[(dtrain, 'train'),(dval, 'eval')],\n",
    "              num_boost_round=200000,\n",
    "              early_stopping_rounds=5000,\n",
    "              verbose_eval=5000)\n",
    "\n",
    "\n",
    "        oof[val_idx] = clf.predict(dval)\n",
    "\n",
    "        fold_importance_df = pd.DataFrame()\n",
    "        fold_importance_df[\"feature\"] = clf.get_fscore().keys()\n",
    "        fold_importance_df[\"importance\"] = clf.get_fscore().values()\n",
    "        fold_importance_df[\"fold\"] = fold_ + 1\n",
    "        feature_importance_df = pd.concat([feature_importance_df, fold_importance_df], axis=0)\n",
    "\n",
    "        predictions += clf.predict(dtest) / folds.n_splits\n",
    "\n",
    "    errr = mean_squared_error(oof, target)**0.5\n",
    "    if errr < best_test:\n",
    "        best_test = errr\n",
    "        best_x_test = x_test\n",
    "    \n",
    "    print(\"CV score: {:<8.5f}\\n\".format(errr))\n",
    "    print(x_test, '- x_test \\n')"
   ]
  },
  {
   "cell_type": "code",
   "execution_count": null,
   "metadata": {
    "ExecuteTime": {
     "start_time": "2019-02-17T06:03:53.657Z"
    }
   },
   "outputs": [],
   "source": [
    "sub_df = pd.DataFrame({\"card_id\":test_cardid.values})\n",
    "sub_df[\"target\"] = predictions\n",
    "sub_df.to_csv(\"submit_with_all_additionsXGBOOST.csv\", index=False)"
   ]
  },
  {
   "cell_type": "code",
   "execution_count": 80,
   "metadata": {
    "ExecuteTime": {
     "end_time": "2019-02-17T05:48:00.528021Z",
     "start_time": "2019-02-17T05:48:00.524020Z"
    }
   },
   "outputs": [
    {
     "data": {
      "text/plain": [
       "(3.654300059447733, 90)"
      ]
     },
     "execution_count": 80,
     "metadata": {},
     "output_type": "execute_result"
    }
   ],
   "source": [
    "best_test,best_x_test"
   ]
  },
  {
   "cell_type": "code",
   "execution_count": 75,
   "metadata": {
    "ExecuteTime": {
     "end_time": "2019-02-17T03:19:23.788244Z",
     "start_time": "2019-02-17T03:19:23.785259Z"
    }
   },
   "outputs": [
    {
     "data": {
      "text/plain": [
       "(3.654603973292271, 19)"
      ]
     },
     "execution_count": 75,
     "metadata": {},
     "output_type": "execute_result"
    }
   ],
   "source": [
    "best_test,best_x_test"
   ]
  },
  {
   "cell_type": "code",
   "execution_count": 81,
   "metadata": {
    "ExecuteTime": {
     "end_time": "2019-02-17T05:48:54.371931Z",
     "start_time": "2019-02-17T05:48:54.363928Z"
    }
   },
   "outputs": [
    {
     "data": {
      "text/plain": [
       "array([-2.59572038, -0.28360958, -1.20721482, ...,  1.12821569,\n",
       "       -2.7994819 ,  0.05949883])"
      ]
     },
     "execution_count": 81,
     "metadata": {},
     "output_type": "execute_result"
    }
   ],
   "source": [
    "predictions"
   ]
  },
  {
   "cell_type": "code",
   "execution_count": null,
   "metadata": {},
   "outputs": [],
   "source": []
  },
  {
   "cell_type": "code",
   "execution_count": 41,
   "metadata": {
    "ExecuteTime": {
     "end_time": "2019-02-16T23:05:15.914302Z",
     "start_time": "2019-02-16T23:05:15.903305Z"
    }
   },
   "outputs": [],
   "source": [
    "cols = (feature_importance_df[[\"feature\", \"importance\"]]\n",
    "        .groupby(\"feature\")\n",
    "        .mean()\n",
    "        .sort_values(by=\"importance\", ascending=False)[:1000].index)\n",
    "\n",
    "best_features = feature_importance_df.loc[feature_importance_df.feature.isin(cols)]"
   ]
  },
  {
   "cell_type": "code",
   "execution_count": 42,
   "metadata": {
    "ExecuteTime": {
     "end_time": "2019-02-16T23:05:16.712214Z",
     "start_time": "2019-02-16T23:05:16.693232Z"
    },
    "scrolled": true
   },
   "outputs": [
    {
     "data": {
      "text/html": [
       "<div>\n",
       "<style scoped>\n",
       "    .dataframe tbody tr th:only-of-type {\n",
       "        vertical-align: middle;\n",
       "    }\n",
       "\n",
       "    .dataframe tbody tr th {\n",
       "        vertical-align: top;\n",
       "    }\n",
       "\n",
       "    .dataframe thead th {\n",
       "        text-align: right;\n",
       "    }\n",
       "</style>\n",
       "<table border=\"1\" class=\"dataframe\">\n",
       "  <thead>\n",
       "    <tr style=\"text-align: right;\">\n",
       "      <th></th>\n",
       "      <th>importance</th>\n",
       "    </tr>\n",
       "    <tr>\n",
       "      <th>feature</th>\n",
       "      <th></th>\n",
       "    </tr>\n",
       "  </thead>\n",
       "  <tbody>\n",
       "    <tr>\n",
       "      <th>category_combined_with_cat1_bottom_quarter_quantile_7</th>\n",
       "      <td>1.000000</td>\n",
       "    </tr>\n",
       "    <tr>\n",
       "      <th>category_combined_without_cat1_top_quarter_quantile_5</th>\n",
       "      <td>1.000000</td>\n",
       "    </tr>\n",
       "    <tr>\n",
       "      <th>category_combined_without_cat1_modeplus_1</th>\n",
       "      <td>1.000000</td>\n",
       "    </tr>\n",
       "    <tr>\n",
       "      <th>category_combined_without_cat1_modeplus_16</th>\n",
       "      <td>1.000000</td>\n",
       "    </tr>\n",
       "    <tr>\n",
       "      <th>category_combined_without_cat1_modeplus_12</th>\n",
       "      <td>1.000000</td>\n",
       "    </tr>\n",
       "    <tr>\n",
       "      <th>category_combined_without_cat1_modeplus_13</th>\n",
       "      <td>1.600000</td>\n",
       "    </tr>\n",
       "    <tr>\n",
       "      <th>category_combined_with_cat1_top_quarter_quantile_6</th>\n",
       "      <td>1.666667</td>\n",
       "    </tr>\n",
       "    <tr>\n",
       "      <th>category_combined_without_cat1_modeplus_11</th>\n",
       "      <td>1.666667</td>\n",
       "    </tr>\n",
       "    <tr>\n",
       "      <th>agged_non_city_id_modeplus_4.0</th>\n",
       "      <td>1.666667</td>\n",
       "    </tr>\n",
       "    <tr>\n",
       "      <th>category_combined_without_cat1_modeplus_17</th>\n",
       "      <td>1.750000</td>\n",
       "    </tr>\n",
       "    <tr>\n",
       "      <th>agged_all_city_id_modeplus_13</th>\n",
       "      <td>1.750000</td>\n",
       "    </tr>\n",
       "    <tr>\n",
       "      <th>agged_au_city_id_modeplus_13</th>\n",
       "      <td>1.800000</td>\n",
       "    </tr>\n",
       "    <tr>\n",
       "      <th>category_combined_with_cat1_top_quarter_quantile_12</th>\n",
       "      <td>1.800000</td>\n",
       "    </tr>\n",
       "    <tr>\n",
       "      <th>category_combined_without_cat1_modeplus_10</th>\n",
       "      <td>2.000000</td>\n",
       "    </tr>\n",
       "    <tr>\n",
       "      <th>category_combined_without_cat1_modeplus_9</th>\n",
       "      <td>2.000000</td>\n",
       "    </tr>\n",
       "    <tr>\n",
       "      <th>agged_all_city_id_modeplus_8</th>\n",
       "      <td>2.000000</td>\n",
       "    </tr>\n",
       "    <tr>\n",
       "      <th>agged_all_city_id_modeplus_6</th>\n",
       "      <td>2.000000</td>\n",
       "    </tr>\n",
       "    <tr>\n",
       "      <th>agged_all_city_id_modeplus_11</th>\n",
       "      <td>2.000000</td>\n",
       "    </tr>\n",
       "    <tr>\n",
       "      <th>category_combined_with_cat1_top_quarter_quantile_2</th>\n",
       "      <td>2.000000</td>\n",
       "    </tr>\n",
       "    <tr>\n",
       "      <th>agged_all_city_id_modeplus_14</th>\n",
       "      <td>2.000000</td>\n",
       "    </tr>\n",
       "    <tr>\n",
       "      <th>category_combined_with_cat1_top_quarter_quantile_9</th>\n",
       "      <td>2.200000</td>\n",
       "    </tr>\n",
       "    <tr>\n",
       "      <th>category_combined_with_cat1_bottom_quarter_quantile_12</th>\n",
       "      <td>2.200000</td>\n",
       "    </tr>\n",
       "    <tr>\n",
       "      <th>category_combined_with_cat1_top_quarter_quantile_10</th>\n",
       "      <td>2.200000</td>\n",
       "    </tr>\n",
       "    <tr>\n",
       "      <th>category_combined_with_cat1_top_quarter_quantile_8</th>\n",
       "      <td>2.200000</td>\n",
       "    </tr>\n",
       "    <tr>\n",
       "      <th>category_combined_with_cat1_top_quarter_quantile_1</th>\n",
       "      <td>2.600000</td>\n",
       "    </tr>\n",
       "    <tr>\n",
       "      <th>category_combined_without_cat1_top_quarter_quantile_12</th>\n",
       "      <td>2.600000</td>\n",
       "    </tr>\n",
       "    <tr>\n",
       "      <th>category_combined_without_cat1_bottom_quarter_quantile_7</th>\n",
       "      <td>2.750000</td>\n",
       "    </tr>\n",
       "    <tr>\n",
       "      <th>category_combined_with_cat1_top_quarter_quantile_7</th>\n",
       "      <td>2.800000</td>\n",
       "    </tr>\n",
       "    <tr>\n",
       "      <th>category_combined_with_cat1_bottom_quarter_quantile_37</th>\n",
       "      <td>2.800000</td>\n",
       "    </tr>\n",
       "    <tr>\n",
       "      <th>agged_all_city_id_modeplus_5</th>\n",
       "      <td>3.000000</td>\n",
       "    </tr>\n",
       "    <tr>\n",
       "      <th>...</th>\n",
       "      <td>...</td>\n",
       "    </tr>\n",
       "    <tr>\n",
       "      <th>all_month_pos__10_prc</th>\n",
       "      <td>180.000000</td>\n",
       "    </tr>\n",
       "    <tr>\n",
       "      <th>agged_au_purchase_date_day_max</th>\n",
       "      <td>182.400000</td>\n",
       "    </tr>\n",
       "    <tr>\n",
       "      <th>holiday_Black_Friday_2017_sum_hp</th>\n",
       "      <td>182.600000</td>\n",
       "    </tr>\n",
       "    <tr>\n",
       "      <th>mi_card_id_std</th>\n",
       "      <td>185.200000</td>\n",
       "    </tr>\n",
       "    <tr>\n",
       "      <th>6th_month_debt_bte_mean</th>\n",
       "      <td>185.800000</td>\n",
       "    </tr>\n",
       "    <tr>\n",
       "      <th>all_month_fetb__7_prc</th>\n",
       "      <td>186.800000</td>\n",
       "    </tr>\n",
       "    <tr>\n",
       "      <th>last_payments_month</th>\n",
       "      <td>186.800000</td>\n",
       "    </tr>\n",
       "    <tr>\n",
       "      <th>holiday_Independence_day_2017_sum_hp</th>\n",
       "      <td>191.400000</td>\n",
       "    </tr>\n",
       "    <tr>\n",
       "      <th>all_month_pos__8_prc</th>\n",
       "      <td>191.400000</td>\n",
       "    </tr>\n",
       "    <tr>\n",
       "      <th>all_month_pos__6_prc</th>\n",
       "      <td>193.200000</td>\n",
       "    </tr>\n",
       "    <tr>\n",
       "      <th>4to5_rel_gen_mean</th>\n",
       "      <td>194.000000</td>\n",
       "    </tr>\n",
       "    <tr>\n",
       "      <th>auth_month_diff_mean</th>\n",
       "      <td>199.800000</td>\n",
       "    </tr>\n",
       "    <tr>\n",
       "      <th>all_month_pos__9_prc</th>\n",
       "      <td>200.400000</td>\n",
       "    </tr>\n",
       "    <tr>\n",
       "      <th>new_purchase_amount_max</th>\n",
       "      <td>200.400000</td>\n",
       "    </tr>\n",
       "    <tr>\n",
       "      <th>agged_non_purchase_date_hour_std</th>\n",
       "      <td>200.400000</td>\n",
       "    </tr>\n",
       "    <tr>\n",
       "      <th>purchase_amount_size</th>\n",
       "      <td>208.400000</td>\n",
       "    </tr>\n",
       "    <tr>\n",
       "      <th>hist_purchase_date_min</th>\n",
       "      <td>210.600000</td>\n",
       "    </tr>\n",
       "    <tr>\n",
       "      <th>last_payments_day</th>\n",
       "      <td>220.200000</td>\n",
       "    </tr>\n",
       "    <tr>\n",
       "      <th>mi_merchant_category_id_percent_to_merchid_std</th>\n",
       "      <td>221.800000</td>\n",
       "    </tr>\n",
       "    <tr>\n",
       "      <th>all_month_fetb__1</th>\n",
       "      <td>224.400000</td>\n",
       "    </tr>\n",
       "    <tr>\n",
       "      <th>holiday_Valentine_Day_2017_max_sp</th>\n",
       "      <td>225.600000</td>\n",
       "    </tr>\n",
       "    <tr>\n",
       "      <th>purchase_date_day_ptp_plus</th>\n",
       "      <td>232.800000</td>\n",
       "    </tr>\n",
       "    <tr>\n",
       "      <th>hist_month_diff_mean</th>\n",
       "      <td>248.400000</td>\n",
       "    </tr>\n",
       "    <tr>\n",
       "      <th>elapsed_time</th>\n",
       "      <td>265.600000</td>\n",
       "    </tr>\n",
       "    <tr>\n",
       "      <th>holiday_Carnival_2017_min_sp</th>\n",
       "      <td>275.400000</td>\n",
       "    </tr>\n",
       "    <tr>\n",
       "      <th>mcimerchant_id_percent_to_mc_id_mean</th>\n",
       "      <td>284.400000</td>\n",
       "    </tr>\n",
       "    <tr>\n",
       "      <th>new_purchase_month_mean</th>\n",
       "      <td>376.400000</td>\n",
       "    </tr>\n",
       "    <tr>\n",
       "      <th>holiday_Corpus_Christi_2017_sum_hp</th>\n",
       "      <td>435.200000</td>\n",
       "    </tr>\n",
       "    <tr>\n",
       "      <th>mcimerchant_id_std</th>\n",
       "      <td>629.000000</td>\n",
       "    </tr>\n",
       "    <tr>\n",
       "      <th>purchase_amount_max</th>\n",
       "      <td>1016.600000</td>\n",
       "    </tr>\n",
       "  </tbody>\n",
       "</table>\n",
       "<p>370 rows × 1 columns</p>\n",
       "</div>"
      ],
      "text/plain": [
       "                                                     importance\n",
       "feature                                                        \n",
       "category_combined_with_cat1_bottom_quarter_quan...     1.000000\n",
       "category_combined_without_cat1_top_quarter_quan...     1.000000\n",
       "category_combined_without_cat1_modeplus_1              1.000000\n",
       "category_combined_without_cat1_modeplus_16             1.000000\n",
       "category_combined_without_cat1_modeplus_12             1.000000\n",
       "category_combined_without_cat1_modeplus_13             1.600000\n",
       "category_combined_with_cat1_top_quarter_quantile_6     1.666667\n",
       "category_combined_without_cat1_modeplus_11             1.666667\n",
       "agged_non_city_id_modeplus_4.0                         1.666667\n",
       "category_combined_without_cat1_modeplus_17             1.750000\n",
       "agged_all_city_id_modeplus_13                          1.750000\n",
       "agged_au_city_id_modeplus_13                           1.800000\n",
       "category_combined_with_cat1_top_quarter_quantil...     1.800000\n",
       "category_combined_without_cat1_modeplus_10             2.000000\n",
       "category_combined_without_cat1_modeplus_9              2.000000\n",
       "agged_all_city_id_modeplus_8                           2.000000\n",
       "agged_all_city_id_modeplus_6                           2.000000\n",
       "agged_all_city_id_modeplus_11                          2.000000\n",
       "category_combined_with_cat1_top_quarter_quantile_2     2.000000\n",
       "agged_all_city_id_modeplus_14                          2.000000\n",
       "category_combined_with_cat1_top_quarter_quantile_9     2.200000\n",
       "category_combined_with_cat1_bottom_quarter_quan...     2.200000\n",
       "category_combined_with_cat1_top_quarter_quantil...     2.200000\n",
       "category_combined_with_cat1_top_quarter_quantile_8     2.200000\n",
       "category_combined_with_cat1_top_quarter_quantile_1     2.600000\n",
       "category_combined_without_cat1_top_quarter_quan...     2.600000\n",
       "category_combined_without_cat1_bottom_quarter_q...     2.750000\n",
       "category_combined_with_cat1_top_quarter_quantile_7     2.800000\n",
       "category_combined_with_cat1_bottom_quarter_quan...     2.800000\n",
       "agged_all_city_id_modeplus_5                           3.000000\n",
       "...                                                         ...\n",
       "all_month_pos__10_prc                                180.000000\n",
       "agged_au_purchase_date_day_max                       182.400000\n",
       "holiday_Black_Friday_2017_sum_hp                     182.600000\n",
       "mi_card_id_std                                       185.200000\n",
       "6th_month_debt_bte_mean                              185.800000\n",
       "all_month_fetb__7_prc                                186.800000\n",
       "last_payments_month                                  186.800000\n",
       "holiday_Independence_day_2017_sum_hp                 191.400000\n",
       "all_month_pos__8_prc                                 191.400000\n",
       "all_month_pos__6_prc                                 193.200000\n",
       "4to5_rel_gen_mean                                    194.000000\n",
       "auth_month_diff_mean                                 199.800000\n",
       "all_month_pos__9_prc                                 200.400000\n",
       "new_purchase_amount_max                              200.400000\n",
       "agged_non_purchase_date_hour_std                     200.400000\n",
       "purchase_amount_size                                 208.400000\n",
       "hist_purchase_date_min                               210.600000\n",
       "last_payments_day                                    220.200000\n",
       "mi_merchant_category_id_percent_to_merchid_std       221.800000\n",
       "all_month_fetb__1                                    224.400000\n",
       "holiday_Valentine_Day_2017_max_sp                    225.600000\n",
       "purchase_date_day_ptp_plus                           232.800000\n",
       "hist_month_diff_mean                                 248.400000\n",
       "elapsed_time                                         265.600000\n",
       "holiday_Carnival_2017_min_sp                         275.400000\n",
       "mcimerchant_id_percent_to_mc_id_mean                 284.400000\n",
       "new_purchase_month_mean                              376.400000\n",
       "holiday_Corpus_Christi_2017_sum_hp                   435.200000\n",
       "mcimerchant_id_std                                   629.000000\n",
       "purchase_amount_max                                 1016.600000\n",
       "\n",
       "[370 rows x 1 columns]"
      ]
     },
     "execution_count": 42,
     "metadata": {},
     "output_type": "execute_result"
    }
   ],
   "source": [
    "all_cols = pd.DataFrame(best_features.groupby(['feature'])['importance'].mean()).sort_values(by='importance')\n",
    "all_cols"
   ]
  },
  {
   "cell_type": "code",
   "execution_count": null,
   "metadata": {},
   "outputs": [],
   "source": []
  }
 ],
 "metadata": {
  "kernelspec": {
   "display_name": "Python 3",
   "language": "python",
   "name": "python3"
  },
  "language_info": {
   "codemirror_mode": {
    "name": "ipython",
    "version": 3
   },
   "file_extension": ".py",
   "mimetype": "text/x-python",
   "name": "python",
   "nbconvert_exporter": "python",
   "pygments_lexer": "ipython3",
   "version": "3.7.1"
  }
 },
 "nbformat": 4,
 "nbformat_minor": 2
}
