{
 "cells": [
  {
   "cell_type": "code",
   "execution_count": 1,
   "metadata": {
    "ExecuteTime": {
     "end_time": "2019-02-05T12:47:24.090335Z",
     "start_time": "2019-02-05T12:47:22.801601Z"
    }
   },
   "outputs": [],
   "source": [
    "import numpy as np \n",
    "import pandas as pd \n",
    "import matplotlib.pyplot as plt\n",
    "import seaborn as sns\n",
    "import lightgbm as lgb\n",
    "\n",
    "import feather\n",
    "import warnings\n",
    "import time\n",
    "import sys\n",
    "import datetime\n",
    "import re\n",
    "import gc\n",
    "\n",
    "from sklearn.model_selection import KFold\n",
    "from sklearn import linear_model\n",
    "from sklearn.metrics import mean_squared_error\n",
    "\n",
    "warnings.simplefilter(action='ignore', category=FutureWarning)\n",
    "pd.set_option('display.max_columns', 500)\n",
    "\n",
    "from scipy.stats import mode\n",
    "from scipy import stats\n",
    "from sklearn import preprocessing\n",
    "\n",
    "\n",
    "from IPython.core.display import display, HTML"
   ]
  },
  {
   "cell_type": "code",
   "execution_count": 2,
   "metadata": {
    "ExecuteTime": {
     "end_time": "2019-02-05T12:48:46.695612Z",
     "start_time": "2019-02-05T12:47:24.091327Z"
    }
   },
   "outputs": [],
   "source": [
    "all_transactions = feather.read_dataframe('all_transactions')"
   ]
  },
  {
   "cell_type": "code",
   "execution_count": 3,
   "metadata": {
    "ExecuteTime": {
     "end_time": "2019-02-05T12:48:46.951603Z",
     "start_time": "2019-02-05T12:48:46.696609Z"
    }
   },
   "outputs": [],
   "source": [
    "all_transactions['non_installments_purchases'] = (all_transactions.installments == 0) * all_transactions.purchase_amount"
   ]
  },
  {
   "cell_type": "code",
   "execution_count": 4,
   "metadata": {
    "ExecuteTime": {
     "end_time": "2019-02-05T12:48:51.281219Z",
     "start_time": "2019-02-05T12:48:46.953602Z"
    },
    "scrolled": true
   },
   "outputs": [],
   "source": [
    "all_transactions.drop(['cat2_dum_nan'],axis=1,inplace=True)"
   ]
  },
  {
   "cell_type": "code",
   "execution_count": 5,
   "metadata": {
    "ExecuteTime": {
     "end_time": "2019-02-05T12:48:51.291223Z",
     "start_time": "2019-02-05T12:48:51.284219Z"
    }
   },
   "outputs": [],
   "source": [
    "def modeplus(x): return mode(x)[0]\n",
    "def non_zero_mean(x): return get_non_zero(x).mean()\n",
    "def non_zero_percent(x): return x.astype(np.bool_).mean()\n",
    "def count_non_zeros(x): return x.astype(np.bool_).sum()\n",
    "def active_days(x): return x.nunique()/x.ptp()\n",
    "\n",
    "def top_quarter_quantile(x): return x.quantile(q=0.25,interpolation='lower')\n",
    "def bottom_quarter_quantile(x): return x.quantile(q=0.75,interpolation='higher')\n",
    "\n",
    "def table_ends(x): return np.sum([(x == -15).max(),(x == 0).max()*2])\n"
   ]
  },
  {
   "cell_type": "code",
   "execution_count": 6,
   "metadata": {
    "ExecuteTime": {
     "end_time": "2019-02-05T12:48:51.301214Z",
     "start_time": "2019-02-05T12:48:51.292217Z"
    }
   },
   "outputs": [],
   "source": [
    "def get_non_zero(x: pd.core.series.Series) -> pd.core.series.Series:\n",
    "    \"\"\"returns a copy of an array with zero elemnts removed\"\"\"\n",
    "    return x.reset_index(drop=True)[x.nonzero()[0]]\n",
    "\n",
    "def count_unique(x: pd.core.series.Series) -> pd.core.series.Series:\n",
    "    \"\"\"returns a reversed array of unique values' counts\"\"\"\n",
    "    return np.unique(x,return_counts=True)[1][::-1]"
   ]
  },
  {
   "cell_type": "code",
   "execution_count": 7,
   "metadata": {
    "ExecuteTime": {
     "end_time": "2019-02-05T12:48:54.744128Z",
     "start_time": "2019-02-05T12:48:51.303213Z"
    }
   },
   "outputs": [],
   "source": [
    "\"\"\"payments per categories\"\"\"\n",
    "cats_purchases = all_transactions[[x for x in all_transactions.columns.values if re.match('cat\\d',x)]].copy()\n",
    "\n",
    "for x in cats_purchases.columns:\n",
    "    cats_purchases[x] = cats_purchases[x] * all_transactions.purchase_amount.values\n",
    "\n",
    "def reformat(x): return re.match('(cat\\d)_.+_(.)',x).group(1),re.match('(cat\\d)_.+_(.)',x).group(2)\n",
    "cats_purchases.columns = [f'{reformat(x)[0]}_{reformat(x)[1]}_purchases' for x in cats_purchases.columns.values]\n",
    "cats_purchases['card_id'] = all_transactions.card_id"
   ]
  },
  {
   "cell_type": "code",
   "execution_count": null,
   "metadata": {
    "ExecuteTime": {
     "end_time": "2019-02-05T11:32:37.639471Z",
     "start_time": "2019-02-05T11:32:36.759447Z"
    }
   },
   "outputs": [],
   "source": []
  },
  {
   "cell_type": "code",
   "execution_count": 8,
   "metadata": {
    "ExecuteTime": {
     "end_time": "2019-02-05T12:48:56.336033Z",
     "start_time": "2019-02-05T12:48:54.746116Z"
    }
   },
   "outputs": [],
   "source": [
    "\"\"\"installment per categories\"\"\"\n",
    "cats_installment = all_transactions[[x for x in all_transactions.columns.values if re.match('cat\\d',x)]].copy()\n",
    "\n",
    "for x in cats_installment.columns:\n",
    "    cats_installment[x] = cats_installment[x] * all_transactions.installments.values\n",
    "\n",
    "def reformat(x): return re.match('(cat\\d)_.+_(.)',x).group(1),re.match('(cat\\d)_.+_(.)',x).group(2)\n",
    "cats_installment.columns = [f'{reformat(x)[0]}_{reformat(x)[1]}_installments' for x in cats_installment.columns.values]\n",
    "cats_installment['card_id'] = all_transactions.card_id"
   ]
  },
  {
   "cell_type": "code",
   "execution_count": null,
   "metadata": {},
   "outputs": [],
   "source": []
  },
  {
   "cell_type": "code",
   "execution_count": 9,
   "metadata": {
    "ExecuteTime": {
     "end_time": "2019-02-05T12:49:07.957530Z",
     "start_time": "2019-02-05T12:48:56.337018Z"
    }
   },
   "outputs": [],
   "source": [
    "\"\"\"from end to finnish payments\"\"\"\n",
    "from_end_to_finnish_payments = pd.get_dummies(all_transactions.payment_from_end_to_begging)\n",
    "\n",
    "for x in from_end_to_finnish_payments:\n",
    "    from_end_to_finnish_payments[x] = from_end_to_finnish_payments[x] * all_transactions.purchase_amount.values\n",
    "    \n",
    "from_end_to_finnish_payments.columns = [f'{x}_month_payments' for x in from_end_to_finnish_payments.columns.values]\n",
    "from_end_to_finnish_payments['card_id'] = all_transactions.card_id"
   ]
  },
  {
   "cell_type": "code",
   "execution_count": null,
   "metadata": {},
   "outputs": [],
   "source": []
  },
  {
   "cell_type": "code",
   "execution_count": 10,
   "metadata": {
    "ExecuteTime": {
     "end_time": "2019-02-05T12:49:15.970698Z",
     "start_time": "2019-02-05T12:49:07.970519Z"
    }
   },
   "outputs": [],
   "source": [
    "\"\"\"from end to finnish installments\"\"\"\n",
    "from_end_to_finnish_installments = pd.get_dummies(all_transactions.payment_from_end_to_begging)\n",
    "\n",
    "for x in from_end_to_finnish_installments:\n",
    "    from_end_to_finnish_installments[x] = from_end_to_finnish_installments[x] * all_transactions.installments.values\n",
    "    \n",
    "from_end_to_finnish_installments.columns = [f'{x}_month_installments' for x in from_end_to_finnish_installments.columns.values]\n",
    "from_end_to_finnish_installments['card_id'] = all_transactions.card_id"
   ]
  },
  {
   "cell_type": "code",
   "execution_count": 11,
   "metadata": {
    "ExecuteTime": {
     "end_time": "2019-02-05T12:50:21.590255Z",
     "start_time": "2019-02-05T12:49:15.985693Z"
    }
   },
   "outputs": [],
   "source": [
    "summed_values = all_transactions.groupby(['card_id']).agg({'purchase_amount':'sum','installments':['sum',count_non_zeros]})\n",
    "summed_values.columns = ['_'.join(x) for x in summed_values.columns.values]"
   ]
  },
  {
   "cell_type": "code",
   "execution_count": 12,
   "metadata": {
    "ExecuteTime": {
     "end_time": "2019-02-05T12:50:25.593412Z",
     "start_time": "2019-02-05T12:50:21.599252Z"
    }
   },
   "outputs": [],
   "source": [
    "del all_transactions"
   ]
  },
  {
   "cell_type": "code",
   "execution_count": null,
   "metadata": {},
   "outputs": [],
   "source": []
  },
  {
   "cell_type": "code",
   "execution_count": 13,
   "metadata": {
    "ExecuteTime": {
     "end_time": "2019-02-05T12:50:25.633604Z",
     "start_time": "2019-02-05T12:50:25.601410Z"
    }
   },
   "outputs": [],
   "source": [
    "aggP = {x:['sum','mean','std'] for x in cats_purchases.columns.values if x!='card_id'}"
   ]
  },
  {
   "cell_type": "code",
   "execution_count": 14,
   "metadata": {
    "ExecuteTime": {
     "end_time": "2019-02-05T12:50:45.163992Z",
     "start_time": "2019-02-05T12:50:25.645630Z"
    }
   },
   "outputs": [],
   "source": [
    "cats_purchases_agged = cats_purchases.groupby(['card_id']).agg(aggP)"
   ]
  },
  {
   "cell_type": "code",
   "execution_count": null,
   "metadata": {},
   "outputs": [],
   "source": []
  },
  {
   "cell_type": "code",
   "execution_count": 15,
   "metadata": {
    "ExecuteTime": {
     "end_time": "2019-02-05T12:50:45.197980Z",
     "start_time": "2019-02-05T12:50:45.176987Z"
    }
   },
   "outputs": [],
   "source": [
    "aggI = {x:['sum','mean','std',count_non_zeros] for x in cats_installment.columns.values if x!='card_id'}"
   ]
  },
  {
   "cell_type": "code",
   "execution_count": 16,
   "metadata": {
    "ExecuteTime": {
     "end_time": "2019-02-05T13:00:39.030988Z",
     "start_time": "2019-02-05T12:50:45.198980Z"
    }
   },
   "outputs": [],
   "source": [
    "cats_installments_agged = cats_installment.groupby(['card_id']).agg(aggI)"
   ]
  },
  {
   "cell_type": "code",
   "execution_count": null,
   "metadata": {},
   "outputs": [],
   "source": []
  },
  {
   "cell_type": "code",
   "execution_count": null,
   "metadata": {},
   "outputs": [],
   "source": [
    "cats_installments_agged.columns = ['_'.join(x) for x in cats_installments_agged.columns.values]\n",
    "cats_purchases_agged.columns = ['_'.join(x) for x in cats_purchases_agged.columns.values]"
   ]
  },
  {
   "cell_type": "code",
   "execution_count": null,
   "metadata": {},
   "outputs": [],
   "source": []
  },
  {
   "cell_type": "code",
   "execution_count": 17,
   "metadata": {
    "ExecuteTime": {
     "end_time": "2019-02-05T13:00:39.082970Z",
     "start_time": "2019-02-05T13:00:39.051981Z"
    }
   },
   "outputs": [],
   "source": [
    "aggIm = {x:['sum','mean','std',count_non_zeros] for x in from_end_to_finnish_installments.columns.values if x!='card_id'}\n",
    "aggPm = {x:['sum','mean','std'] for x in from_end_to_finnish_payments.columns.values if x!='card_id'}"
   ]
  },
  {
   "cell_type": "code",
   "execution_count": 18,
   "metadata": {
    "ExecuteTime": {
     "end_time": "2019-02-05T13:16:54.039321Z",
     "start_time": "2019-02-05T13:00:39.113961Z"
    }
   },
   "outputs": [],
   "source": [
    "fetfp = from_end_to_finnish_payments.groupby(['card_id']).agg(aggPm)\n",
    "fetfi = from_end_to_finnish_installments.groupby(['card_id']).agg(aggIm)\n",
    "fetfi.columns = ['_'.join(x) for x in fetfi.columns.values]\n",
    "fetfp.columns = ['_'.join(x) for x in fetfp.columns.values]"
   ]
  },
  {
   "cell_type": "code",
   "execution_count": 33,
   "metadata": {
    "ExecuteTime": {
     "end_time": "2019-02-05T13:31:10.907597Z",
     "start_time": "2019-02-05T13:31:10.902596Z"
    }
   },
   "outputs": [],
   "source": [
    "cats_installments_agged.columns = ['_'.join(x) for x in cats_installments_agged.columns.values]\n",
    "cats_purchases_agged.columns = ['_'.join(x) for x in cats_purchases_agged.columns.values]"
   ]
  },
  {
   "cell_type": "code",
   "execution_count": 34,
   "metadata": {
    "ExecuteTime": {
     "end_time": "2019-02-05T13:35:56.065991Z",
     "start_time": "2019-02-05T13:35:56.031003Z"
    }
   },
   "outputs": [
    {
     "data": {
      "text/html": [
       "<div>\n",
       "<style scoped>\n",
       "    .dataframe tbody tr th:only-of-type {\n",
       "        vertical-align: middle;\n",
       "    }\n",
       "\n",
       "    .dataframe tbody tr th {\n",
       "        vertical-align: top;\n",
       "    }\n",
       "\n",
       "    .dataframe thead th {\n",
       "        text-align: right;\n",
       "    }\n",
       "</style>\n",
       "<table border=\"1\" class=\"dataframe\">\n",
       "  <thead>\n",
       "    <tr style=\"text-align: right;\">\n",
       "      <th></th>\n",
       "      <th>0_month_payments_sum</th>\n",
       "      <th>0_month_payments_mean</th>\n",
       "      <th>0_month_payments_std</th>\n",
       "      <th>1_month_payments_sum</th>\n",
       "      <th>1_month_payments_mean</th>\n",
       "      <th>1_month_payments_std</th>\n",
       "      <th>2_month_payments_sum</th>\n",
       "      <th>2_month_payments_mean</th>\n",
       "      <th>2_month_payments_std</th>\n",
       "      <th>3_month_payments_sum</th>\n",
       "      <th>3_month_payments_mean</th>\n",
       "      <th>3_month_payments_std</th>\n",
       "      <th>4_month_payments_sum</th>\n",
       "      <th>4_month_payments_mean</th>\n",
       "      <th>4_month_payments_std</th>\n",
       "      <th>5_month_payments_sum</th>\n",
       "      <th>5_month_payments_mean</th>\n",
       "      <th>5_month_payments_std</th>\n",
       "      <th>6_month_payments_sum</th>\n",
       "      <th>6_month_payments_mean</th>\n",
       "      <th>6_month_payments_std</th>\n",
       "      <th>7_month_payments_sum</th>\n",
       "      <th>7_month_payments_mean</th>\n",
       "      <th>7_month_payments_std</th>\n",
       "      <th>8_month_payments_sum</th>\n",
       "      <th>8_month_payments_mean</th>\n",
       "      <th>8_month_payments_std</th>\n",
       "      <th>9_month_payments_sum</th>\n",
       "      <th>9_month_payments_mean</th>\n",
       "      <th>9_month_payments_std</th>\n",
       "      <th>10_month_payments_sum</th>\n",
       "      <th>10_month_payments_mean</th>\n",
       "      <th>10_month_payments_std</th>\n",
       "      <th>11_month_payments_sum</th>\n",
       "      <th>11_month_payments_mean</th>\n",
       "      <th>11_month_payments_std</th>\n",
       "      <th>12_month_payments_sum</th>\n",
       "      <th>12_month_payments_mean</th>\n",
       "      <th>12_month_payments_std</th>\n",
       "      <th>13_month_payments_sum</th>\n",
       "      <th>13_month_payments_mean</th>\n",
       "      <th>13_month_payments_std</th>\n",
       "      <th>14_month_payments_sum</th>\n",
       "      <th>14_month_payments_mean</th>\n",
       "      <th>14_month_payments_std</th>\n",
       "      <th>15_month_payments_sum</th>\n",
       "      <th>15_month_payments_mean</th>\n",
       "      <th>15_month_payments_std</th>\n",
       "    </tr>\n",
       "    <tr>\n",
       "      <th>card_id</th>\n",
       "      <th></th>\n",
       "      <th></th>\n",
       "      <th></th>\n",
       "      <th></th>\n",
       "      <th></th>\n",
       "      <th></th>\n",
       "      <th></th>\n",
       "      <th></th>\n",
       "      <th></th>\n",
       "      <th></th>\n",
       "      <th></th>\n",
       "      <th></th>\n",
       "      <th></th>\n",
       "      <th></th>\n",
       "      <th></th>\n",
       "      <th></th>\n",
       "      <th></th>\n",
       "      <th></th>\n",
       "      <th></th>\n",
       "      <th></th>\n",
       "      <th></th>\n",
       "      <th></th>\n",
       "      <th></th>\n",
       "      <th></th>\n",
       "      <th></th>\n",
       "      <th></th>\n",
       "      <th></th>\n",
       "      <th></th>\n",
       "      <th></th>\n",
       "      <th></th>\n",
       "      <th></th>\n",
       "      <th></th>\n",
       "      <th></th>\n",
       "      <th></th>\n",
       "      <th></th>\n",
       "      <th></th>\n",
       "      <th></th>\n",
       "      <th></th>\n",
       "      <th></th>\n",
       "      <th></th>\n",
       "      <th></th>\n",
       "      <th></th>\n",
       "      <th></th>\n",
       "      <th></th>\n",
       "      <th></th>\n",
       "      <th></th>\n",
       "      <th></th>\n",
       "      <th></th>\n",
       "    </tr>\n",
       "  </thead>\n",
       "  <tbody>\n",
       "    <tr>\n",
       "      <th>C_ID_00007093c1</th>\n",
       "      <td>46.714760</td>\n",
       "      <td>0.309369</td>\n",
       "      <td>2.679171</td>\n",
       "      <td>0.000000</td>\n",
       "      <td>0.000000</td>\n",
       "      <td>0.000000</td>\n",
       "      <td>297.496623</td>\n",
       "      <td>1.970176</td>\n",
       "      <td>6.747591</td>\n",
       "      <td>243.139529</td>\n",
       "      <td>1.610196</td>\n",
       "      <td>6.073657</td>\n",
       "      <td>300.201996</td>\n",
       "      <td>1.988093</td>\n",
       "      <td>6.807766</td>\n",
       "      <td>149.314210</td>\n",
       "      <td>0.988836</td>\n",
       "      <td>4.908215</td>\n",
       "      <td>405.769653</td>\n",
       "      <td>2.687216</td>\n",
       "      <td>7.574094</td>\n",
       "      <td>120.537067</td>\n",
       "      <td>0.798259</td>\n",
       "      <td>4.333020</td>\n",
       "      <td>445.971732</td>\n",
       "      <td>2.953455</td>\n",
       "      <td>8.604544</td>\n",
       "      <td>357.615352</td>\n",
       "      <td>2.368314</td>\n",
       "      <td>7.162694</td>\n",
       "      <td>471.313234</td>\n",
       "      <td>3.121280</td>\n",
       "      <td>8.285932</td>\n",
       "      <td>265.747517</td>\n",
       "      <td>1.759917</td>\n",
       "      <td>6.703376</td>\n",
       "      <td>294.913115</td>\n",
       "      <td>1.953067</td>\n",
       "      <td>6.695223</td>\n",
       "      <td>242.873710</td>\n",
       "      <td>1.608435</td>\n",
       "      <td>6.063382</td>\n",
       "      <td>106.655856</td>\n",
       "      <td>0.706330</td>\n",
       "      <td>4.312605</td>\n",
       "      <td>0.0</td>\n",
       "      <td>0.0</td>\n",
       "      <td>0.0</td>\n",
       "    </tr>\n",
       "    <tr>\n",
       "      <th>C_ID_0001238066</th>\n",
       "      <td>219.052161</td>\n",
       "      <td>1.470149</td>\n",
       "      <td>5.823550</td>\n",
       "      <td>412.447285</td>\n",
       "      <td>2.768103</td>\n",
       "      <td>7.767903</td>\n",
       "      <td>571.059920</td>\n",
       "      <td>3.832617</td>\n",
       "      <td>8.784594</td>\n",
       "      <td>644.181070</td>\n",
       "      <td>4.323363</td>\n",
       "      <td>9.537030</td>\n",
       "      <td>895.571226</td>\n",
       "      <td>6.010545</td>\n",
       "      <td>10.518479</td>\n",
       "      <td>545.733015</td>\n",
       "      <td>3.662638</td>\n",
       "      <td>8.609580</td>\n",
       "      <td>262.010594</td>\n",
       "      <td>1.758460</td>\n",
       "      <td>6.256089</td>\n",
       "      <td>46.972165</td>\n",
       "      <td>0.315249</td>\n",
       "      <td>2.713308</td>\n",
       "      <td>0.000000</td>\n",
       "      <td>0.000000</td>\n",
       "      <td>0.000000</td>\n",
       "      <td>0.000000</td>\n",
       "      <td>0.000000</td>\n",
       "      <td>0.000000</td>\n",
       "      <td>0.000000</td>\n",
       "      <td>0.000000</td>\n",
       "      <td>0.000000</td>\n",
       "      <td>0.000000</td>\n",
       "      <td>0.000000</td>\n",
       "      <td>0.000000</td>\n",
       "      <td>0.000000</td>\n",
       "      <td>0.000000</td>\n",
       "      <td>0.000000</td>\n",
       "      <td>0.000000</td>\n",
       "      <td>0.000000</td>\n",
       "      <td>0.000000</td>\n",
       "      <td>0.000000</td>\n",
       "      <td>0.000000</td>\n",
       "      <td>0.000000</td>\n",
       "      <td>0.0</td>\n",
       "      <td>0.0</td>\n",
       "      <td>0.0</td>\n",
       "    </tr>\n",
       "    <tr>\n",
       "      <th>C_ID_0001506ef0</th>\n",
       "      <td>45.526464</td>\n",
       "      <td>0.669507</td>\n",
       "      <td>3.874646</td>\n",
       "      <td>159.532238</td>\n",
       "      <td>2.346062</td>\n",
       "      <td>7.984553</td>\n",
       "      <td>178.232151</td>\n",
       "      <td>2.621061</td>\n",
       "      <td>7.999497</td>\n",
       "      <td>429.287817</td>\n",
       "      <td>6.313056</td>\n",
       "      <td>10.681622</td>\n",
       "      <td>174.084533</td>\n",
       "      <td>2.560067</td>\n",
       "      <td>7.738458</td>\n",
       "      <td>81.278011</td>\n",
       "      <td>1.195265</td>\n",
       "      <td>5.738222</td>\n",
       "      <td>56.639771</td>\n",
       "      <td>0.832938</td>\n",
       "      <td>4.912572</td>\n",
       "      <td>57.826866</td>\n",
       "      <td>0.850395</td>\n",
       "      <td>5.039277</td>\n",
       "      <td>60.343807</td>\n",
       "      <td>0.887409</td>\n",
       "      <td>5.293081</td>\n",
       "      <td>67.966476</td>\n",
       "      <td>0.999507</td>\n",
       "      <td>4.687078</td>\n",
       "      <td>22.981717</td>\n",
       "      <td>0.337966</td>\n",
       "      <td>2.786943</td>\n",
       "      <td>0.000000</td>\n",
       "      <td>0.000000</td>\n",
       "      <td>0.000000</td>\n",
       "      <td>184.552923</td>\n",
       "      <td>2.714014</td>\n",
       "      <td>7.488172</td>\n",
       "      <td>115.426701</td>\n",
       "      <td>1.697451</td>\n",
       "      <td>6.071005</td>\n",
       "      <td>45.828196</td>\n",
       "      <td>0.673944</td>\n",
       "      <td>3.900456</td>\n",
       "      <td>0.0</td>\n",
       "      <td>0.0</td>\n",
       "      <td>0.0</td>\n",
       "    </tr>\n",
       "    <tr>\n",
       "      <th>C_ID_0001793786</th>\n",
       "      <td>280.954648</td>\n",
       "      <td>1.137468</td>\n",
       "      <td>5.708537</td>\n",
       "      <td>646.749151</td>\n",
       "      <td>2.618418</td>\n",
       "      <td>9.111897</td>\n",
       "      <td>545.020247</td>\n",
       "      <td>2.206560</td>\n",
       "      <td>7.597485</td>\n",
       "      <td>1080.611318</td>\n",
       "      <td>4.374945</td>\n",
       "      <td>11.071592</td>\n",
       "      <td>911.561478</td>\n",
       "      <td>3.690532</td>\n",
       "      <td>9.542330</td>\n",
       "      <td>863.340701</td>\n",
       "      <td>3.495306</td>\n",
       "      <td>9.853186</td>\n",
       "      <td>1050.652491</td>\n",
       "      <td>4.253654</td>\n",
       "      <td>10.896715</td>\n",
       "      <td>140.917055</td>\n",
       "      <td>0.570514</td>\n",
       "      <td>4.562504</td>\n",
       "      <td>792.879604</td>\n",
       "      <td>3.210039</td>\n",
       "      <td>8.876783</td>\n",
       "      <td>471.539323</td>\n",
       "      <td>1.909066</td>\n",
       "      <td>7.695134</td>\n",
       "      <td>191.474695</td>\n",
       "      <td>0.775201</td>\n",
       "      <td>5.108610</td>\n",
       "      <td>64.142960</td>\n",
       "      <td>0.259688</td>\n",
       "      <td>2.971508</td>\n",
       "      <td>0.000000</td>\n",
       "      <td>0.000000</td>\n",
       "      <td>0.000000</td>\n",
       "      <td>0.000000</td>\n",
       "      <td>0.000000</td>\n",
       "      <td>0.000000</td>\n",
       "      <td>0.000000</td>\n",
       "      <td>0.000000</td>\n",
       "      <td>0.000000</td>\n",
       "      <td>0.0</td>\n",
       "      <td>0.0</td>\n",
       "      <td>0.0</td>\n",
       "    </tr>\n",
       "    <tr>\n",
       "      <th>C_ID_000183fdda</th>\n",
       "      <td>75.200389</td>\n",
       "      <td>0.485164</td>\n",
       "      <td>3.485466</td>\n",
       "      <td>188.891828</td>\n",
       "      <td>1.218657</td>\n",
       "      <td>5.244866</td>\n",
       "      <td>683.610376</td>\n",
       "      <td>4.410390</td>\n",
       "      <td>9.567334</td>\n",
       "      <td>764.188093</td>\n",
       "      <td>4.930246</td>\n",
       "      <td>11.129533</td>\n",
       "      <td>650.611966</td>\n",
       "      <td>4.197497</td>\n",
       "      <td>9.508800</td>\n",
       "      <td>236.402372</td>\n",
       "      <td>1.525177</td>\n",
       "      <td>6.466138</td>\n",
       "      <td>598.226370</td>\n",
       "      <td>3.859525</td>\n",
       "      <td>8.856074</td>\n",
       "      <td>520.849843</td>\n",
       "      <td>3.360322</td>\n",
       "      <td>8.309708</td>\n",
       "      <td>177.731598</td>\n",
       "      <td>1.146655</td>\n",
       "      <td>5.779884</td>\n",
       "      <td>0.000000</td>\n",
       "      <td>0.000000</td>\n",
       "      <td>0.000000</td>\n",
       "      <td>0.000000</td>\n",
       "      <td>0.000000</td>\n",
       "      <td>0.000000</td>\n",
       "      <td>0.000000</td>\n",
       "      <td>0.000000</td>\n",
       "      <td>0.000000</td>\n",
       "      <td>0.000000</td>\n",
       "      <td>0.000000</td>\n",
       "      <td>0.000000</td>\n",
       "      <td>0.000000</td>\n",
       "      <td>0.000000</td>\n",
       "      <td>0.000000</td>\n",
       "      <td>0.000000</td>\n",
       "      <td>0.000000</td>\n",
       "      <td>0.000000</td>\n",
       "      <td>0.0</td>\n",
       "      <td>0.0</td>\n",
       "      <td>0.0</td>\n",
       "    </tr>\n",
       "  </tbody>\n",
       "</table>\n",
       "</div>"
      ],
      "text/plain": [
       "                 0_month_payments_sum  0_month_payments_mean  \\\n",
       "card_id                                                        \n",
       "C_ID_00007093c1             46.714760               0.309369   \n",
       "C_ID_0001238066            219.052161               1.470149   \n",
       "C_ID_0001506ef0             45.526464               0.669507   \n",
       "C_ID_0001793786            280.954648               1.137468   \n",
       "C_ID_000183fdda             75.200389               0.485164   \n",
       "\n",
       "                 0_month_payments_std  1_month_payments_sum  \\\n",
       "card_id                                                       \n",
       "C_ID_00007093c1              2.679171              0.000000   \n",
       "C_ID_0001238066              5.823550            412.447285   \n",
       "C_ID_0001506ef0              3.874646            159.532238   \n",
       "C_ID_0001793786              5.708537            646.749151   \n",
       "C_ID_000183fdda              3.485466            188.891828   \n",
       "\n",
       "                 1_month_payments_mean  1_month_payments_std  \\\n",
       "card_id                                                        \n",
       "C_ID_00007093c1               0.000000              0.000000   \n",
       "C_ID_0001238066               2.768103              7.767903   \n",
       "C_ID_0001506ef0               2.346062              7.984553   \n",
       "C_ID_0001793786               2.618418              9.111897   \n",
       "C_ID_000183fdda               1.218657              5.244866   \n",
       "\n",
       "                 2_month_payments_sum  2_month_payments_mean  \\\n",
       "card_id                                                        \n",
       "C_ID_00007093c1            297.496623               1.970176   \n",
       "C_ID_0001238066            571.059920               3.832617   \n",
       "C_ID_0001506ef0            178.232151               2.621061   \n",
       "C_ID_0001793786            545.020247               2.206560   \n",
       "C_ID_000183fdda            683.610376               4.410390   \n",
       "\n",
       "                 2_month_payments_std  3_month_payments_sum  \\\n",
       "card_id                                                       \n",
       "C_ID_00007093c1              6.747591            243.139529   \n",
       "C_ID_0001238066              8.784594            644.181070   \n",
       "C_ID_0001506ef0              7.999497            429.287817   \n",
       "C_ID_0001793786              7.597485           1080.611318   \n",
       "C_ID_000183fdda              9.567334            764.188093   \n",
       "\n",
       "                 3_month_payments_mean  3_month_payments_std  \\\n",
       "card_id                                                        \n",
       "C_ID_00007093c1               1.610196              6.073657   \n",
       "C_ID_0001238066               4.323363              9.537030   \n",
       "C_ID_0001506ef0               6.313056             10.681622   \n",
       "C_ID_0001793786               4.374945             11.071592   \n",
       "C_ID_000183fdda               4.930246             11.129533   \n",
       "\n",
       "                 4_month_payments_sum  4_month_payments_mean  \\\n",
       "card_id                                                        \n",
       "C_ID_00007093c1            300.201996               1.988093   \n",
       "C_ID_0001238066            895.571226               6.010545   \n",
       "C_ID_0001506ef0            174.084533               2.560067   \n",
       "C_ID_0001793786            911.561478               3.690532   \n",
       "C_ID_000183fdda            650.611966               4.197497   \n",
       "\n",
       "                 4_month_payments_std  5_month_payments_sum  \\\n",
       "card_id                                                       \n",
       "C_ID_00007093c1              6.807766            149.314210   \n",
       "C_ID_0001238066             10.518479            545.733015   \n",
       "C_ID_0001506ef0              7.738458             81.278011   \n",
       "C_ID_0001793786              9.542330            863.340701   \n",
       "C_ID_000183fdda              9.508800            236.402372   \n",
       "\n",
       "                 5_month_payments_mean  5_month_payments_std  \\\n",
       "card_id                                                        \n",
       "C_ID_00007093c1               0.988836              4.908215   \n",
       "C_ID_0001238066               3.662638              8.609580   \n",
       "C_ID_0001506ef0               1.195265              5.738222   \n",
       "C_ID_0001793786               3.495306              9.853186   \n",
       "C_ID_000183fdda               1.525177              6.466138   \n",
       "\n",
       "                 6_month_payments_sum  6_month_payments_mean  \\\n",
       "card_id                                                        \n",
       "C_ID_00007093c1            405.769653               2.687216   \n",
       "C_ID_0001238066            262.010594               1.758460   \n",
       "C_ID_0001506ef0             56.639771               0.832938   \n",
       "C_ID_0001793786           1050.652491               4.253654   \n",
       "C_ID_000183fdda            598.226370               3.859525   \n",
       "\n",
       "                 6_month_payments_std  7_month_payments_sum  \\\n",
       "card_id                                                       \n",
       "C_ID_00007093c1              7.574094            120.537067   \n",
       "C_ID_0001238066              6.256089             46.972165   \n",
       "C_ID_0001506ef0              4.912572             57.826866   \n",
       "C_ID_0001793786             10.896715            140.917055   \n",
       "C_ID_000183fdda              8.856074            520.849843   \n",
       "\n",
       "                 7_month_payments_mean  7_month_payments_std  \\\n",
       "card_id                                                        \n",
       "C_ID_00007093c1               0.798259              4.333020   \n",
       "C_ID_0001238066               0.315249              2.713308   \n",
       "C_ID_0001506ef0               0.850395              5.039277   \n",
       "C_ID_0001793786               0.570514              4.562504   \n",
       "C_ID_000183fdda               3.360322              8.309708   \n",
       "\n",
       "                 8_month_payments_sum  8_month_payments_mean  \\\n",
       "card_id                                                        \n",
       "C_ID_00007093c1            445.971732               2.953455   \n",
       "C_ID_0001238066              0.000000               0.000000   \n",
       "C_ID_0001506ef0             60.343807               0.887409   \n",
       "C_ID_0001793786            792.879604               3.210039   \n",
       "C_ID_000183fdda            177.731598               1.146655   \n",
       "\n",
       "                 8_month_payments_std  9_month_payments_sum  \\\n",
       "card_id                                                       \n",
       "C_ID_00007093c1              8.604544            357.615352   \n",
       "C_ID_0001238066              0.000000              0.000000   \n",
       "C_ID_0001506ef0              5.293081             67.966476   \n",
       "C_ID_0001793786              8.876783            471.539323   \n",
       "C_ID_000183fdda              5.779884              0.000000   \n",
       "\n",
       "                 9_month_payments_mean  9_month_payments_std  \\\n",
       "card_id                                                        \n",
       "C_ID_00007093c1               2.368314              7.162694   \n",
       "C_ID_0001238066               0.000000              0.000000   \n",
       "C_ID_0001506ef0               0.999507              4.687078   \n",
       "C_ID_0001793786               1.909066              7.695134   \n",
       "C_ID_000183fdda               0.000000              0.000000   \n",
       "\n",
       "                 10_month_payments_sum  10_month_payments_mean  \\\n",
       "card_id                                                          \n",
       "C_ID_00007093c1             471.313234                3.121280   \n",
       "C_ID_0001238066               0.000000                0.000000   \n",
       "C_ID_0001506ef0              22.981717                0.337966   \n",
       "C_ID_0001793786             191.474695                0.775201   \n",
       "C_ID_000183fdda               0.000000                0.000000   \n",
       "\n",
       "                 10_month_payments_std  11_month_payments_sum  \\\n",
       "card_id                                                         \n",
       "C_ID_00007093c1               8.285932             265.747517   \n",
       "C_ID_0001238066               0.000000               0.000000   \n",
       "C_ID_0001506ef0               2.786943               0.000000   \n",
       "C_ID_0001793786               5.108610              64.142960   \n",
       "C_ID_000183fdda               0.000000               0.000000   \n",
       "\n",
       "                 11_month_payments_mean  11_month_payments_std  \\\n",
       "card_id                                                          \n",
       "C_ID_00007093c1                1.759917               6.703376   \n",
       "C_ID_0001238066                0.000000               0.000000   \n",
       "C_ID_0001506ef0                0.000000               0.000000   \n",
       "C_ID_0001793786                0.259688               2.971508   \n",
       "C_ID_000183fdda                0.000000               0.000000   \n",
       "\n",
       "                 12_month_payments_sum  12_month_payments_mean  \\\n",
       "card_id                                                          \n",
       "C_ID_00007093c1             294.913115                1.953067   \n",
       "C_ID_0001238066               0.000000                0.000000   \n",
       "C_ID_0001506ef0             184.552923                2.714014   \n",
       "C_ID_0001793786               0.000000                0.000000   \n",
       "C_ID_000183fdda               0.000000                0.000000   \n",
       "\n",
       "                 12_month_payments_std  13_month_payments_sum  \\\n",
       "card_id                                                         \n",
       "C_ID_00007093c1               6.695223             242.873710   \n",
       "C_ID_0001238066               0.000000               0.000000   \n",
       "C_ID_0001506ef0               7.488172             115.426701   \n",
       "C_ID_0001793786               0.000000               0.000000   \n",
       "C_ID_000183fdda               0.000000               0.000000   \n",
       "\n",
       "                 13_month_payments_mean  13_month_payments_std  \\\n",
       "card_id                                                          \n",
       "C_ID_00007093c1                1.608435               6.063382   \n",
       "C_ID_0001238066                0.000000               0.000000   \n",
       "C_ID_0001506ef0                1.697451               6.071005   \n",
       "C_ID_0001793786                0.000000               0.000000   \n",
       "C_ID_000183fdda                0.000000               0.000000   \n",
       "\n",
       "                 14_month_payments_sum  14_month_payments_mean  \\\n",
       "card_id                                                          \n",
       "C_ID_00007093c1             106.655856                0.706330   \n",
       "C_ID_0001238066               0.000000                0.000000   \n",
       "C_ID_0001506ef0              45.828196                0.673944   \n",
       "C_ID_0001793786               0.000000                0.000000   \n",
       "C_ID_000183fdda               0.000000                0.000000   \n",
       "\n",
       "                 14_month_payments_std  15_month_payments_sum  \\\n",
       "card_id                                                         \n",
       "C_ID_00007093c1               4.312605                    0.0   \n",
       "C_ID_0001238066               0.000000                    0.0   \n",
       "C_ID_0001506ef0               3.900456                    0.0   \n",
       "C_ID_0001793786               0.000000                    0.0   \n",
       "C_ID_000183fdda               0.000000                    0.0   \n",
       "\n",
       "                 15_month_payments_mean  15_month_payments_std  \n",
       "card_id                                                         \n",
       "C_ID_00007093c1                     0.0                    0.0  \n",
       "C_ID_0001238066                     0.0                    0.0  \n",
       "C_ID_0001506ef0                     0.0                    0.0  \n",
       "C_ID_0001793786                     0.0                    0.0  \n",
       "C_ID_000183fdda                     0.0                    0.0  "
      ]
     },
     "execution_count": 34,
     "metadata": {},
     "output_type": "execute_result"
    }
   ],
   "source": [
    "fetfp.head()"
   ]
  },
  {
   "cell_type": "code",
   "execution_count": 36,
   "metadata": {
    "ExecuteTime": {
     "end_time": "2019-02-05T13:41:35.106743Z",
     "start_time": "2019-02-05T13:41:32.374626Z"
    }
   },
   "outputs": [],
   "source": [
    "purchases_CatsAndEts =  pd.merge(cats_purchases_agged,fetfp,on='card_id', how='left')\n",
    "installments_CatsAndEts = pd.merge(cats_installments_agged,fetfi,on='card_id', how='left')"
   ]
  },
  {
   "cell_type": "code",
   "execution_count": 39,
   "metadata": {
    "ExecuteTime": {
     "end_time": "2019-02-05T13:43:31.121974Z",
     "start_time": "2019-02-05T13:43:30.791015Z"
    }
   },
   "outputs": [],
   "source": [
    "#feather.write_dataframe(purchases_CatsAndEts,'Purch_CatsAndEts')\n",
    "#feather.write_dataframe(installments_CatsAndEts,'Inst_CatsAndEts')"
   ]
  },
  {
   "cell_type": "code",
   "execution_count": 50,
   "metadata": {
    "ExecuteTime": {
     "end_time": "2019-02-05T13:58:01.479558Z",
     "start_time": "2019-02-05T13:58:01.473546Z"
    }
   },
   "outputs": [],
   "source": [
    "purch_sum = [x for x in purchases_CatsAndEts.columns.values if re.search('_sum',x)]\n",
    "inst_sum = [x for x in installments_CatsAndEts.columns.values if re.search('_sum',x)]\n",
    "inst_nzeros = [x for x in installments_CatsAndEts.columns.values if re.search('_zeros',x)]"
   ]
  },
  {
   "cell_type": "code",
   "execution_count": 54,
   "metadata": {
    "ExecuteTime": {
     "end_time": "2019-02-05T13:58:41.156551Z",
     "start_time": "2019-02-05T13:58:41.146553Z"
    }
   },
   "outputs": [
    {
     "data": {
      "text/html": [
       "<div>\n",
       "<style scoped>\n",
       "    .dataframe tbody tr th:only-of-type {\n",
       "        vertical-align: middle;\n",
       "    }\n",
       "\n",
       "    .dataframe tbody tr th {\n",
       "        vertical-align: top;\n",
       "    }\n",
       "\n",
       "    .dataframe thead th {\n",
       "        text-align: right;\n",
       "    }\n",
       "</style>\n",
       "<table border=\"1\" class=\"dataframe\">\n",
       "  <thead>\n",
       "    <tr style=\"text-align: right;\">\n",
       "      <th></th>\n",
       "      <th>purchase_amount_sum</th>\n",
       "      <th>installments_sum</th>\n",
       "      <th>installments_count_non_zeros</th>\n",
       "    </tr>\n",
       "    <tr>\n",
       "      <th>card_id</th>\n",
       "      <th></th>\n",
       "      <th></th>\n",
       "      <th></th>\n",
       "    </tr>\n",
       "  </thead>\n",
       "  <tbody>\n",
       "    <tr>\n",
       "      <th>C_ID_00007093c1</th>\n",
       "      <td>3748.264355</td>\n",
       "      <td>194</td>\n",
       "      <td>151</td>\n",
       "    </tr>\n",
       "    <tr>\n",
       "      <th>C_ID_0001238066</th>\n",
       "      <td>3597.027435</td>\n",
       "      <td>244</td>\n",
       "      <td>145</td>\n",
       "    </tr>\n",
       "    <tr>\n",
       "      <th>C_ID_0001506ef0</th>\n",
       "      <td>1679.507671</td>\n",
       "      <td>1</td>\n",
       "      <td>1</td>\n",
       "    </tr>\n",
       "    <tr>\n",
       "      <th>C_ID_0001793786</th>\n",
       "      <td>7039.843671</td>\n",
       "      <td>5</td>\n",
       "      <td>5</td>\n",
       "    </tr>\n",
       "    <tr>\n",
       "      <th>C_ID_000183fdda</th>\n",
       "      <td>3895.712835</td>\n",
       "      <td>285</td>\n",
       "      <td>150</td>\n",
       "    </tr>\n",
       "  </tbody>\n",
       "</table>\n",
       "</div>"
      ],
      "text/plain": [
       "                 purchase_amount_sum  installments_sum  \\\n",
       "card_id                                                  \n",
       "C_ID_00007093c1          3748.264355               194   \n",
       "C_ID_0001238066          3597.027435               244   \n",
       "C_ID_0001506ef0          1679.507671                 1   \n",
       "C_ID_0001793786          7039.843671                 5   \n",
       "C_ID_000183fdda          3895.712835               285   \n",
       "\n",
       "                 installments_count_non_zeros  \n",
       "card_id                                        \n",
       "C_ID_00007093c1                           151  \n",
       "C_ID_0001238066                           145  \n",
       "C_ID_0001506ef0                             1  \n",
       "C_ID_0001793786                             5  \n",
       "C_ID_000183fdda                           150  "
      ]
     },
     "execution_count": 54,
     "metadata": {},
     "output_type": "execute_result"
    }
   ],
   "source": [
    "summed_values.head()"
   ]
  },
  {
   "cell_type": "code",
   "execution_count": 56,
   "metadata": {
    "ExecuteTime": {
     "end_time": "2019-02-05T14:07:51.986233Z",
     "start_time": "2019-02-05T14:07:51.776314Z"
    }
   },
   "outputs": [],
   "source": [
    "for col in purchases_CatsAndEts[purch_sum]:\n",
    "    purchases_CatsAndEts[col] = purchases_CatsAndEts[col].values / summed_values.purchase_amount_sum.values"
   ]
  },
  {
   "cell_type": "code",
   "execution_count": 57,
   "metadata": {
    "ExecuteTime": {
     "end_time": "2019-02-05T14:07:53.508040Z",
     "start_time": "2019-02-05T14:07:52.611341Z"
    }
   },
   "outputs": [],
   "source": [
    "for col in installments_CatsAndEts[inst_sum]:\n",
    "    installments_CatsAndEts[col] = installments_CatsAndEts[col] / summed_values.installments_sum.values"
   ]
  },
  {
   "cell_type": "code",
   "execution_count": 58,
   "metadata": {
    "ExecuteTime": {
     "end_time": "2019-02-05T14:07:54.837137Z",
     "start_time": "2019-02-05T14:07:54.184347Z"
    }
   },
   "outputs": [],
   "source": [
    "for col in installments_CatsAndEts[inst_nzeros]:\n",
    "    installments_CatsAndEts[col] = installments_CatsAndEts[col] / summed_values.installments_count_non_zeros.values"
   ]
  },
  {
   "cell_type": "code",
   "execution_count": 59,
   "metadata": {
    "ExecuteTime": {
     "end_time": "2019-02-05T14:09:38.683919Z",
     "start_time": "2019-02-05T14:09:37.458310Z"
    }
   },
   "outputs": [],
   "source": [
    "purch_and_inst_formatted = pd.merge(purchases_CatsAndEts,installments_CatsAndEts,on='card_id', how='left')"
   ]
  },
  {
   "cell_type": "code",
   "execution_count": 61,
   "metadata": {
    "ExecuteTime": {
     "end_time": "2019-02-05T14:10:33.168216Z",
     "start_time": "2019-02-05T14:10:32.772342Z"
    }
   },
   "outputs": [],
   "source": [
    "purch_and_inst_formatted.fillna(0,inplace=True)"
   ]
  },
  {
   "cell_type": "code",
   "execution_count": 62,
   "metadata": {
    "ExecuteTime": {
     "end_time": "2019-02-05T14:11:09.669282Z",
     "start_time": "2019-02-05T14:11:09.368378Z"
    }
   },
   "outputs": [],
   "source": [
    "feather.write_dataframe(purch_and_inst_formatted,'PandIformatted')"
   ]
  },
  {
   "cell_type": "code",
   "execution_count": null,
   "metadata": {},
   "outputs": [],
   "source": []
  }
 ],
 "metadata": {
  "kernelspec": {
   "display_name": "Python 3",
   "language": "python",
   "name": "python3"
  },
  "language_info": {
   "codemirror_mode": {
    "name": "ipython",
    "version": 3
   },
   "file_extension": ".py",
   "mimetype": "text/x-python",
   "name": "python",
   "nbconvert_exporter": "python",
   "pygments_lexer": "ipython3",
   "version": "3.7.1"
  }
 },
 "nbformat": 4,
 "nbformat_minor": 2
}
